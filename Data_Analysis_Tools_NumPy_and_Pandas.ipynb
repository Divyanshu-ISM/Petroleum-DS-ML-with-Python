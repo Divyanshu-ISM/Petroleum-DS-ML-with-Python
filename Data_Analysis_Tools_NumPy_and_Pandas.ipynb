{
  "nbformat": 4,
  "nbformat_minor": 0,
  "metadata": {
    "colab": {
      "name": "Data Analysis Tools : NumPy and Pandas.ipynb",
      "provenance": [],
      "authorship_tag": "ABX9TyPSoXVA/bpIKLB5LLJe+Cv8",
      "include_colab_link": true
    },
    "kernelspec": {
      "name": "python3",
      "display_name": "Python 3"
    },
    "language_info": {
      "name": "python"
    }
  },
  "cells": [
    {
      "cell_type": "markdown",
      "metadata": {
        "id": "view-in-github",
        "colab_type": "text"
      },
      "source": [
        "<a href=\"https://colab.research.google.com/github/Divyanshu-ISM/Petroleum-DS-ML-with-Python/blob/main/Data_Analysis_Tools_NumPy_and_Pandas.ipynb\" target=\"_parent\"><img src=\"https://colab.research.google.com/assets/colab-badge.svg\" alt=\"Open In Colab\"/></a>"
      ]
    },
    {
      "cell_type": "markdown",
      "metadata": {
        "id": "Ced_XJ7Wx8Le"
      },
      "source": [
        "## 1. NumPy\n",
        "\n",
        "\n",
        "NumPy (or Numpy) is a Linear Algebra Library for Python, the reason it is so important for Data Science with Python is that almost all of the libraries in the PyData Ecosystem rely on NumPy as one of their main building blocks.\n",
        "\n",
        "Numpy is also incredibly fast, as it has bindings to C libraries."
      ]
    },
    {
      "cell_type": "code",
      "metadata": {
        "id": "49dh9gX4Mgtt"
      },
      "source": [
        "#Anaconda prompt\n",
        "#pip install numpy"
      ],
      "execution_count": null,
      "outputs": []
    },
    {
      "cell_type": "code",
      "metadata": {
        "id": "oHVSMaDzwnfK"
      },
      "source": [
        "import numpy as np"
      ],
      "execution_count": 84,
      "outputs": []
    },
    {
      "cell_type": "markdown",
      "metadata": {
        "id": "Rdk9B10IyITF"
      },
      "source": [
        "Most important aspects of Numpy: vectors,arrays,matrices, and number generation."
      ]
    },
    {
      "cell_type": "markdown",
      "metadata": {
        "id": "VEBo_SD_yMdl"
      },
      "source": [
        "Disadvantage of using a list."
      ]
    },
    {
      "cell_type": "code",
      "metadata": {
        "id": "6ZPPlMgVyDw_"
      },
      "source": [
        "phi = [0.4 , 0.2, 0.35, 0.27, 0.44]\n",
        "\n",
        "# phi**2\n",
        "for i in range(5):\n",
        "  phi[i] = phi[i]**2"
      ],
      "execution_count": 89,
      "outputs": []
    },
    {
      "cell_type": "code",
      "metadata": {
        "colab": {
          "base_uri": "https://localhost:8080/"
        },
        "id": "-K62Bm_eNXyJ",
        "outputId": "67b35891-0290-4256-f4a0-8385ff1c3a61"
      },
      "source": [
        "phi"
      ],
      "execution_count": 86,
      "outputs": [
        {
          "output_type": "execute_result",
          "data": {
            "text/plain": [
              "[0.4, 0.2, 0.35, 0.27, 0.44]"
            ]
          },
          "metadata": {
            "tags": []
          },
          "execution_count": 86
        }
      ]
    },
    {
      "cell_type": "code",
      "metadata": {
        "colab": {
          "base_uri": "https://localhost:8080/"
        },
        "id": "IYYVRGClyVii",
        "outputId": "72d127f0-2990-4bfa-f1d2-48e4c364c9d1"
      },
      "source": [
        "2*phi"
      ],
      "execution_count": 3,
      "outputs": [
        {
          "output_type": "execute_result",
          "data": {
            "text/plain": [
              "[0.4, 0.2, 0.35, 0.27, 0.44, 0.4, 0.2, 0.35, 0.27, 0.44]"
            ]
          },
          "metadata": {
            "tags": []
          },
          "execution_count": 3
        }
      ]
    },
    {
      "cell_type": "markdown",
      "metadata": {
        "id": "AKhO0dKzyZXp"
      },
      "source": [
        "Not Doing what we want it to do. "
      ]
    },
    {
      "cell_type": "code",
      "metadata": {
        "colab": {
          "base_uri": "https://localhost:8080/"
        },
        "id": "f_zO7Q-qyYYy",
        "outputId": "dd63feb3-f08f-4cb3-c12d-417b317183c2"
      },
      "source": [
        "#Let's convert the list to a numpy array and do it again. \n",
        "phi_array = np.array(phi)\n",
        "\n",
        "phi_array**0.5"
      ],
      "execution_count": 90,
      "outputs": [
        {
          "output_type": "execute_result",
          "data": {
            "text/plain": [
              "array([0.4 , 0.2 , 0.35, 0.27, 0.44])"
            ]
          },
          "metadata": {
            "tags": []
          },
          "execution_count": 90
        }
      ]
    },
    {
      "cell_type": "code",
      "metadata": {
        "colab": {
          "base_uri": "https://localhost:8080/"
        },
        "id": "Pdo7YEccylEx",
        "outputId": "d91b2c71-2327-4d53-e3fc-c9dc6cb75516"
      },
      "source": [
        "#A 2D Matrix\n",
        "my_matrix = [[1,2,3],[4,5,6],[7,8,9]]\n",
        "my_matrix"
      ],
      "execution_count": 5,
      "outputs": [
        {
          "output_type": "execute_result",
          "data": {
            "text/plain": [
              "[[1, 2, 3], [4, 5, 6], [7, 8, 9]]"
            ]
          },
          "metadata": {
            "tags": []
          },
          "execution_count": 5
        }
      ]
    },
    {
      "cell_type": "code",
      "metadata": {
        "colab": {
          "base_uri": "https://localhost:8080/"
        },
        "id": "xTLGcEbzyqfP",
        "outputId": "2ab15168-81d3-47ee-96e6-5456040d4848"
      },
      "source": [
        "\n",
        "A2 = np.array(my_matrix)\n",
        "\n",
        "A2**2"
      ],
      "execution_count": 91,
      "outputs": [
        {
          "output_type": "execute_result",
          "data": {
            "text/plain": [
              "array([[ 1,  4,  9],\n",
              "       [16, 25, 36],\n",
              "       [49, 64, 81]])"
            ]
          },
          "metadata": {
            "tags": []
          },
          "execution_count": 91
        }
      ]
    },
    {
      "cell_type": "markdown",
      "metadata": {
        "id": "i0ki6ZcDywsP"
      },
      "source": [
        "# Built-in methods of NumPy"
      ]
    },
    {
      "cell_type": "markdown",
      "metadata": {
        "id": "9F4PLRpmy1Mm"
      },
      "source": [
        "1. np.arange : Generating a Vector of Range of Numbers. \n",
        "\n",
        "Eg. Saturation."
      ]
    },
    {
      "cell_type": "code",
      "metadata": {
        "colab": {
          "base_uri": "https://localhost:8080/"
        },
        "id": "1JlZ01KcyusC",
        "outputId": "a416bec5-3db5-4051-f0c8-0118e6410261"
      },
      "source": [
        "Sw = np.arange(start=0 , stop = 1, step = 0.005)\n",
        "\n",
        "Sw"
      ],
      "execution_count": 92,
      "outputs": [
        {
          "output_type": "execute_result",
          "data": {
            "text/plain": [
              "array([0.   , 0.005, 0.01 , 0.015, 0.02 , 0.025, 0.03 , 0.035, 0.04 ,\n",
              "       0.045, 0.05 , 0.055, 0.06 , 0.065, 0.07 , 0.075, 0.08 , 0.085,\n",
              "       0.09 , 0.095, 0.1  , 0.105, 0.11 , 0.115, 0.12 , 0.125, 0.13 ,\n",
              "       0.135, 0.14 , 0.145, 0.15 , 0.155, 0.16 , 0.165, 0.17 , 0.175,\n",
              "       0.18 , 0.185, 0.19 , 0.195, 0.2  , 0.205, 0.21 , 0.215, 0.22 ,\n",
              "       0.225, 0.23 , 0.235, 0.24 , 0.245, 0.25 , 0.255, 0.26 , 0.265,\n",
              "       0.27 , 0.275, 0.28 , 0.285, 0.29 , 0.295, 0.3  , 0.305, 0.31 ,\n",
              "       0.315, 0.32 , 0.325, 0.33 , 0.335, 0.34 , 0.345, 0.35 , 0.355,\n",
              "       0.36 , 0.365, 0.37 , 0.375, 0.38 , 0.385, 0.39 , 0.395, 0.4  ,\n",
              "       0.405, 0.41 , 0.415, 0.42 , 0.425, 0.43 , 0.435, 0.44 , 0.445,\n",
              "       0.45 , 0.455, 0.46 , 0.465, 0.47 , 0.475, 0.48 , 0.485, 0.49 ,\n",
              "       0.495, 0.5  , 0.505, 0.51 , 0.515, 0.52 , 0.525, 0.53 , 0.535,\n",
              "       0.54 , 0.545, 0.55 , 0.555, 0.56 , 0.565, 0.57 , 0.575, 0.58 ,\n",
              "       0.585, 0.59 , 0.595, 0.6  , 0.605, 0.61 , 0.615, 0.62 , 0.625,\n",
              "       0.63 , 0.635, 0.64 , 0.645, 0.65 , 0.655, 0.66 , 0.665, 0.67 ,\n",
              "       0.675, 0.68 , 0.685, 0.69 , 0.695, 0.7  , 0.705, 0.71 , 0.715,\n",
              "       0.72 , 0.725, 0.73 , 0.735, 0.74 , 0.745, 0.75 , 0.755, 0.76 ,\n",
              "       0.765, 0.77 , 0.775, 0.78 , 0.785, 0.79 , 0.795, 0.8  , 0.805,\n",
              "       0.81 , 0.815, 0.82 , 0.825, 0.83 , 0.835, 0.84 , 0.845, 0.85 ,\n",
              "       0.855, 0.86 , 0.865, 0.87 , 0.875, 0.88 , 0.885, 0.89 , 0.895,\n",
              "       0.9  , 0.905, 0.91 , 0.915, 0.92 , 0.925, 0.93 , 0.935, 0.94 ,\n",
              "       0.945, 0.95 , 0.955, 0.96 , 0.965, 0.97 , 0.975, 0.98 , 0.985,\n",
              "       0.99 , 0.995])"
            ]
          },
          "metadata": {
            "tags": []
          },
          "execution_count": 92
        }
      ]
    },
    {
      "cell_type": "markdown",
      "metadata": {
        "id": "4qoEy36RzL7e"
      },
      "source": [
        "2. Generate a Matrix/Array of 0s or 1s."
      ]
    },
    {
      "cell_type": "code",
      "metadata": {
        "colab": {
          "base_uri": "https://localhost:8080/"
        },
        "id": "mBMCdeLPzHhF",
        "outputId": "c9bc88f3-477b-496e-9208-25425ec60118"
      },
      "source": [
        "np.zeros((10,10))"
      ],
      "execution_count": 93,
      "outputs": [
        {
          "output_type": "execute_result",
          "data": {
            "text/plain": [
              "array([[0., 0., 0., 0., 0., 0., 0., 0., 0., 0.],\n",
              "       [0., 0., 0., 0., 0., 0., 0., 0., 0., 0.],\n",
              "       [0., 0., 0., 0., 0., 0., 0., 0., 0., 0.],\n",
              "       [0., 0., 0., 0., 0., 0., 0., 0., 0., 0.],\n",
              "       [0., 0., 0., 0., 0., 0., 0., 0., 0., 0.],\n",
              "       [0., 0., 0., 0., 0., 0., 0., 0., 0., 0.],\n",
              "       [0., 0., 0., 0., 0., 0., 0., 0., 0., 0.],\n",
              "       [0., 0., 0., 0., 0., 0., 0., 0., 0., 0.],\n",
              "       [0., 0., 0., 0., 0., 0., 0., 0., 0., 0.],\n",
              "       [0., 0., 0., 0., 0., 0., 0., 0., 0., 0.]])"
            ]
          },
          "metadata": {
            "tags": []
          },
          "execution_count": 93
        }
      ]
    },
    {
      "cell_type": "code",
      "metadata": {
        "id": "mLQeRkRdzSO-"
      },
      "source": [
        "P = np.ones((10,10))\n",
        "Pi = 5000 #psi\n",
        "P = P*Pi"
      ],
      "execution_count": 95,
      "outputs": []
    },
    {
      "cell_type": "code",
      "metadata": {
        "colab": {
          "base_uri": "https://localhost:8080/"
        },
        "id": "7hI5zAYePn_R",
        "outputId": "372379d4-697c-42f4-ab8d-f840c607d784"
      },
      "source": [
        "P"
      ],
      "execution_count": 96,
      "outputs": [
        {
          "output_type": "execute_result",
          "data": {
            "text/plain": [
              "array([[5000., 5000., 5000., 5000., 5000., 5000., 5000., 5000., 5000.,\n",
              "        5000.],\n",
              "       [5000., 5000., 5000., 5000., 5000., 5000., 5000., 5000., 5000.,\n",
              "        5000.],\n",
              "       [5000., 5000., 5000., 5000., 5000., 5000., 5000., 5000., 5000.,\n",
              "        5000.],\n",
              "       [5000., 5000., 5000., 5000., 5000., 5000., 5000., 5000., 5000.,\n",
              "        5000.],\n",
              "       [5000., 5000., 5000., 5000., 5000., 5000., 5000., 5000., 5000.,\n",
              "        5000.],\n",
              "       [5000., 5000., 5000., 5000., 5000., 5000., 5000., 5000., 5000.,\n",
              "        5000.],\n",
              "       [5000., 5000., 5000., 5000., 5000., 5000., 5000., 5000., 5000.,\n",
              "        5000.],\n",
              "       [5000., 5000., 5000., 5000., 5000., 5000., 5000., 5000., 5000.,\n",
              "        5000.],\n",
              "       [5000., 5000., 5000., 5000., 5000., 5000., 5000., 5000., 5000.,\n",
              "        5000.],\n",
              "       [5000., 5000., 5000., 5000., 5000., 5000., 5000., 5000., 5000.,\n",
              "        5000.]])"
            ]
          },
          "metadata": {
            "tags": []
          },
          "execution_count": 96
        }
      ]
    },
    {
      "cell_type": "markdown",
      "metadata": {
        "id": "i_8mXSf0zZli"
      },
      "source": [
        "3. np.linspace : Create a Linearly Spaced vector."
      ]
    },
    {
      "cell_type": "code",
      "metadata": {
        "colab": {
          "base_uri": "https://localhost:8080/"
        },
        "id": "Y-yT0QOuzUyQ",
        "outputId": "b16af65a-a086-4459-9b85-1df071f61f17"
      },
      "source": [
        "np.linspace(start = 0 , stop = 1 , num = 100)"
      ],
      "execution_count": 98,
      "outputs": [
        {
          "output_type": "execute_result",
          "data": {
            "text/plain": [
              "array([0.        , 0.01010101, 0.02020202, 0.03030303, 0.04040404,\n",
              "       0.05050505, 0.06060606, 0.07070707, 0.08080808, 0.09090909,\n",
              "       0.1010101 , 0.11111111, 0.12121212, 0.13131313, 0.14141414,\n",
              "       0.15151515, 0.16161616, 0.17171717, 0.18181818, 0.19191919,\n",
              "       0.2020202 , 0.21212121, 0.22222222, 0.23232323, 0.24242424,\n",
              "       0.25252525, 0.26262626, 0.27272727, 0.28282828, 0.29292929,\n",
              "       0.3030303 , 0.31313131, 0.32323232, 0.33333333, 0.34343434,\n",
              "       0.35353535, 0.36363636, 0.37373737, 0.38383838, 0.39393939,\n",
              "       0.4040404 , 0.41414141, 0.42424242, 0.43434343, 0.44444444,\n",
              "       0.45454545, 0.46464646, 0.47474747, 0.48484848, 0.49494949,\n",
              "       0.50505051, 0.51515152, 0.52525253, 0.53535354, 0.54545455,\n",
              "       0.55555556, 0.56565657, 0.57575758, 0.58585859, 0.5959596 ,\n",
              "       0.60606061, 0.61616162, 0.62626263, 0.63636364, 0.64646465,\n",
              "       0.65656566, 0.66666667, 0.67676768, 0.68686869, 0.6969697 ,\n",
              "       0.70707071, 0.71717172, 0.72727273, 0.73737374, 0.74747475,\n",
              "       0.75757576, 0.76767677, 0.77777778, 0.78787879, 0.7979798 ,\n",
              "       0.80808081, 0.81818182, 0.82828283, 0.83838384, 0.84848485,\n",
              "       0.85858586, 0.86868687, 0.87878788, 0.88888889, 0.8989899 ,\n",
              "       0.90909091, 0.91919192, 0.92929293, 0.93939394, 0.94949495,\n",
              "       0.95959596, 0.96969697, 0.97979798, 0.98989899, 1.        ])"
            ]
          },
          "metadata": {
            "tags": []
          },
          "execution_count": 98
        }
      ]
    },
    {
      "cell_type": "markdown",
      "metadata": {
        "id": "agNl_qr1zo-3"
      },
      "source": [
        "4. np.eye : Create an Identity Matrix."
      ]
    },
    {
      "cell_type": "code",
      "metadata": {
        "colab": {
          "base_uri": "https://localhost:8080/"
        },
        "id": "SY2d7-jPzkN3",
        "outputId": "9261f919-0db2-45ad-9b8c-85946565f676"
      },
      "source": [
        "np.eye(5) # 4x4 Identity Matrix"
      ],
      "execution_count": 99,
      "outputs": [
        {
          "output_type": "execute_result",
          "data": {
            "text/plain": [
              "array([[1., 0., 0., 0., 0.],\n",
              "       [0., 1., 0., 0., 0.],\n",
              "       [0., 0., 1., 0., 0.],\n",
              "       [0., 0., 0., 1., 0.],\n",
              "       [0., 0., 0., 0., 1.]])"
            ]
          },
          "metadata": {
            "tags": []
          },
          "execution_count": 99
        }
      ]
    },
    {
      "cell_type": "markdown",
      "metadata": {
        "id": "9X2fIOtIz0w7"
      },
      "source": [
        "## NumPy's Random Number Generation Capabilities."
      ]
    },
    {
      "cell_type": "markdown",
      "metadata": {
        "id": "lZgwj5PZ0kkG"
      },
      "source": [
        "Generate 3 Random Numbers from a Uniform Distribution in [0,1) interval"
      ]
    },
    {
      "cell_type": "code",
      "metadata": {
        "colab": {
          "base_uri": "https://localhost:8080/"
        },
        "id": "QM3Dz3hWzwxi",
        "outputId": "c51e4e8d-d63e-4cd6-b688-d506a11bd1b8"
      },
      "source": [
        "np.random.rand(3)"
      ],
      "execution_count": 101,
      "outputs": [
        {
          "output_type": "execute_result",
          "data": {
            "text/plain": [
              "array([0.29765699, 0.98903906, 0.22353677])"
            ]
          },
          "metadata": {
            "tags": []
          },
          "execution_count": 101
        }
      ]
    },
    {
      "cell_type": "markdown",
      "metadata": {
        "id": "lMOeKfpY0xTV"
      },
      "source": [
        "Generate 5 Random Samples from Standard Normal Distribution."
      ]
    },
    {
      "cell_type": "code",
      "metadata": {
        "colab": {
          "base_uri": "https://localhost:8080/"
        },
        "id": "L6DuVu4B0ar4",
        "outputId": "c8b15458-3fa9-4592-bd43-57e05eb58921"
      },
      "source": [
        "np.random.randn(5)"
      ],
      "execution_count": 16,
      "outputs": [
        {
          "output_type": "execute_result",
          "data": {
            "text/plain": [
              "array([ 1.37710354, -2.01278539,  1.66007349,  1.88203505, -0.35254634])"
            ]
          },
          "metadata": {
            "tags": []
          },
          "execution_count": 16
        }
      ]
    },
    {
      "cell_type": "code",
      "metadata": {
        "colab": {
          "base_uri": "https://localhost:8080/"
        },
        "id": "9yL0TyEa03mQ",
        "outputId": "7e4ccca8-1b20-4d51-cded-b927c6f5fc07"
      },
      "source": [
        "#MAtrix containing all SND values. \n",
        "np.random.randn(7000,5)"
      ],
      "execution_count": 102,
      "outputs": [
        {
          "output_type": "execute_result",
          "data": {
            "text/plain": [
              "array([[ 1.96773329,  1.32788049,  0.12659496,  1.72309875, -0.07746591],\n",
              "       [ 1.82787214,  0.30832428,  0.64173028, -0.55261589,  0.90131923],\n",
              "       [-0.70942399,  2.5530326 ,  1.9371735 , -0.48668674,  0.17080277],\n",
              "       ...,\n",
              "       [-1.43510458,  0.30860086,  0.43482077,  0.42544275, -0.08406665],\n",
              "       [-0.67506255, -1.19003494,  1.74330016,  0.66187072, -0.73667764],\n",
              "       [ 1.14218215,  0.42645458, -0.59164283,  0.31159763,  0.93865275]])"
            ]
          },
          "metadata": {
            "tags": []
          },
          "execution_count": 102
        }
      ]
    },
    {
      "cell_type": "markdown",
      "metadata": {
        "id": "pn7fjP-r1JvA"
      },
      "source": [
        "'Randint' to generate random integers."
      ]
    },
    {
      "cell_type": "code",
      "metadata": {
        "colab": {
          "base_uri": "https://localhost:8080/"
        },
        "id": "dmAVjrmu1JO6",
        "outputId": "20df51b3-a46b-4fc0-8312-def84d2ca4b0"
      },
      "source": [
        "np.random.randint(low=1, high=100, size=10)"
      ],
      "execution_count": 103,
      "outputs": [
        {
          "output_type": "execute_result",
          "data": {
            "text/plain": [
              "array([25, 71, 64, 96, 74,  8, 60, 24,  6, 83])"
            ]
          },
          "metadata": {
            "tags": []
          },
          "execution_count": 103
        }
      ]
    },
    {
      "cell_type": "markdown",
      "metadata": {
        "id": "R3FUv1Gb1Fvr"
      },
      "source": [
        "## Shape and Reshape of an array"
      ]
    },
    {
      "cell_type": "code",
      "metadata": {
        "colab": {
          "base_uri": "https://localhost:8080/"
        },
        "id": "DPn3libE09jU",
        "outputId": "faf9885c-dbc1-45ba-8d7d-7b645e03e18e"
      },
      "source": [
        "# 1. Reshaping a 100 value arrray to a 10x10 matrix. \n",
        "v100 = np.linspace(0,1,100)\n",
        "v100.shape\n",
        "v100"
      ],
      "execution_count": 105,
      "outputs": [
        {
          "output_type": "execute_result",
          "data": {
            "text/plain": [
              "array([0.        , 0.01010101, 0.02020202, 0.03030303, 0.04040404,\n",
              "       0.05050505, 0.06060606, 0.07070707, 0.08080808, 0.09090909,\n",
              "       0.1010101 , 0.11111111, 0.12121212, 0.13131313, 0.14141414,\n",
              "       0.15151515, 0.16161616, 0.17171717, 0.18181818, 0.19191919,\n",
              "       0.2020202 , 0.21212121, 0.22222222, 0.23232323, 0.24242424,\n",
              "       0.25252525, 0.26262626, 0.27272727, 0.28282828, 0.29292929,\n",
              "       0.3030303 , 0.31313131, 0.32323232, 0.33333333, 0.34343434,\n",
              "       0.35353535, 0.36363636, 0.37373737, 0.38383838, 0.39393939,\n",
              "       0.4040404 , 0.41414141, 0.42424242, 0.43434343, 0.44444444,\n",
              "       0.45454545, 0.46464646, 0.47474747, 0.48484848, 0.49494949,\n",
              "       0.50505051, 0.51515152, 0.52525253, 0.53535354, 0.54545455,\n",
              "       0.55555556, 0.56565657, 0.57575758, 0.58585859, 0.5959596 ,\n",
              "       0.60606061, 0.61616162, 0.62626263, 0.63636364, 0.64646465,\n",
              "       0.65656566, 0.66666667, 0.67676768, 0.68686869, 0.6969697 ,\n",
              "       0.70707071, 0.71717172, 0.72727273, 0.73737374, 0.74747475,\n",
              "       0.75757576, 0.76767677, 0.77777778, 0.78787879, 0.7979798 ,\n",
              "       0.80808081, 0.81818182, 0.82828283, 0.83838384, 0.84848485,\n",
              "       0.85858586, 0.86868687, 0.87878788, 0.88888889, 0.8989899 ,\n",
              "       0.90909091, 0.91919192, 0.92929293, 0.93939394, 0.94949495,\n",
              "       0.95959596, 0.96969697, 0.97979798, 0.98989899, 1.        ])"
            ]
          },
          "metadata": {
            "tags": []
          },
          "execution_count": 105
        }
      ]
    },
    {
      "cell_type": "code",
      "metadata": {
        "colab": {
          "base_uri": "https://localhost:8080/"
        },
        "id": "gso5rcyp1z5T",
        "outputId": "c4950b2a-3be8-4c52-ce08-d84c2d20d1fb"
      },
      "source": [
        "m10_10 = v100.reshape(10,10)\n",
        "m10_10.shape"
      ],
      "execution_count": 107,
      "outputs": [
        {
          "output_type": "execute_result",
          "data": {
            "text/plain": [
              "(10, 10)"
            ]
          },
          "metadata": {
            "tags": []
          },
          "execution_count": 107
        }
      ]
    },
    {
      "cell_type": "code",
      "metadata": {
        "colab": {
          "base_uri": "https://localhost:8080/"
        },
        "id": "SIpEPWHu13X_",
        "outputId": "90836790-6455-41f0-ebbd-e615d6a7a129"
      },
      "source": [
        "m10_10.shape"
      ],
      "execution_count": 22,
      "outputs": [
        {
          "output_type": "execute_result",
          "data": {
            "text/plain": [
              "(10, 10)"
            ]
          },
          "metadata": {
            "tags": []
          },
          "execution_count": 22
        }
      ]
    },
    {
      "cell_type": "markdown",
      "metadata": {
        "id": "sC7qq7T21_Se"
      },
      "source": [
        "### max-min-argmax-argmin. \n",
        "\n",
        "1. np.max : returns max value in array. \n",
        "2. np.min : returns min value in array. \n",
        "3. np.argmax : returns positon (index) of max value. \n",
        "4. np.argmin : \" \" of min value."
      ]
    },
    {
      "cell_type": "code",
      "metadata": {
        "id": "iAYqGlEY17Kd"
      },
      "source": [
        "ranarr = np.random.randint(0,50,15)"
      ],
      "execution_count": 108,
      "outputs": []
    },
    {
      "cell_type": "code",
      "metadata": {
        "colab": {
          "base_uri": "https://localhost:8080/"
        },
        "id": "NT9Jkr402Wmy",
        "outputId": "59bb3805-8d83-4668-b835-6ef8f4bb2e5e"
      },
      "source": [
        "ranarr"
      ],
      "execution_count": 114,
      "outputs": [
        {
          "output_type": "execute_result",
          "data": {
            "text/plain": [
              "array([14, 24, 26,  8, 27,  9,  8, 43, 44, 10, 46, 42,  2, 27, 37])"
            ]
          },
          "metadata": {
            "tags": []
          },
          "execution_count": 114
        }
      ]
    },
    {
      "cell_type": "code",
      "metadata": {
        "colab": {
          "base_uri": "https://localhost:8080/"
        },
        "id": "y3W9soMg2Y-r",
        "outputId": "40f1e005-c9f6-4197-880a-a9377796882f"
      },
      "source": [
        "ranarr[np.argmin(ranarr)]"
      ],
      "execution_count": 116,
      "outputs": [
        {
          "output_type": "execute_result",
          "data": {
            "text/plain": [
              "2"
            ]
          },
          "metadata": {
            "tags": []
          },
          "execution_count": 116
        }
      ]
    },
    {
      "cell_type": "code",
      "metadata": {
        "colab": {
          "base_uri": "https://localhost:8080/"
        },
        "id": "Vza6x5tY2yKu",
        "outputId": "efdb662f-b559-4842-a4c6-1e786de74771"
      },
      "source": [
        "np.max(ranarr)"
      ],
      "execution_count": 111,
      "outputs": [
        {
          "output_type": "execute_result",
          "data": {
            "text/plain": [
              "46"
            ]
          },
          "metadata": {
            "tags": []
          },
          "execution_count": 111
        }
      ]
    },
    {
      "cell_type": "code",
      "metadata": {
        "colab": {
          "base_uri": "https://localhost:8080/"
        },
        "id": "4vBN3oi422e7",
        "outputId": "7b136890-cd62-49f6-cf80-0c97e7c78202"
      },
      "source": [
        "np.argmin(ranarr)"
      ],
      "execution_count": 28,
      "outputs": [
        {
          "output_type": "execute_result",
          "data": {
            "text/plain": [
              "4"
            ]
          },
          "metadata": {
            "tags": []
          },
          "execution_count": 28
        }
      ]
    },
    {
      "cell_type": "code",
      "metadata": {
        "colab": {
          "base_uri": "https://localhost:8080/"
        },
        "id": "SXGOQx1M25GJ",
        "outputId": "08f26e1d-7213-43f4-cd54-6df1992e4004"
      },
      "source": [
        "ranarr[2]"
      ],
      "execution_count": 113,
      "outputs": [
        {
          "output_type": "execute_result",
          "data": {
            "text/plain": [
              "26"
            ]
          },
          "metadata": {
            "tags": []
          },
          "execution_count": 113
        }
      ]
    },
    {
      "cell_type": "code",
      "metadata": {
        "colab": {
          "base_uri": "https://localhost:8080/"
        },
        "id": "zEqOu7x0267i",
        "outputId": "8c159e29-13fd-4b94-ee11-05af98c0d5c7"
      },
      "source": [
        "np.argmax(ranarr)"
      ],
      "execution_count": 30,
      "outputs": [
        {
          "output_type": "execute_result",
          "data": {
            "text/plain": [
              "8"
            ]
          },
          "metadata": {
            "tags": []
          },
          "execution_count": 30
        }
      ]
    },
    {
      "cell_type": "code",
      "metadata": {
        "colab": {
          "base_uri": "https://localhost:8080/"
        },
        "id": "jF96v_Sp2-_h",
        "outputId": "de4d5ec0-0c11-46d8-cdfc-b7f254552354"
      },
      "source": [
        "ranarr[8]"
      ],
      "execution_count": 31,
      "outputs": [
        {
          "output_type": "execute_result",
          "data": {
            "text/plain": [
              "48"
            ]
          },
          "metadata": {
            "tags": []
          },
          "execution_count": 31
        }
      ]
    },
    {
      "cell_type": "markdown",
      "metadata": {
        "id": "GYz7lOJq3Wxt"
      },
      "source": [
        "## Indexing, Selection and Broadcasting."
      ]
    },
    {
      "cell_type": "code",
      "metadata": {
        "id": "X9Qzrcu73BQC"
      },
      "source": [
        "arr = np.linspace(0,1,10)"
      ],
      "execution_count": 33,
      "outputs": []
    },
    {
      "cell_type": "code",
      "metadata": {
        "colab": {
          "base_uri": "https://localhost:8080/"
        },
        "id": "mZgFMkOZ3odi",
        "outputId": "8106a737-d8db-4125-8e80-84262c40b930"
      },
      "source": [
        "arr"
      ],
      "execution_count": 34,
      "outputs": [
        {
          "output_type": "execute_result",
          "data": {
            "text/plain": [
              "array([0.        , 0.11111111, 0.22222222, 0.33333333, 0.44444444,\n",
              "       0.55555556, 0.66666667, 0.77777778, 0.88888889, 1.        ])"
            ]
          },
          "metadata": {
            "tags": []
          },
          "execution_count": 34
        }
      ]
    },
    {
      "cell_type": "code",
      "metadata": {
        "id": "LBSn1Wjq3ugT"
      },
      "source": [
        "#indexing. Just like lists"
      ],
      "execution_count": 35,
      "outputs": []
    },
    {
      "cell_type": "code",
      "metadata": {
        "colab": {
          "base_uri": "https://localhost:8080/"
        },
        "id": "gup8Wkfj30ky",
        "outputId": "629f4ef9-ce43-4566-dc84-2e724c6cdb50"
      },
      "source": [
        "arr[7]"
      ],
      "execution_count": 36,
      "outputs": [
        {
          "output_type": "execute_result",
          "data": {
            "text/plain": [
              "0.7777777777777777"
            ]
          },
          "metadata": {
            "tags": []
          },
          "execution_count": 36
        }
      ]
    },
    {
      "cell_type": "code",
      "metadata": {
        "colab": {
          "base_uri": "https://localhost:8080/"
        },
        "id": "Hvs-4Ins31qp",
        "outputId": "802af69e-a0f7-4aea-8949-fdf0d2f49125"
      },
      "source": [
        "#slicing. \n",
        "arr[0:7]"
      ],
      "execution_count": 37,
      "outputs": [
        {
          "output_type": "execute_result",
          "data": {
            "text/plain": [
              "array([0.        , 0.11111111, 0.22222222, 0.33333333, 0.44444444,\n",
              "       0.55555556, 0.66666667])"
            ]
          },
          "metadata": {
            "tags": []
          },
          "execution_count": 37
        }
      ]
    },
    {
      "cell_type": "code",
      "metadata": {
        "colab": {
          "base_uri": "https://localhost:8080/"
        },
        "id": "BIDCOlgy34fW",
        "outputId": "9ddcaaa7-9f3d-4ed0-edc7-3297a3b6e99e"
      },
      "source": [
        "#Note that a slice is the view of the same array than a new array. \n",
        "#Any changes made to the slice are reflected in the array. \n",
        "arr[0:3] = 1000\n",
        "arr"
      ],
      "execution_count": 38,
      "outputs": [
        {
          "output_type": "execute_result",
          "data": {
            "text/plain": [
              "array([1.00000000e+03, 1.00000000e+03, 1.00000000e+03, 3.33333333e-01,\n",
              "       4.44444444e-01, 5.55555556e-01, 6.66666667e-01, 7.77777778e-01,\n",
              "       8.88888889e-01, 1.00000000e+00])"
            ]
          },
          "metadata": {
            "tags": []
          },
          "execution_count": 38
        }
      ]
    },
    {
      "cell_type": "code",
      "metadata": {
        "id": "6Ki6ehJf4GXn"
      },
      "source": [
        "#In order to prevent that from happening. make a copy. \n",
        "\n",
        "# slice_array_version = array.copy()"
      ],
      "execution_count": 40,
      "outputs": []
    },
    {
      "cell_type": "markdown",
      "metadata": {
        "id": "omB4Lynr4YKV"
      },
      "source": [
        "### Indexing a 2D array/"
      ]
    },
    {
      "cell_type": "code",
      "metadata": {
        "colab": {
          "base_uri": "https://localhost:8080/"
        },
        "id": "wqu6_7c54S3H",
        "outputId": "49c50be6-f9b4-4d50-a89c-8dbfa4474f6b"
      },
      "source": [
        "a2d = np.array(([5,10,15],[20,25,30],[35,40,45]))\n",
        "\n",
        "a2d"
      ],
      "execution_count": 41,
      "outputs": [
        {
          "output_type": "execute_result",
          "data": {
            "text/plain": [
              "array([[ 5, 10, 15],\n",
              "       [20, 25, 30],\n",
              "       [35, 40, 45]])"
            ]
          },
          "metadata": {
            "tags": []
          },
          "execution_count": 41
        }
      ]
    },
    {
      "cell_type": "code",
      "metadata": {
        "colab": {
          "base_uri": "https://localhost:8080/"
        },
        "id": "AZFrG4G44dy_",
        "outputId": "b040fc20-b450-44e9-d404-30f59137a884"
      },
      "source": [
        "a2d[0,1]"
      ],
      "execution_count": 43,
      "outputs": [
        {
          "output_type": "execute_result",
          "data": {
            "text/plain": [
              "10"
            ]
          },
          "metadata": {
            "tags": []
          },
          "execution_count": 43
        }
      ]
    },
    {
      "cell_type": "code",
      "metadata": {
        "id": "tK2qqIMo4hRd"
      },
      "source": [
        "# a2d[ rowmin : rowmax+1 , :]"
      ],
      "execution_count": 44,
      "outputs": []
    },
    {
      "cell_type": "code",
      "metadata": {
        "colab": {
          "base_uri": "https://localhost:8080/"
        },
        "id": "c9mZA9p44n8Q",
        "outputId": "093b5799-26ac-4b15-815f-a74f3ddf8a5f"
      },
      "source": [
        "a2d[:2,1:]"
      ],
      "execution_count": 45,
      "outputs": [
        {
          "output_type": "execute_result",
          "data": {
            "text/plain": [
              "array([[10, 15],\n",
              "       [25, 30]])"
            ]
          },
          "metadata": {
            "tags": []
          },
          "execution_count": 45
        }
      ]
    },
    {
      "cell_type": "markdown",
      "metadata": {
        "id": "Bu811q-u4tgE"
      },
      "source": [
        "## Selection based on a condition"
      ]
    },
    {
      "cell_type": "code",
      "metadata": {
        "colab": {
          "base_uri": "https://localhost:8080/"
        },
        "id": "gmBIqJoe4qXR",
        "outputId": "a4a2ec1a-61ee-43be-d401-cb363dbf1ce6"
      },
      "source": [
        "Marks = np.random.randint(1,100,1000)\n",
        "\n",
        "Marks"
      ],
      "execution_count": 117,
      "outputs": [
        {
          "output_type": "execute_result",
          "data": {
            "text/plain": [
              "array([36, 63, 34, 66, 94, 26, 33, 68, 84, 46, 21, 44, 73,  5,  5,  1, 44,\n",
              "       48,  2, 71, 81, 55, 66, 27, 59, 55, 11, 55, 21, 11, 84, 34, 27, 37,\n",
              "       13, 31, 19, 36, 39, 81, 94, 23, 17, 22, 69, 65, 41, 36, 64, 12, 77,\n",
              "       66, 62, 11, 92, 53, 13, 75, 80, 20, 90, 69, 87, 41, 50,  2, 75, 76,\n",
              "       27, 82, 90, 25, 39, 82, 87, 41, 20, 80, 64,  9, 58, 35, 44, 83, 17,\n",
              "       30, 97, 25, 39, 27,  6, 81, 77, 67, 75, 69, 79,  6, 95, 26, 98, 71,\n",
              "       15, 60, 88, 62, 25,  1, 89, 81, 39, 23, 26,  5, 68, 74, 29, 29, 70,\n",
              "       98, 20, 31,  5, 53, 64, 11, 75, 80, 88, 73, 83, 36, 19, 14,  2, 13,\n",
              "       76,  4, 15, 79, 53, 15, 19, 72, 22, 88, 14, 11, 68, 12, 11, 81, 34,\n",
              "       80, 57, 68, 99, 57, 57, 77, 33, 46, 21, 73, 84, 18, 76, 49, 69, 70,\n",
              "        8, 96, 86, 93, 52, 22,  4, 26, 35, 24, 94, 23, 35, 11, 83, 15, 40,\n",
              "       20, 67, 96, 54, 67, 50, 47,  6, 88, 23, 93, 69, 96, 81, 82, 37, 26,\n",
              "       59, 72, 55, 52, 56, 45,  9, 14, 98,  5, 57, 54, 44, 77, 70, 69, 95,\n",
              "       75, 78, 12, 49, 55, 64, 65, 89, 59, 79, 90, 75, 19, 32, 20, 25, 21,\n",
              "       31, 78, 81, 34, 31,  3,  8, 68, 63,  9, 17, 84, 33, 66,  8, 27, 58,\n",
              "       30, 16, 96, 22, 49, 66, 51,  6, 63, 75, 28, 80, 43, 77, 30, 75, 63,\n",
              "       76, 88, 35, 55, 80, 20, 95, 75,  7, 11, 23,  4, 71,  7, 24, 11, 80,\n",
              "       11, 67, 96, 72, 56, 78, 11, 39, 63,  9, 21, 17, 89, 25, 99, 70, 78,\n",
              "       16, 28, 99, 58,  3, 30, 90, 48, 58, 21,  8, 83, 10, 24, 91, 89, 89,\n",
              "       30, 26, 44, 82, 14, 59, 45, 15, 83, 42, 44, 70, 93, 94, 38, 91,  6,\n",
              "       16, 52, 83, 19, 40, 70, 91, 82,  9, 82, 50, 49, 82, 90, 24, 87, 67,\n",
              "       63,  7, 35, 57, 36, 56, 27, 10, 70, 44, 45, 84, 11, 75, 64, 67, 33,\n",
              "       45, 79, 32, 91, 56, 57, 47, 95, 80, 67, 81, 27, 84, 10, 26, 83, 79,\n",
              "       79, 37, 40, 56, 27, 34,  2, 22, 76, 74, 24, 26, 32, 45, 80, 90, 16,\n",
              "       61, 35, 59, 65, 84, 36, 30, 51, 93,  6, 53, 57, 69, 32, 10, 63,  5,\n",
              "       58, 38, 79, 54,  9, 72, 47, 92, 34, 14, 10, 42, 26, 91, 24, 84,  8,\n",
              "       84, 65,  7, 15, 72,  6, 88, 53, 10, 66, 46, 91, 39, 50, 30, 56, 45,\n",
              "       14, 84, 31, 54, 59, 64, 24, 82, 19, 32, 49,  9, 19, 42, 63, 22, 11,\n",
              "       46, 67, 14, 48, 11, 45, 75, 75, 58,  5, 21, 55, 61, 97, 89, 20,  4,\n",
              "       86, 91, 87, 45,  9, 56, 94, 75, 65, 17, 85,  9, 75, 33, 40, 64,  8,\n",
              "       10, 93, 82, 78, 75, 41,  3, 46, 30, 11, 53, 61, 79, 86, 31, 75,  8,\n",
              "       68, 50, 36, 95, 95, 34, 86, 88, 74, 93, 57, 64,  4, 72, 69, 87, 39,\n",
              "       46, 74, 11, 46, 44,  9, 95, 99, 92,  4, 92, 36, 95, 36, 79, 50, 91,\n",
              "       88, 66, 63, 24, 98, 81, 25, 89, 65, 39, 61, 42, 10, 64, 98, 56, 69,\n",
              "       49, 72, 65, 39, 30, 57, 54,  7, 94, 45, 40, 58, 74,  8, 92, 91, 58,\n",
              "       21, 34, 90, 10,  4, 97, 31, 92,  8,  5, 72, 64, 81, 49, 57,  5, 97,\n",
              "       69, 91, 26, 42, 86, 16, 10, 75, 48, 38, 27, 10, 41, 48, 10, 99, 72,\n",
              "       55, 22, 88,  1, 44, 83, 36, 42, 85, 42, 67, 24, 61, 22, 83, 31, 61,\n",
              "       64, 34, 80, 44, 34, 69, 52,  5,  2, 47,  3, 49, 55, 50, 65, 87, 96,\n",
              "       41, 83, 21, 42,  8, 18, 72, 91, 30, 50, 26, 37, 62, 31, 37,  8, 67,\n",
              "       86, 52, 54, 65, 26, 89,  8, 84, 58, 98, 98,  4, 97, 53, 38, 18, 52,\n",
              "       19, 63, 10, 72, 98, 53, 81, 72, 85, 90, 25, 23, 29, 12, 17, 58, 56,\n",
              "       47, 81,  4, 53, 48,  2, 90, 63, 76, 51, 81, 20, 74, 29, 66, 75, 17,\n",
              "       56, 82, 97, 34, 23, 46, 77, 88, 97, 36, 55, 18,  5, 34, 40, 95, 31,\n",
              "       39, 63, 56, 79, 39, 73, 60, 85, 46, 67, 34, 81, 54, 32, 23, 39,  2,\n",
              "       58, 88, 67, 40, 90, 59, 39, 15, 80, 64, 78, 42, 32, 36,  7, 98, 26,\n",
              "       36, 35, 99, 94, 43,  8, 35, 88, 42, 50, 11, 71, 52, 39, 85, 70, 47,\n",
              "       55, 11, 51,  1,  9, 56, 88, 31, 77, 62, 83, 48, 61, 47,  8, 92, 73,\n",
              "       97, 44, 43, 91, 50, 10, 45, 13, 73, 83, 23, 15, 94, 34, 74, 41, 34,\n",
              "       65, 18, 33, 77, 66,  1, 76, 26, 54, 29, 62, 50, 24, 34, 61, 12, 60,\n",
              "       53, 46,  2, 96,  6,  1, 50, 98, 80, 55, 41, 23, 44, 31, 56, 11, 68,\n",
              "       86, 30, 87, 90, 58,  5, 34,  5, 28, 81, 91,  2, 58, 32, 72, 96,  6,\n",
              "       13, 47, 55, 12, 23, 54, 83, 12,  8,  8, 65, 44, 89, 57, 21, 48, 46,\n",
              "       67,  1, 63,  9, 75, 37, 17, 77, 71, 91, 16, 28, 96, 70, 50, 48, 13,\n",
              "       74, 57, 76, 98,  1, 32, 26, 99, 68, 41, 15, 53,  6, 62, 64, 39, 68,\n",
              "       87, 13, 75, 31, 65, 97, 71,  9, 52, 48, 91, 77, 42, 47, 48,  4, 14,\n",
              "       36, 77, 13, 25,  1, 13, 64, 24, 54, 98, 89, 98, 11, 16, 64,  3, 17,\n",
              "       61, 75, 43, 33, 69,  6, 23, 51, 25, 89, 51, 95, 15, 80,  9, 68, 12,\n",
              "       92, 37, 70, 51,  7, 90, 68,  2, 14,  8, 15,  7, 50, 93])"
            ]
          },
          "metadata": {
            "tags": []
          },
          "execution_count": 117
        }
      ]
    },
    {
      "cell_type": "code",
      "metadata": {
        "id": "_VqJx6yn4zDG"
      },
      "source": [
        "selected = Marks[Marks>75]"
      ],
      "execution_count": 50,
      "outputs": []
    },
    {
      "cell_type": "code",
      "metadata": {
        "id": "J0NPyAq5UtDs",
        "outputId": "25b0a3bc-3556-452c-b587-04df5d4bb6ba",
        "colab": {
          "base_uri": "https://localhost:8080/"
        }
      },
      "source": [
        "Marks[Marks>75].shape"
      ],
      "execution_count": 120,
      "outputs": [
        {
          "output_type": "execute_result",
          "data": {
            "text/plain": [
              "(239,)"
            ]
          },
          "metadata": {
            "tags": []
          },
          "execution_count": 120
        }
      ]
    },
    {
      "cell_type": "code",
      "metadata": {
        "colab": {
          "base_uri": "https://localhost:8080/"
        },
        "id": "ZZAlcNkR46en",
        "outputId": "a2a1dfc9-b508-47eb-e56a-390306f88885"
      },
      "source": [
        "selected"
      ],
      "execution_count": 51,
      "outputs": [
        {
          "output_type": "execute_result",
          "data": {
            "text/plain": [
              "array([96, 84, 79, 83, 97, 84, 92, 87, 78, 79, 83, 84, 78, 87, 80, 80, 86,\n",
              "       78, 96, 79, 82, 80, 77, 88, 77, 90, 93, 78, 91, 95, 90, 78, 86, 80,\n",
              "       88, 97, 99, 94, 97, 81, 81, 80, 99, 83, 84, 92, 95, 85, 91, 97, 89,\n",
              "       82, 99, 80, 77, 77, 89, 92, 80, 95, 99, 76, 76, 88, 97, 96, 85, 95,\n",
              "       98, 86, 87, 86, 83, 97, 88, 86, 93, 93, 86, 96, 89, 80, 88, 95, 82,\n",
              "       79, 98, 79, 77, 87, 79, 88, 85, 77, 95, 95, 76, 89, 97, 81, 89, 85,\n",
              "       94, 80, 82, 95, 93, 85, 92, 76, 86, 86, 91, 85, 91, 80, 80, 80, 93,\n",
              "       85, 85, 90, 87, 98, 96, 78, 99, 97, 99, 90, 93, 88, 86, 94, 83, 91,\n",
              "       85, 87, 82, 76, 82, 80, 90, 96, 96, 85, 85, 80, 97, 82, 82, 86, 95,\n",
              "       86, 76, 98, 90, 83, 85, 84, 88, 85, 85, 99, 80, 93, 83, 85, 77, 80,\n",
              "       91, 94, 80, 92, 90, 76, 91, 83, 93, 97, 93, 76, 86, 78, 79, 78, 93,\n",
              "       91, 98, 93, 99, 87, 92, 77, 99, 88, 97, 86, 83, 88, 94, 92, 93, 92,\n",
              "       93, 92, 91, 97, 94, 77, 79, 98, 77, 87, 98, 98, 91, 76, 95, 87, 92,\n",
              "       82, 91, 93, 93, 89, 77, 90, 82, 78, 79, 77, 91, 80, 91, 99, 95, 80,\n",
              "       78, 76, 83, 90, 77, 84])"
            ]
          },
          "metadata": {
            "tags": []
          },
          "execution_count": 51
        }
      ]
    },
    {
      "cell_type": "markdown",
      "metadata": {
        "id": "WC2m-5lR5Kr0"
      },
      "source": [
        "## Operations : Note that NumPy arrays operate on term by term basis. Each operation is applied to every term."
      ]
    },
    {
      "cell_type": "code",
      "metadata": {
        "id": "O9PIDIJS4-xq"
      },
      "source": [
        "A = np.arange(0,10)"
      ],
      "execution_count": 52,
      "outputs": []
    },
    {
      "cell_type": "code",
      "metadata": {
        "colab": {
          "base_uri": "https://localhost:8080/"
        },
        "id": "MPdoVsGL5VV4",
        "outputId": "6ff89b07-562d-4f79-fe20-9f34d6ec3458"
      },
      "source": [
        "A**2"
      ],
      "execution_count": 54,
      "outputs": [
        {
          "output_type": "execute_result",
          "data": {
            "text/plain": [
              "array([ 0,  1,  4,  9, 16, 25, 36, 49, 64, 81])"
            ]
          },
          "metadata": {
            "tags": []
          },
          "execution_count": 54
        }
      ]
    },
    {
      "cell_type": "code",
      "metadata": {
        "colab": {
          "base_uri": "https://localhost:8080/"
        },
        "id": "twuY6ENr5WJM",
        "outputId": "49509091-8322-49fa-8c39-8d29689603cf"
      },
      "source": [
        "A + A"
      ],
      "execution_count": 55,
      "outputs": [
        {
          "output_type": "execute_result",
          "data": {
            "text/plain": [
              "array([ 0,  2,  4,  6,  8, 10, 12, 14, 16, 18])"
            ]
          },
          "metadata": {
            "tags": []
          },
          "execution_count": 55
        }
      ]
    },
    {
      "cell_type": "code",
      "metadata": {
        "colab": {
          "base_uri": "https://localhost:8080/"
        },
        "id": "l4Gf9DQo5YrK",
        "outputId": "7c3cee6c-04c2-450f-d0fc-8686dba85619"
      },
      "source": [
        "np.sin(A)"
      ],
      "execution_count": 56,
      "outputs": [
        {
          "output_type": "execute_result",
          "data": {
            "text/plain": [
              "array([ 0.        ,  0.84147098,  0.90929743,  0.14112001, -0.7568025 ,\n",
              "       -0.95892427, -0.2794155 ,  0.6569866 ,  0.98935825,  0.41211849])"
            ]
          },
          "metadata": {
            "tags": []
          },
          "execution_count": 56
        }
      ]
    },
    {
      "cell_type": "code",
      "metadata": {
        "colab": {
          "base_uri": "https://localhost:8080/"
        },
        "id": "KXe5isMn5bCE",
        "outputId": "8e7a4cbd-b24b-4c08-c0d8-ee03b14405c5"
      },
      "source": [
        "np.cos(A)"
      ],
      "execution_count": 57,
      "outputs": [
        {
          "output_type": "execute_result",
          "data": {
            "text/plain": [
              "array([ 1.        ,  0.54030231, -0.41614684, -0.9899925 , -0.65364362,\n",
              "        0.28366219,  0.96017029,  0.75390225, -0.14550003, -0.91113026])"
            ]
          },
          "metadata": {
            "tags": []
          },
          "execution_count": 57
        }
      ]
    },
    {
      "cell_type": "markdown",
      "metadata": {
        "id": "ZtXFc-2v5efq"
      },
      "source": [
        "These are Universal Array Functions. \n",
        "\n",
        "Further reading : http://docs.scipy.org/doc/numpy/reference/ufuncs.html"
      ]
    },
    {
      "cell_type": "code",
      "metadata": {
        "id": "-wsnHETP5cNe"
      },
      "source": [
        "###################################################################"
      ],
      "execution_count": 58,
      "outputs": []
    },
    {
      "cell_type": "markdown",
      "metadata": {
        "id": "tAjzYbek5-xt"
      },
      "source": [
        "## 2. Python Pandas : The Ms. Excel of Python."
      ]
    },
    {
      "cell_type": "markdown",
      "metadata": {
        "id": "L4n61bBH6YML"
      },
      "source": [
        "### 2.1 Python Series : Like a Named Array/"
      ]
    },
    {
      "cell_type": "markdown",
      "metadata": {
        "id": "vOzjhc0tVJlt"
      },
      "source": [
        "NumPy -- Series --- DataFrame "
      ]
    },
    {
      "cell_type": "code",
      "metadata": {
        "id": "sG9noWeN6mjG"
      },
      "source": [
        "import pandas as pd"
      ],
      "execution_count": 121,
      "outputs": []
    },
    {
      "cell_type": "code",
      "metadata": {
        "id": "Nkd7C6_B57O-"
      },
      "source": [
        "values = [1,2,3,4,5]\n",
        "labels = ['a' , 'b' , 'c' , 'd' , 'e']"
      ],
      "execution_count": 59,
      "outputs": []
    },
    {
      "cell_type": "code",
      "metadata": {
        "id": "My4i_w0o6ihC"
      },
      "source": [
        "S = pd.Series(values,labels)"
      ],
      "execution_count": 62,
      "outputs": []
    },
    {
      "cell_type": "code",
      "metadata": {
        "colab": {
          "base_uri": "https://localhost:8080/"
        },
        "id": "RAIVZF2Q6k8R",
        "outputId": "843edabd-84cc-47ec-99ee-508787e43a71"
      },
      "source": [
        "S"
      ],
      "execution_count": 63,
      "outputs": [
        {
          "output_type": "execute_result",
          "data": {
            "text/plain": [
              "a    1\n",
              "b    2\n",
              "c    3\n",
              "d    4\n",
              "e    5\n",
              "dtype: int64"
            ]
          },
          "metadata": {
            "tags": []
          },
          "execution_count": 63
        }
      ]
    },
    {
      "cell_type": "code",
      "metadata": {
        "colab": {
          "base_uri": "https://localhost:8080/"
        },
        "id": "Ma2FfYof6rJt",
        "outputId": "c707da0e-7f06-4239-ba54-98e813fbe979"
      },
      "source": [
        "S['a']"
      ],
      "execution_count": 64,
      "outputs": [
        {
          "output_type": "execute_result",
          "data": {
            "text/plain": [
              "1"
            ]
          },
          "metadata": {
            "tags": []
          },
          "execution_count": 64
        }
      ]
    },
    {
      "cell_type": "code",
      "metadata": {
        "colab": {
          "base_uri": "https://localhost:8080/"
        },
        "id": "-MXIkPCE6udt",
        "outputId": "83f50dc0-9ecd-4389-a187-226a99e4df34"
      },
      "source": [
        "pd.Series(values,index = labels)"
      ],
      "execution_count": 65,
      "outputs": [
        {
          "output_type": "execute_result",
          "data": {
            "text/plain": [
              "a    1\n",
              "b    2\n",
              "c    3\n",
              "d    4\n",
              "e    5\n",
              "dtype: int64"
            ]
          },
          "metadata": {
            "tags": []
          },
          "execution_count": 65
        }
      ]
    },
    {
      "cell_type": "markdown",
      "metadata": {
        "id": "tEfNKHT166p1"
      },
      "source": [
        "## 2.2 : DataFrames"
      ]
    },
    {
      "cell_type": "markdown",
      "metadata": {
        "id": "OAq0xjVHWNYt"
      },
      "source": [
        "1. DF from a Dictionary."
      ]
    },
    {
      "cell_type": "code",
      "metadata": {
        "id": "aruf1_xa60k6"
      },
      "source": [
        "rock = {'phi': [0.05 , 0.20 , 0.25 , 0.08],\n",
        "        'lith': ['C', 'S', 'S','C']}\n",
        "\n",
        "rock_df = pd.DataFrame(rock)"
      ],
      "execution_count": 122,
      "outputs": []
    },
    {
      "cell_type": "code",
      "metadata": {
        "colab": {
          "base_uri": "https://localhost:8080/",
          "height": 172
        },
        "id": "hdWCCrZR7MlY",
        "outputId": "e088809c-6fd1-4829-a76b-3e67568528e3"
      },
      "source": [
        "rock_df"
      ],
      "execution_count": 123,
      "outputs": [
        {
          "output_type": "execute_result",
          "data": {
            "text/html": [
              "<div>\n",
              "<style scoped>\n",
              "    .dataframe tbody tr th:only-of-type {\n",
              "        vertical-align: middle;\n",
              "    }\n",
              "\n",
              "    .dataframe tbody tr th {\n",
              "        vertical-align: top;\n",
              "    }\n",
              "\n",
              "    .dataframe thead th {\n",
              "        text-align: right;\n",
              "    }\n",
              "</style>\n",
              "<table border=\"1\" class=\"dataframe\">\n",
              "  <thead>\n",
              "    <tr style=\"text-align: right;\">\n",
              "      <th></th>\n",
              "      <th>phi</th>\n",
              "      <th>lith</th>\n",
              "    </tr>\n",
              "  </thead>\n",
              "  <tbody>\n",
              "    <tr>\n",
              "      <th>0</th>\n",
              "      <td>0.05</td>\n",
              "      <td>C</td>\n",
              "    </tr>\n",
              "    <tr>\n",
              "      <th>1</th>\n",
              "      <td>0.20</td>\n",
              "      <td>S</td>\n",
              "    </tr>\n",
              "    <tr>\n",
              "      <th>2</th>\n",
              "      <td>0.25</td>\n",
              "      <td>S</td>\n",
              "    </tr>\n",
              "    <tr>\n",
              "      <th>3</th>\n",
              "      <td>0.08</td>\n",
              "      <td>C</td>\n",
              "    </tr>\n",
              "  </tbody>\n",
              "</table>\n",
              "</div>"
            ],
            "text/plain": [
              "    phi lith\n",
              "0  0.05    C\n",
              "1  0.20    S\n",
              "2  0.25    S\n",
              "3  0.08    C"
            ]
          },
          "metadata": {
            "tags": []
          },
          "execution_count": 123
        }
      ]
    },
    {
      "cell_type": "code",
      "metadata": {
        "colab": {
          "base_uri": "https://localhost:8080/"
        },
        "id": "y1G-g5gL7R9K",
        "outputId": "d3a2f111-e2a6-4768-acb4-b506d7ac6533"
      },
      "source": [
        "rock['phi']"
      ],
      "execution_count": 124,
      "outputs": [
        {
          "output_type": "execute_result",
          "data": {
            "text/plain": [
              "[0.05, 0.2, 0.25, 0.08]"
            ]
          },
          "metadata": {
            "tags": []
          },
          "execution_count": 124
        }
      ]
    },
    {
      "cell_type": "code",
      "metadata": {
        "id": "L7PnJwJS7mAp"
      },
      "source": [
        "#Creating a DataFrame from an array."
      ],
      "execution_count": 70,
      "outputs": []
    },
    {
      "cell_type": "code",
      "metadata": {
        "colab": {
          "base_uri": "https://localhost:8080/",
          "height": 203
        },
        "id": "GFOEQ0Dd7t7R",
        "outputId": "36084178-2f31-4e27-9f05-861cc6ac2d77"
      },
      "source": [
        "df = pd.DataFrame(data = np.random.randn(5,4),index='A B C D E'.split(),columns='W X Y Z'.split())\n",
        "\n",
        "df"
      ],
      "execution_count": 125,
      "outputs": [
        {
          "output_type": "execute_result",
          "data": {
            "text/html": [
              "<div>\n",
              "<style scoped>\n",
              "    .dataframe tbody tr th:only-of-type {\n",
              "        vertical-align: middle;\n",
              "    }\n",
              "\n",
              "    .dataframe tbody tr th {\n",
              "        vertical-align: top;\n",
              "    }\n",
              "\n",
              "    .dataframe thead th {\n",
              "        text-align: right;\n",
              "    }\n",
              "</style>\n",
              "<table border=\"1\" class=\"dataframe\">\n",
              "  <thead>\n",
              "    <tr style=\"text-align: right;\">\n",
              "      <th></th>\n",
              "      <th>W</th>\n",
              "      <th>X</th>\n",
              "      <th>Y</th>\n",
              "      <th>Z</th>\n",
              "    </tr>\n",
              "  </thead>\n",
              "  <tbody>\n",
              "    <tr>\n",
              "      <th>A</th>\n",
              "      <td>-1.182853</td>\n",
              "      <td>-0.513556</td>\n",
              "      <td>-0.515698</td>\n",
              "      <td>0.494726</td>\n",
              "    </tr>\n",
              "    <tr>\n",
              "      <th>B</th>\n",
              "      <td>-0.577124</td>\n",
              "      <td>0.886354</td>\n",
              "      <td>-1.588290</td>\n",
              "      <td>-1.587124</td>\n",
              "    </tr>\n",
              "    <tr>\n",
              "      <th>C</th>\n",
              "      <td>-0.240799</td>\n",
              "      <td>0.123911</td>\n",
              "      <td>-1.001634</td>\n",
              "      <td>0.902924</td>\n",
              "    </tr>\n",
              "    <tr>\n",
              "      <th>D</th>\n",
              "      <td>-0.427675</td>\n",
              "      <td>0.080528</td>\n",
              "      <td>-0.625017</td>\n",
              "      <td>-0.778859</td>\n",
              "    </tr>\n",
              "    <tr>\n",
              "      <th>E</th>\n",
              "      <td>2.248956</td>\n",
              "      <td>0.264856</td>\n",
              "      <td>0.344202</td>\n",
              "      <td>-1.435114</td>\n",
              "    </tr>\n",
              "  </tbody>\n",
              "</table>\n",
              "</div>"
            ],
            "text/plain": [
              "          W         X         Y         Z\n",
              "A -1.182853 -0.513556 -0.515698  0.494726\n",
              "B -0.577124  0.886354 -1.588290 -1.587124\n",
              "C -0.240799  0.123911 -1.001634  0.902924\n",
              "D -0.427675  0.080528 -0.625017 -0.778859\n",
              "E  2.248956  0.264856  0.344202 -1.435114"
            ]
          },
          "metadata": {
            "tags": []
          },
          "execution_count": 125
        }
      ]
    },
    {
      "cell_type": "code",
      "metadata": {
        "id": "cXeuQriC7wZQ"
      },
      "source": [
        "# df"
      ],
      "execution_count": 126,
      "outputs": []
    },
    {
      "cell_type": "code",
      "metadata": {
        "colab": {
          "base_uri": "https://localhost:8080/"
        },
        "id": "e7yWUvZm7zrn",
        "outputId": "732dc5a8-de52-46f6-d8ec-925945d84bca"
      },
      "source": [
        "df['W']"
      ],
      "execution_count": 74,
      "outputs": [
        {
          "output_type": "execute_result",
          "data": {
            "text/plain": [
              "A   -0.709325\n",
              "B    0.239717\n",
              "C   -0.833494\n",
              "D    0.252288\n",
              "E   -0.012246\n",
              "Name: W, dtype: float64"
            ]
          },
          "metadata": {
            "tags": []
          },
          "execution_count": 74
        }
      ]
    },
    {
      "cell_type": "code",
      "metadata": {
        "colab": {
          "base_uri": "https://localhost:8080/",
          "height": 203
        },
        "id": "v7YdfZyG71gi",
        "outputId": "db5b4421-0fd5-43d2-d0b7-613c7620cbef"
      },
      "source": [
        "#Adding a NEw column. \n",
        "\n",
        "df['W_squared'] = df['W']**2\n",
        "\n",
        "df"
      ],
      "execution_count": 76,
      "outputs": [
        {
          "output_type": "execute_result",
          "data": {
            "text/html": [
              "<div>\n",
              "<style scoped>\n",
              "    .dataframe tbody tr th:only-of-type {\n",
              "        vertical-align: middle;\n",
              "    }\n",
              "\n",
              "    .dataframe tbody tr th {\n",
              "        vertical-align: top;\n",
              "    }\n",
              "\n",
              "    .dataframe thead th {\n",
              "        text-align: right;\n",
              "    }\n",
              "</style>\n",
              "<table border=\"1\" class=\"dataframe\">\n",
              "  <thead>\n",
              "    <tr style=\"text-align: right;\">\n",
              "      <th></th>\n",
              "      <th>W</th>\n",
              "      <th>X</th>\n",
              "      <th>Y</th>\n",
              "      <th>Z</th>\n",
              "      <th>W_squared</th>\n",
              "    </tr>\n",
              "  </thead>\n",
              "  <tbody>\n",
              "    <tr>\n",
              "      <th>A</th>\n",
              "      <td>-0.709325</td>\n",
              "      <td>-0.398991</td>\n",
              "      <td>2.255707</td>\n",
              "      <td>1.286425</td>\n",
              "      <td>0.503142</td>\n",
              "    </tr>\n",
              "    <tr>\n",
              "      <th>B</th>\n",
              "      <td>0.239717</td>\n",
              "      <td>-0.993057</td>\n",
              "      <td>-1.434999</td>\n",
              "      <td>-0.777527</td>\n",
              "      <td>0.057464</td>\n",
              "    </tr>\n",
              "    <tr>\n",
              "      <th>C</th>\n",
              "      <td>-0.833494</td>\n",
              "      <td>0.910116</td>\n",
              "      <td>-0.249891</td>\n",
              "      <td>0.342504</td>\n",
              "      <td>0.694712</td>\n",
              "    </tr>\n",
              "    <tr>\n",
              "      <th>D</th>\n",
              "      <td>0.252288</td>\n",
              "      <td>-0.240984</td>\n",
              "      <td>-0.607454</td>\n",
              "      <td>-0.266429</td>\n",
              "      <td>0.063649</td>\n",
              "    </tr>\n",
              "    <tr>\n",
              "      <th>E</th>\n",
              "      <td>-0.012246</td>\n",
              "      <td>-0.213262</td>\n",
              "      <td>-1.522099</td>\n",
              "      <td>-0.727474</td>\n",
              "      <td>0.000150</td>\n",
              "    </tr>\n",
              "  </tbody>\n",
              "</table>\n",
              "</div>"
            ],
            "text/plain": [
              "          W         X         Y         Z  W_squared\n",
              "A -0.709325 -0.398991  2.255707  1.286425   0.503142\n",
              "B  0.239717 -0.993057 -1.434999 -0.777527   0.057464\n",
              "C -0.833494  0.910116 -0.249891  0.342504   0.694712\n",
              "D  0.252288 -0.240984 -0.607454 -0.266429   0.063649\n",
              "E -0.012246 -0.213262 -1.522099 -0.727474   0.000150"
            ]
          },
          "metadata": {
            "tags": []
          },
          "execution_count": 76
        }
      ]
    },
    {
      "cell_type": "code",
      "metadata": {
        "colab": {
          "base_uri": "https://localhost:8080/",
          "height": 203
        },
        "id": "iMB8ZIXO7_PA",
        "outputId": "0d4dfb84-ab6d-4577-b875-7af14674e1b2"
      },
      "source": [
        "df['new'] = df['X'] + df['Y']\n",
        "\n",
        "df"
      ],
      "execution_count": 77,
      "outputs": [
        {
          "output_type": "execute_result",
          "data": {
            "text/html": [
              "<div>\n",
              "<style scoped>\n",
              "    .dataframe tbody tr th:only-of-type {\n",
              "        vertical-align: middle;\n",
              "    }\n",
              "\n",
              "    .dataframe tbody tr th {\n",
              "        vertical-align: top;\n",
              "    }\n",
              "\n",
              "    .dataframe thead th {\n",
              "        text-align: right;\n",
              "    }\n",
              "</style>\n",
              "<table border=\"1\" class=\"dataframe\">\n",
              "  <thead>\n",
              "    <tr style=\"text-align: right;\">\n",
              "      <th></th>\n",
              "      <th>W</th>\n",
              "      <th>X</th>\n",
              "      <th>Y</th>\n",
              "      <th>Z</th>\n",
              "      <th>W_squared</th>\n",
              "      <th>new</th>\n",
              "    </tr>\n",
              "  </thead>\n",
              "  <tbody>\n",
              "    <tr>\n",
              "      <th>A</th>\n",
              "      <td>-0.709325</td>\n",
              "      <td>-0.398991</td>\n",
              "      <td>2.255707</td>\n",
              "      <td>1.286425</td>\n",
              "      <td>0.503142</td>\n",
              "      <td>1.856716</td>\n",
              "    </tr>\n",
              "    <tr>\n",
              "      <th>B</th>\n",
              "      <td>0.239717</td>\n",
              "      <td>-0.993057</td>\n",
              "      <td>-1.434999</td>\n",
              "      <td>-0.777527</td>\n",
              "      <td>0.057464</td>\n",
              "      <td>-2.428056</td>\n",
              "    </tr>\n",
              "    <tr>\n",
              "      <th>C</th>\n",
              "      <td>-0.833494</td>\n",
              "      <td>0.910116</td>\n",
              "      <td>-0.249891</td>\n",
              "      <td>0.342504</td>\n",
              "      <td>0.694712</td>\n",
              "      <td>0.660225</td>\n",
              "    </tr>\n",
              "    <tr>\n",
              "      <th>D</th>\n",
              "      <td>0.252288</td>\n",
              "      <td>-0.240984</td>\n",
              "      <td>-0.607454</td>\n",
              "      <td>-0.266429</td>\n",
              "      <td>0.063649</td>\n",
              "      <td>-0.848438</td>\n",
              "    </tr>\n",
              "    <tr>\n",
              "      <th>E</th>\n",
              "      <td>-0.012246</td>\n",
              "      <td>-0.213262</td>\n",
              "      <td>-1.522099</td>\n",
              "      <td>-0.727474</td>\n",
              "      <td>0.000150</td>\n",
              "      <td>-1.735361</td>\n",
              "    </tr>\n",
              "  </tbody>\n",
              "</table>\n",
              "</div>"
            ],
            "text/plain": [
              "          W         X         Y         Z  W_squared       new\n",
              "A -0.709325 -0.398991  2.255707  1.286425   0.503142  1.856716\n",
              "B  0.239717 -0.993057 -1.434999 -0.777527   0.057464 -2.428056\n",
              "C -0.833494  0.910116 -0.249891  0.342504   0.694712  0.660225\n",
              "D  0.252288 -0.240984 -0.607454 -0.266429   0.063649 -0.848438\n",
              "E -0.012246 -0.213262 -1.522099 -0.727474   0.000150 -1.735361"
            ]
          },
          "metadata": {
            "tags": []
          },
          "execution_count": 77
        }
      ]
    },
    {
      "cell_type": "code",
      "metadata": {
        "colab": {
          "base_uri": "https://localhost:8080/",
          "height": 282
        },
        "id": "2cEIl-009GLc",
        "outputId": "a88b08d9-03f3-4816-e624-1975943788a9"
      },
      "source": [
        "df.plot()"
      ],
      "execution_count": 78,
      "outputs": [
        {
          "output_type": "execute_result",
          "data": {
            "text/plain": [
              "<matplotlib.axes._subplots.AxesSubplot at 0x7fc40f148f10>"
            ]
          },
          "metadata": {
            "tags": []
          },
          "execution_count": 78
        },
        {
          "output_type": "display_data",
          "data": {
            "image/png": "[encoded data removed]",
            "text/plain": [
              "<Figure size 432x288 with 1 Axes>"
            ]
          },
          "metadata": {
            "tags": [],
            "needs_background": "light"
          }
        }
      ]
    },
    {
      "cell_type": "markdown",
      "metadata": {
        "id": "Ki6MBGSI9QLK"
      },
      "source": [
        "## Loc and I-Loc. \n",
        "\n",
        "1. loc starts with 'l' : so it considers labels. \n",
        "\n",
        "2. iloc starts with 'i' so it considers indexes."
      ]
    },
    {
      "cell_type": "code",
      "metadata": {
        "colab": {
          "base_uri": "https://localhost:8080/",
          "height": 110
        },
        "id": "xyKNfQEQ9H9P",
        "outputId": "e3c22f35-f9db-4c41-e975-8fabf2363c85"
      },
      "source": [
        "df.iloc[0:2,0:2]"
      ],
      "execution_count": 129,
      "outputs": [
        {
          "output_type": "execute_result",
          "data": {
            "text/html": [
              "<div>\n",
              "<style scoped>\n",
              "    .dataframe tbody tr th:only-of-type {\n",
              "        vertical-align: middle;\n",
              "    }\n",
              "\n",
              "    .dataframe tbody tr th {\n",
              "        vertical-align: top;\n",
              "    }\n",
              "\n",
              "    .dataframe thead th {\n",
              "        text-align: right;\n",
              "    }\n",
              "</style>\n",
              "<table border=\"1\" class=\"dataframe\">\n",
              "  <thead>\n",
              "    <tr style=\"text-align: right;\">\n",
              "      <th></th>\n",
              "      <th>W</th>\n",
              "      <th>X</th>\n",
              "    </tr>\n",
              "  </thead>\n",
              "  <tbody>\n",
              "    <tr>\n",
              "      <th>A</th>\n",
              "      <td>-1.182853</td>\n",
              "      <td>-0.513556</td>\n",
              "    </tr>\n",
              "    <tr>\n",
              "      <th>B</th>\n",
              "      <td>-0.577124</td>\n",
              "      <td>0.886354</td>\n",
              "    </tr>\n",
              "  </tbody>\n",
              "</table>\n",
              "</div>"
            ],
            "text/plain": [
              "          W         X\n",
              "A -1.182853 -0.513556\n",
              "B -0.577124  0.886354"
            ]
          },
          "metadata": {
            "tags": []
          },
          "execution_count": 129
        }
      ]
    },
    {
      "cell_type": "markdown",
      "metadata": {
        "id": "Cx-u2gAH9b_v"
      },
      "source": [
        "### Pick first two rows using loc. "
      ]
    },
    {
      "cell_type": "code",
      "metadata": {
        "colab": {
          "base_uri": "https://localhost:8080/",
          "height": 110
        },
        "id": "tscoRC659a1N",
        "outputId": "c6380e5a-9b23-4321-857e-6db96f241429"
      },
      "source": [
        "df.loc['A':'B',:]"
      ],
      "execution_count": 80,
      "outputs": [
        {
          "output_type": "execute_result",
          "data": {
            "text/html": [
              "<div>\n",
              "<style scoped>\n",
              "    .dataframe tbody tr th:only-of-type {\n",
              "        vertical-align: middle;\n",
              "    }\n",
              "\n",
              "    .dataframe tbody tr th {\n",
              "        vertical-align: top;\n",
              "    }\n",
              "\n",
              "    .dataframe thead th {\n",
              "        text-align: right;\n",
              "    }\n",
              "</style>\n",
              "<table border=\"1\" class=\"dataframe\">\n",
              "  <thead>\n",
              "    <tr style=\"text-align: right;\">\n",
              "      <th></th>\n",
              "      <th>W</th>\n",
              "      <th>X</th>\n",
              "      <th>Y</th>\n",
              "      <th>Z</th>\n",
              "      <th>W_squared</th>\n",
              "      <th>new</th>\n",
              "    </tr>\n",
              "  </thead>\n",
              "  <tbody>\n",
              "    <tr>\n",
              "      <th>A</th>\n",
              "      <td>-0.709325</td>\n",
              "      <td>-0.398991</td>\n",
              "      <td>2.255707</td>\n",
              "      <td>1.286425</td>\n",
              "      <td>0.503142</td>\n",
              "      <td>1.856716</td>\n",
              "    </tr>\n",
              "    <tr>\n",
              "      <th>B</th>\n",
              "      <td>0.239717</td>\n",
              "      <td>-0.993057</td>\n",
              "      <td>-1.434999</td>\n",
              "      <td>-0.777527</td>\n",
              "      <td>0.057464</td>\n",
              "      <td>-2.428056</td>\n",
              "    </tr>\n",
              "  </tbody>\n",
              "</table>\n",
              "</div>"
            ],
            "text/plain": [
              "          W         X         Y         Z  W_squared       new\n",
              "A -0.709325 -0.398991  2.255707  1.286425   0.503142  1.856716\n",
              "B  0.239717 -0.993057 -1.434999 -0.777527   0.057464 -2.428056"
            ]
          },
          "metadata": {
            "tags": []
          },
          "execution_count": 80
        }
      ]
    },
    {
      "cell_type": "markdown",
      "metadata": {
        "id": "cZeZHXiB9l6W"
      },
      "source": [
        "### Pick first two rows using iloc."
      ]
    },
    {
      "cell_type": "code",
      "metadata": {
        "colab": {
          "base_uri": "https://localhost:8080/",
          "height": 110
        },
        "id": "wj8iJTMO9kYB",
        "outputId": "94f586db-43d9-4784-ad75-ae2dc3989d4f"
      },
      "source": [
        "df.iloc[0:2, :]"
      ],
      "execution_count": 81,
      "outputs": [
        {
          "output_type": "execute_result",
          "data": {
            "text/html": [
              "<div>\n",
              "<style scoped>\n",
              "    .dataframe tbody tr th:only-of-type {\n",
              "        vertical-align: middle;\n",
              "    }\n",
              "\n",
              "    .dataframe tbody tr th {\n",
              "        vertical-align: top;\n",
              "    }\n",
              "\n",
              "    .dataframe thead th {\n",
              "        text-align: right;\n",
              "    }\n",
              "</style>\n",
              "<table border=\"1\" class=\"dataframe\">\n",
              "  <thead>\n",
              "    <tr style=\"text-align: right;\">\n",
              "      <th></th>\n",
              "      <th>W</th>\n",
              "      <th>X</th>\n",
              "      <th>Y</th>\n",
              "      <th>Z</th>\n",
              "      <th>W_squared</th>\n",
              "      <th>new</th>\n",
              "    </tr>\n",
              "  </thead>\n",
              "  <tbody>\n",
              "    <tr>\n",
              "      <th>A</th>\n",
              "      <td>-0.709325</td>\n",
              "      <td>-0.398991</td>\n",
              "      <td>2.255707</td>\n",
              "      <td>1.286425</td>\n",
              "      <td>0.503142</td>\n",
              "      <td>1.856716</td>\n",
              "    </tr>\n",
              "    <tr>\n",
              "      <th>B</th>\n",
              "      <td>0.239717</td>\n",
              "      <td>-0.993057</td>\n",
              "      <td>-1.434999</td>\n",
              "      <td>-0.777527</td>\n",
              "      <td>0.057464</td>\n",
              "      <td>-2.428056</td>\n",
              "    </tr>\n",
              "  </tbody>\n",
              "</table>\n",
              "</div>"
            ],
            "text/plain": [
              "          W         X         Y         Z  W_squared       new\n",
              "A -0.709325 -0.398991  2.255707  1.286425   0.503142  1.856716\n",
              "B  0.239717 -0.993057 -1.434999 -0.777527   0.057464 -2.428056"
            ]
          },
          "metadata": {
            "tags": []
          },
          "execution_count": 81
        }
      ]
    },
    {
      "cell_type": "code",
      "metadata": {
        "id": "yZ__EWX09wh0"
      },
      "source": [
        "#Must Notice that Loc considers both ends \n",
        "#while iloc doesn't include the right extreme."
      ],
      "execution_count": 82,
      "outputs": []
    },
    {
      "cell_type": "markdown",
      "metadata": {
        "id": "9X5dNWZ0-Hu3"
      },
      "source": [
        "## Importing Data using Pandas/"
      ]
    },
    {
      "cell_type": "code",
      "metadata": {
        "id": "uzOSFwqhYjCS"
      },
      "source": [
        "A"
      ],
      "execution_count": null,
      "outputs": []
    },
    {
      "cell_type": "code",
      "metadata": {
        "colab": {
          "base_uri": "https://localhost:8080/",
          "height": 130
        },
        "id": "BqoPYsmc950C",
        "outputId": "ae50b48e-b4e0-4378-d94a-8ef85ab3666b"
      },
      "source": [
        "data = pd.read_csv('/content/sample_data/california_housing_train.csv')\n",
        "\n",
        "data.tail(2)"
      ],
      "execution_count": 132,
      "outputs": [
        {
          "output_type": "execute_result",
          "data": {
            "text/html": [
              "<div>\n",
              "<style scoped>\n",
              "    .dataframe tbody tr th:only-of-type {\n",
              "        vertical-align: middle;\n",
              "    }\n",
              "\n",
              "    .dataframe tbody tr th {\n",
              "        vertical-align: top;\n",
              "    }\n",
              "\n",
              "    .dataframe thead th {\n",
              "        text-align: right;\n",
              "    }\n",
              "</style>\n",
              "<table border=\"1\" class=\"dataframe\">\n",
              "  <thead>\n",
              "    <tr style=\"text-align: right;\">\n",
              "      <th></th>\n",
              "      <th>longitude</th>\n",
              "      <th>latitude</th>\n",
              "      <th>housing_median_age</th>\n",
              "      <th>total_rooms</th>\n",
              "      <th>total_bedrooms</th>\n",
              "      <th>population</th>\n",
              "      <th>households</th>\n",
              "      <th>median_income</th>\n",
              "      <th>median_house_value</th>\n",
              "    </tr>\n",
              "  </thead>\n",
              "  <tbody>\n",
              "    <tr>\n",
              "      <th>16998</th>\n",
              "      <td>-124.30</td>\n",
              "      <td>41.80</td>\n",
              "      <td>19.0</td>\n",
              "      <td>2672.0</td>\n",
              "      <td>552.0</td>\n",
              "      <td>1298.0</td>\n",
              "      <td>478.0</td>\n",
              "      <td>1.9797</td>\n",
              "      <td>85800.0</td>\n",
              "    </tr>\n",
              "    <tr>\n",
              "      <th>16999</th>\n",
              "      <td>-124.35</td>\n",
              "      <td>40.54</td>\n",
              "      <td>52.0</td>\n",
              "      <td>1820.0</td>\n",
              "      <td>300.0</td>\n",
              "      <td>806.0</td>\n",
              "      <td>270.0</td>\n",
              "      <td>3.0147</td>\n",
              "      <td>94600.0</td>\n",
              "    </tr>\n",
              "  </tbody>\n",
              "</table>\n",
              "</div>"
            ],
            "text/plain": [
              "       longitude  latitude  ...  median_income  median_house_value\n",
              "16998    -124.30     41.80  ...         1.9797             85800.0\n",
              "16999    -124.35     40.54  ...         3.0147             94600.0\n",
              "\n",
              "[2 rows x 9 columns]"
            ]
          },
          "metadata": {
            "tags": []
          },
          "execution_count": 132
        }
      ]
    },
    {
      "cell_type": "code",
      "metadata": {
        "colab": {
          "base_uri": "https://localhost:8080/",
          "height": 316
        },
        "id": "mNVcA8J6-Z7Z",
        "outputId": "03536a14-9dce-4baa-f28d-23583ef12984"
      },
      "source": [
        "data.describe()"
      ],
      "execution_count": 133,
      "outputs": [
        {
          "output_type": "execute_result",
          "data": {
            "text/html": [
              "<div>\n",
              "<style scoped>\n",
              "    .dataframe tbody tr th:only-of-type {\n",
              "        vertical-align: middle;\n",
              "    }\n",
              "\n",
              "    .dataframe tbody tr th {\n",
              "        vertical-align: top;\n",
              "    }\n",
              "\n",
              "    .dataframe thead th {\n",
              "        text-align: right;\n",
              "    }\n",
              "</style>\n",
              "<table border=\"1\" class=\"dataframe\">\n",
              "  <thead>\n",
              "    <tr style=\"text-align: right;\">\n",
              "      <th></th>\n",
              "      <th>longitude</th>\n",
              "      <th>latitude</th>\n",
              "      <th>housing_median_age</th>\n",
              "      <th>total_rooms</th>\n",
              "      <th>total_bedrooms</th>\n",
              "      <th>population</th>\n",
              "      <th>households</th>\n",
              "      <th>median_income</th>\n",
              "      <th>median_house_value</th>\n",
              "    </tr>\n",
              "  </thead>\n",
              "  <tbody>\n",
              "    <tr>\n",
              "      <th>count</th>\n",
              "      <td>17000.000000</td>\n",
              "      <td>17000.000000</td>\n",
              "      <td>17000.000000</td>\n",
              "      <td>17000.000000</td>\n",
              "      <td>17000.000000</td>\n",
              "      <td>17000.000000</td>\n",
              "      <td>17000.000000</td>\n",
              "      <td>17000.000000</td>\n",
              "      <td>17000.000000</td>\n",
              "    </tr>\n",
              "    <tr>\n",
              "      <th>mean</th>\n",
              "      <td>-119.562108</td>\n",
              "      <td>35.625225</td>\n",
              "      <td>28.589353</td>\n",
              "      <td>2643.664412</td>\n",
              "      <td>539.410824</td>\n",
              "      <td>1429.573941</td>\n",
              "      <td>501.221941</td>\n",
              "      <td>3.883578</td>\n",
              "      <td>207300.912353</td>\n",
              "    </tr>\n",
              "    <tr>\n",
              "      <th>std</th>\n",
              "      <td>2.005166</td>\n",
              "      <td>2.137340</td>\n",
              "      <td>12.586937</td>\n",
              "      <td>2179.947071</td>\n",
              "      <td>421.499452</td>\n",
              "      <td>1147.852959</td>\n",
              "      <td>384.520841</td>\n",
              "      <td>1.908157</td>\n",
              "      <td>115983.764387</td>\n",
              "    </tr>\n",
              "    <tr>\n",
              "      <th>min</th>\n",
              "      <td>-124.350000</td>\n",
              "      <td>32.540000</td>\n",
              "      <td>1.000000</td>\n",
              "      <td>2.000000</td>\n",
              "      <td>1.000000</td>\n",
              "      <td>3.000000</td>\n",
              "      <td>1.000000</td>\n",
              "      <td>0.499900</td>\n",
              "      <td>14999.000000</td>\n",
              "    </tr>\n",
              "    <tr>\n",
              "      <th>25%</th>\n",
              "      <td>-121.790000</td>\n",
              "      <td>33.930000</td>\n",
              "      <td>18.000000</td>\n",
              "      <td>1462.000000</td>\n",
              "      <td>297.000000</td>\n",
              "      <td>790.000000</td>\n",
              "      <td>282.000000</td>\n",
              "      <td>2.566375</td>\n",
              "      <td>119400.000000</td>\n",
              "    </tr>\n",
              "    <tr>\n",
              "      <th>50%</th>\n",
              "      <td>-118.490000</td>\n",
              "      <td>34.250000</td>\n",
              "      <td>29.000000</td>\n",
              "      <td>2127.000000</td>\n",
              "      <td>434.000000</td>\n",
              "      <td>1167.000000</td>\n",
              "      <td>409.000000</td>\n",
              "      <td>3.544600</td>\n",
              "      <td>180400.000000</td>\n",
              "    </tr>\n",
              "    <tr>\n",
              "      <th>75%</th>\n",
              "      <td>-118.000000</td>\n",
              "      <td>37.720000</td>\n",
              "      <td>37.000000</td>\n",
              "      <td>3151.250000</td>\n",
              "      <td>648.250000</td>\n",
              "      <td>1721.000000</td>\n",
              "      <td>605.250000</td>\n",
              "      <td>4.767000</td>\n",
              "      <td>265000.000000</td>\n",
              "    </tr>\n",
              "    <tr>\n",
              "      <th>max</th>\n",
              "      <td>-114.310000</td>\n",
              "      <td>41.950000</td>\n",
              "      <td>52.000000</td>\n",
              "      <td>37937.000000</td>\n",
              "      <td>6445.000000</td>\n",
              "      <td>35682.000000</td>\n",
              "      <td>6082.000000</td>\n",
              "      <td>15.000100</td>\n",
              "      <td>500001.000000</td>\n",
              "    </tr>\n",
              "  </tbody>\n",
              "</table>\n",
              "</div>"
            ],
            "text/plain": [
              "          longitude      latitude  ...  median_income  median_house_value\n",
              "count  17000.000000  17000.000000  ...   17000.000000        17000.000000\n",
              "mean    -119.562108     35.625225  ...       3.883578       207300.912353\n",
              "std        2.005166      2.137340  ...       1.908157       115983.764387\n",
              "min     -124.350000     32.540000  ...       0.499900        14999.000000\n",
              "25%     -121.790000     33.930000  ...       2.566375       119400.000000\n",
              "50%     -118.490000     34.250000  ...       3.544600       180400.000000\n",
              "75%     -118.000000     37.720000  ...       4.767000       265000.000000\n",
              "max     -114.310000     41.950000  ...      15.000100       500001.000000\n",
              "\n",
              "[8 rows x 9 columns]"
            ]
          },
          "metadata": {
            "tags": []
          },
          "execution_count": 133
        }
      ]
    },
    {
      "cell_type": "code",
      "metadata": {
        "id": "HhJcnDKIX-qN"
      },
      "source": [
        "hma50 = np.percentile(data['housing_median_age'], 50)"
      ],
      "execution_count": 135,
      "outputs": []
    },
    {
      "cell_type": "code",
      "metadata": {
        "id": "r1r90DyRZ4oR",
        "outputId": "4f8bf24e-6c97-469a-a3a8-4e0c093df994",
        "colab": {
          "base_uri": "https://localhost:8080/"
        }
      },
      "source": [
        "data[data['housing_median_age']>hma50]['housing_median_age']"
      ],
      "execution_count": 138,
      "outputs": [
        {
          "output_type": "execute_result",
          "data": {
            "text/plain": [
              "7        41.0\n",
              "8        34.0\n",
              "9        46.0\n",
              "12       48.0\n",
              "13       31.0\n",
              "         ... \n",
              "16993    52.0\n",
              "16994    32.0\n",
              "16995    52.0\n",
              "16996    36.0\n",
              "16999    52.0\n",
              "Name: housing_median_age, Length: 8189, dtype: float64"
            ]
          },
          "metadata": {
            "tags": []
          },
          "execution_count": 138
        }
      ]
    },
    {
      "cell_type": "code",
      "metadata": {
        "id": "P3YlDPo_aBXx"
      },
      "source": [
        ""
      ],
      "execution_count": null,
      "outputs": []
    }
  ]
}