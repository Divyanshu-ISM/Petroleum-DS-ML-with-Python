{
  "nbformat": 4,
  "nbformat_minor": 0,
  "metadata": {
    "colab": {
      "name": "IIT-ISM_Intro to ML for PE.ipynb",
      "provenance": [],
      "collapsed_sections": [
        "kAsubkOjlNhJ",
        "M_eiFejgw5r_",
        "MJzJ-oqkx0ae",
        "UKwvFdSny1SP",
        "eB-ZJ0Km7VYB",
        "6qCd6vy0L_Ws",
        "mS7_n852MEBq",
        "NGrVRFVbPh5p",
        "SGUNlokPSZBX",
        "MVc5PHCmVxH1",
        "4WvosL5OXAzu",
        "H0gp4qnbXgT4",
        "0puVtuE6cRJ_",
        "rUKtHcK5e7eY",
        "L2Spvts0e_Qp",
        "wgn97ulTfEFu",
        "XsI__XZUfJAP",
        "sKj9-UMDfP6w",
        "oATbp2mhfWsC",
        "PW328LSier91"
      ],
      "authorship_tag": "ABX9TyMCbRndOqsghPloxWQuCbJa"
    },
    "kernelspec": {
      "name": "python3",
      "display_name": "Python 3"
    },
    "language_info": {
      "name": "python"
    }
  },
  "cells": [
    {
      "cell_type": "markdown",
      "metadata": {
        "id": "peBM_EWxY3Xt"
      },
      "source": [
        "# Intoduction to Machine Learning for Petroleum Engineers. \n",
        "\n",
        "> Divyanshu Vyas | Oil & Gas Data Scientist. "
      ]
    },
    {
      "cell_type": "markdown",
      "metadata": {
        "id": "MeME17XFiO-J"
      },
      "source": [
        "### Agenda : \n",
        "\n",
        "1. Python : Lists, Dictionaries, Loops, Functions. \n",
        "\n",
        "2. Data Analysis : NumPy & Pandas. \n",
        "\n",
        "3. Data Visualization : Matplotlib\n",
        "\n",
        "4. A Brief Talk on Machine Learning Algorithms. \n",
        "\n",
        "5. Hands on Excercises :-\n",
        "\n",
        "> A. Hands on Practice : DCA with Python\n",
        "\n",
        "> B. Hands on Practice : Machine Learning a Popular $ \\phi - K $ correlation. \n",
        "\n",
        "> C. Hands on Practice : Machine Learning based Artificial Lift Selection. "
      ]
    },
    {
      "cell_type": "markdown",
      "metadata": {
        "id": "kAsubkOjlNhJ"
      },
      "source": [
        "# 1. Python Lists\n",
        "\n",
        "> Mutable: You can index and change elements. "
      ]
    },
    {
      "cell_type": "code",
      "metadata": {
        "id": "5M0t7qskYx17"
      },
      "source": [
        "#The Following are different types of lists. \n",
        "\n",
        "#list of strings. \n",
        "litho_names = ['SST' , 'LST' , 'SH' , 'DOLO']\n",
        "\n",
        "#list of porosities\n",
        "porosities = [0.25 , 0.13 , 0.38 , 0.17]\n",
        "\n",
        "#list of permeabilities. \n",
        "perms_md = [100 , 2 , 0.5 , 3.5 ]"
      ],
      "execution_count": 1,
      "outputs": []
    },
    {
      "cell_type": "markdown",
      "metadata": {
        "id": "irZM_USGr8vv"
      },
      "source": [
        "Accessing the Data in Lists. "
      ]
    },
    {
      "cell_type": "code",
      "metadata": {
        "colab": {
          "base_uri": "https://localhost:8080/"
        },
        "id": "BmaxrnW4r4mg",
        "outputId": "cb40905a-5033-433d-bcdd-a1a489075f58"
      },
      "source": [
        "numbers = [1,2,4,5,6,7,8,12,12,13,45,56,200]\n",
        "\n",
        "len(numbers)"
      ],
      "execution_count": 2,
      "outputs": [
        {
          "output_type": "execute_result",
          "data": {
            "text/plain": [
              "13"
            ]
          },
          "metadata": {
            "tags": []
          },
          "execution_count": 2
        }
      ]
    },
    {
      "cell_type": "code",
      "metadata": {
        "colab": {
          "base_uri": "https://localhost:8080/"
        },
        "id": "7Qa6q9heuXv-",
        "outputId": "3dfa3d0f-879d-4713-a15c-0ba86e3188e8"
      },
      "source": [
        "numbers[0] , numbers[1] , numbers[2] , numbers[3] #... and so on"
      ],
      "execution_count": 4,
      "outputs": [
        {
          "output_type": "execute_result",
          "data": {
            "text/plain": [
              "(1, 2, 4, 5)"
            ]
          },
          "metadata": {
            "tags": []
          },
          "execution_count": 4
        }
      ]
    },
    {
      "cell_type": "markdown",
      "metadata": {
        "id": "SZAfkYlKuwe9"
      },
      "source": [
        "The folliwing is called List Slicing. listname[start:st0p:step]"
      ]
    },
    {
      "cell_type": "code",
      "metadata": {
        "colab": {
          "base_uri": "https://localhost:8080/"
        },
        "id": "fJFNqVIludpc",
        "outputId": "6b572eb5-a9ce-49af-de04-4032a106bf7b"
      },
      "source": [
        "numbers[0:5]"
      ],
      "execution_count": 5,
      "outputs": [
        {
          "output_type": "execute_result",
          "data": {
            "text/plain": [
              "[1, 2, 4, 5, 6]"
            ]
          },
          "metadata": {
            "tags": []
          },
          "execution_count": 5
        }
      ]
    },
    {
      "cell_type": "code",
      "metadata": {
        "id": "mny4h0Ykulcf"
      },
      "source": [
        "#List reversal\n",
        "\n",
        "original = [1,2,3,4,5,6]\n",
        "\n",
        "reversed_list = original[-1::-1]"
      ],
      "execution_count": 13,
      "outputs": []
    },
    {
      "cell_type": "code",
      "metadata": {
        "colab": {
          "base_uri": "https://localhost:8080/"
        },
        "id": "lwQMNEU0wNnU",
        "outputId": "136a84d8-ee0b-4adc-c933-a4db6d42c097"
      },
      "source": [
        "reversed_list"
      ],
      "execution_count": 14,
      "outputs": [
        {
          "output_type": "execute_result",
          "data": {
            "text/plain": [
              "[6, 5, 4, 3, 2, 1]"
            ]
          },
          "metadata": {
            "tags": []
          },
          "execution_count": 14
        }
      ]
    },
    {
      "cell_type": "markdown",
      "metadata": {
        "id": "M_eiFejgw5r_"
      },
      "source": [
        "# 2. Python Dictionaries\n",
        "\n",
        "{key : value}"
      ]
    },
    {
      "cell_type": "code",
      "metadata": {
        "colab": {
          "base_uri": "https://localhost:8080/"
        },
        "id": "D0xDcOq3wPbf",
        "outputId": "214f3373-f37b-42f2-ca3e-56fede70ab62"
      },
      "source": [
        "rock_details = {'sst1': 0.25 , 'sst2': 0.30 , 'lst1': 0.12 , 'lst2': 16}\n",
        "\n",
        "rock_details"
      ],
      "execution_count": 15,
      "outputs": [
        {
          "output_type": "execute_result",
          "data": {
            "text/plain": [
              "{'lst1': 0.12, 'lst2': 16, 'sst1': 0.25, 'sst2': 0.3}"
            ]
          },
          "metadata": {
            "tags": []
          },
          "execution_count": 15
        }
      ]
    },
    {
      "cell_type": "code",
      "metadata": {
        "colab": {
          "base_uri": "https://localhost:8080/"
        },
        "id": "5PuDoH4SxL3u",
        "outputId": "2afa68d3-b3b2-4d57-e09e-c0ed3898e816"
      },
      "source": [
        "reservoir_data = {'porosities': [0.24, 0.25 , 0.34 , 0.44] , \n",
        "                  'perms_md' : [120, 100, 60 , 500]}\n",
        "\n",
        "reservoir_data['porosities']"
      ],
      "execution_count": 16,
      "outputs": [
        {
          "output_type": "execute_result",
          "data": {
            "text/plain": [
              "[0.24, 0.25, 0.34, 0.44]"
            ]
          },
          "metadata": {
            "tags": []
          },
          "execution_count": 16
        }
      ]
    },
    {
      "cell_type": "markdown",
      "metadata": {
        "id": "MJzJ-oqkx0ae"
      },
      "source": [
        "# 3. Python : Loops & Iterations."
      ]
    },
    {
      "cell_type": "code",
      "metadata": {
        "colab": {
          "base_uri": "https://localhost:8080/"
        },
        "id": "KUtGHfFHxx3M",
        "outputId": "62d24dda-6566-4fde-eeb1-b5e694816de9"
      },
      "source": [
        "porosities"
      ],
      "execution_count": 17,
      "outputs": [
        {
          "output_type": "execute_result",
          "data": {
            "text/plain": [
              "[0.25, 0.13, 0.38, 0.17]"
            ]
          },
          "metadata": {
            "tags": []
          },
          "execution_count": 17
        }
      ]
    },
    {
      "cell_type": "code",
      "metadata": {
        "colab": {
          "base_uri": "https://localhost:8080/"
        },
        "id": "VFB71dc5x5ny",
        "outputId": "187a5f56-58c7-4b20-b602-c3cd726ab888"
      },
      "source": [
        "for i in porosities:\n",
        "  print(i)"
      ],
      "execution_count": 19,
      "outputs": [
        {
          "output_type": "stream",
          "text": [
            "0.25\n",
            "0.13\n",
            "0.38\n",
            "0.17\n"
          ],
          "name": "stdout"
        }
      ]
    },
    {
      "cell_type": "code",
      "metadata": {
        "colab": {
          "base_uri": "https://localhost:8080/"
        },
        "id": "9_kySONgx8_U",
        "outputId": "95a6652f-7933-41ea-9d49-f45bbea44fb1"
      },
      "source": [
        "litho_names"
      ],
      "execution_count": 21,
      "outputs": [
        {
          "output_type": "execute_result",
          "data": {
            "text/plain": [
              "['SST', 'LST', 'SH', 'DOLO']"
            ]
          },
          "metadata": {
            "tags": []
          },
          "execution_count": 21
        }
      ]
    },
    {
      "cell_type": "code",
      "metadata": {
        "colab": {
          "base_uri": "https://localhost:8080/"
        },
        "id": "C3uHAT_ayAca",
        "outputId": "b84a82d3-dbfb-4558-ad80-9416a4492a53"
      },
      "source": [
        "for i in range(len(litho_names)):\n",
        "\n",
        "  print(f'Name{i+1} is {litho_names[i]}')"
      ],
      "execution_count": 23,
      "outputs": [
        {
          "output_type": "stream",
          "text": [
            "Name1 is SST\n",
            "Name2 is LST\n",
            "Name3 is SH\n",
            "Name4 is DOLO\n"
          ],
          "name": "stdout"
        }
      ]
    },
    {
      "cell_type": "code",
      "metadata": {
        "colab": {
          "base_uri": "https://localhost:8080/"
        },
        "id": "xIIJZZz9yMIH",
        "outputId": "58e1c687-7c76-4d8b-b514-6970fc5a6d31"
      },
      "source": [
        "for i in range(10):\n",
        "  print(i)"
      ],
      "execution_count": 26,
      "outputs": [
        {
          "output_type": "stream",
          "text": [
            "0\n",
            "1\n",
            "2\n",
            "3\n",
            "4\n",
            "5\n",
            "6\n",
            "7\n",
            "8\n",
            "9\n"
          ],
          "name": "stdout"
        }
      ]
    },
    {
      "cell_type": "code",
      "metadata": {
        "colab": {
          "base_uri": "https://localhost:8080/"
        },
        "id": "Ub4Z7EiiyTbx",
        "outputId": "654996bf-94ed-4f84-9158-d691d936c28a"
      },
      "source": [
        "mylist = []\n",
        "for i in range(100):\n",
        "  mylist.append(i)\n",
        "\n",
        "print(mylist)"
      ],
      "execution_count": 28,
      "outputs": [
        {
          "output_type": "stream",
          "text": [
            "[0, 1, 2, 3, 4, 5, 6, 7, 8, 9, 10, 11, 12, 13, 14, 15, 16, 17, 18, 19, 20, 21, 22, 23, 24, 25, 26, 27, 28, 29, 30, 31, 32, 33, 34, 35, 36, 37, 38, 39, 40, 41, 42, 43, 44, 45, 46, 47, 48, 49, 50, 51, 52, 53, 54, 55, 56, 57, 58, 59, 60, 61, 62, 63, 64, 65, 66, 67, 68, 69, 70, 71, 72, 73, 74, 75, 76, 77, 78, 79, 80, 81, 82, 83, 84, 85, 86, 87, 88, 89, 90, 91, 92, 93, 94, 95, 96, 97, 98, 99]\n"
          ],
          "name": "stdout"
        }
      ]
    },
    {
      "cell_type": "code",
      "metadata": {
        "id": "GMvW2c2iygLc"
      },
      "source": [
        ""
      ],
      "execution_count": null,
      "outputs": []
    },
    {
      "cell_type": "markdown",
      "metadata": {
        "id": "UKwvFdSny1SP"
      },
      "source": [
        "# 4. Python Functions - VVVVIMP!"
      ]
    },
    {
      "cell_type": "code",
      "metadata": {
        "id": "CujiDasCy0b4"
      },
      "source": [
        "def funcname( parameter1 , parameter2):\n",
        "\n",
        "  res = parameter1 + parameter2\n",
        "\n",
        "  return res"
      ],
      "execution_count": 30,
      "outputs": []
    },
    {
      "cell_type": "code",
      "metadata": {
        "colab": {
          "base_uri": "https://localhost:8080/"
        },
        "id": "HUu4a9slzDtW",
        "outputId": "11f34a7c-8685-4cd7-c1de-204d2c2f972a"
      },
      "source": [
        "funcname(1,2)"
      ],
      "execution_count": 31,
      "outputs": [
        {
          "output_type": "execute_result",
          "data": {
            "text/plain": [
              "3"
            ]
          },
          "metadata": {
            "tags": []
          },
          "execution_count": 31
        }
      ]
    },
    {
      "cell_type": "code",
      "metadata": {
        "id": "bcEisEP0zJzt"
      },
      "source": [
        "# Suppose we have a function f(x) = -x^2 + 5x + sinx + 5 \n",
        "# We want to create a function that returns y for each x according to this mapping. \n",
        "\n",
        "def f(x):\n",
        "\n",
        "  import math\n",
        "\n",
        "  y = -x**2 + 5*x + math.sin(x) + 5\n",
        "\n",
        "  return y\n",
        "\n"
      ],
      "execution_count": 35,
      "outputs": []
    },
    {
      "cell_type": "code",
      "metadata": {
        "colab": {
          "base_uri": "https://localhost:8080/"
        },
        "id": "hEvnGRAH4klm",
        "outputId": "1e00d62f-34b8-4a8f-8e23-d8117babc0dd"
      },
      "source": [
        "f(3)"
      ],
      "execution_count": 36,
      "outputs": [
        {
          "output_type": "execute_result",
          "data": {
            "text/plain": [
              "11.141120008059868"
            ]
          },
          "metadata": {
            "tags": []
          },
          "execution_count": 36
        }
      ]
    },
    {
      "cell_type": "code",
      "metadata": {
        "colab": {
          "base_uri": "https://localhost:8080/",
          "height": 282
        },
        "id": "FA94j8aM4lrE",
        "outputId": "2ec1f998-2e65-49f6-c1d4-8e8a9d3880e3"
      },
      "source": [
        "#Optional. What if we are interested in seeing the graph of this function. \n",
        "import matplotlib.pyplot as plt\n",
        "\n",
        "X = [1,2,3,4,5,6,7,8,9,10]\n",
        "\n",
        "Y= []\n",
        "\n",
        "for i in X:\n",
        "\n",
        "  Y.append(f(i))\n",
        "\n",
        "plt.plot(X,Y)"
      ],
      "execution_count": 37,
      "outputs": [
        {
          "output_type": "execute_result",
          "data": {
            "text/plain": [
              "[<matplotlib.lines.Line2D at 0x7f66ffd2a150>]"
            ]
          },
          "metadata": {
            "tags": []
          },
          "execution_count": 37
        },
        {
          "output_type": "display_data",
          "data": {
            "image/png": "[encoded data removed]",
            "text/plain": [
              "<Figure size 432x288 with 1 Axes>"
            ]
          },
          "metadata": {
            "tags": [],
            "needs_background": "light"
          }
        }
      ]
    },
    {
      "cell_type": "code",
      "metadata": {
        "id": "WthaEBo645TI"
      },
      "source": [
        ""
      ],
      "execution_count": null,
      "outputs": []
    },
    {
      "cell_type": "markdown",
      "metadata": {
        "id": "eB-ZJ0Km7VYB"
      },
      "source": [
        "# 5. Data Analysis (NumPy and Pandas) & Visualization (Matplotlib)\n",
        "\n",
        "> NumPy : Numerical Python : Built on C++. Superfast. \"NumPy Arrays\"\n",
        "\n",
        "> Pandas : Excel of Python : Built on Top of NumPy. \"Pandas DataFrame\"."
      ]
    },
    {
      "cell_type": "markdown",
      "metadata": {
        "id": "6qCd6vy0L_Ws"
      },
      "source": [
        "## 1. NumPy"
      ]
    },
    {
      "cell_type": "code",
      "metadata": {
        "id": "JuU4bmck7wtG"
      },
      "source": [
        "import numpy as np"
      ],
      "execution_count": 39,
      "outputs": []
    },
    {
      "cell_type": "code",
      "metadata": {
        "colab": {
          "base_uri": "https://localhost:8080/"
        },
        "id": "BgmWJOtKLZJd",
        "outputId": "d9493bac-2f23-423c-f576-e6b9857eefb7"
      },
      "source": [
        "num1 = [1,2,3,4,5]\n",
        "num2 = [5,6,7,8,9]\n",
        "\n",
        "#Lets first Directly convert the list to NumPy arrays -> use np.array(listname)\n",
        "arr1 = np.array(num1)\n",
        "arr2 = np.array(num2)\n",
        "\n",
        "#And Let's now solve the List Disadvantages using NumPy\n",
        "print(arr1)\n",
        "print(arr2)\n",
        "print(arr1*arr2)\n",
        "print(arr1 + arr2)"
      ],
      "execution_count": 46,
      "outputs": [
        {
          "output_type": "stream",
          "text": [
            "[1 2 3 4 5]\n",
            "[5 6 7 8 9]\n",
            "[ 5 12 21 32 45]\n",
            "[ 6  8 10 12 14]\n"
          ],
          "name": "stdout"
        }
      ]
    },
    {
      "cell_type": "code",
      "metadata": {
        "colab": {
          "base_uri": "https://localhost:8080/",
          "height": 282
        },
        "id": "J-0b1DRZHrLY",
        "outputId": "1a930f34-506a-414e-a712-661d1f48a205"
      },
      "source": [
        "#linspace creates number of points between a start and an end point.\n",
        "Sw = np.linspace(0,1,50)\n",
        "\n",
        "krw = Sw**3\n",
        "\n",
        "kro = (1-Sw)**3\n",
        "\n",
        "#plotting\n",
        "plt.plot(Sw,krw,label='Water Relperm')\n",
        "plt.plot(Sw,kro,label='Oil Relperm')\n",
        "plt.grid()\n",
        "plt.legend()"
      ],
      "execution_count": 43,
      "outputs": [
        {
          "output_type": "execute_result",
          "data": {
            "text/plain": [
              "<matplotlib.legend.Legend at 0x7f66ff623b10>"
            ]
          },
          "metadata": {
            "tags": []
          },
          "execution_count": 43
        },
        {
          "output_type": "display_data",
          "data": {
            "image/png": "[encoded data removed]",
            "text/plain": [
              "<Figure size 432x288 with 1 Axes>"
            ]
          },
          "metadata": {
            "tags": [],
            "needs_background": "light"
          }
        }
      ]
    },
    {
      "cell_type": "code",
      "metadata": {
        "colab": {
          "base_uri": "https://localhost:8080/"
        },
        "id": "xjKOsySmKTxP",
        "outputId": "38928657-5b34-4990-9e7c-674dc5175cd3"
      },
      "source": [
        "Sw"
      ],
      "execution_count": 44,
      "outputs": [
        {
          "output_type": "execute_result",
          "data": {
            "text/plain": [
              "array([0.        , 0.02040816, 0.04081633, 0.06122449, 0.08163265,\n",
              "       0.10204082, 0.12244898, 0.14285714, 0.16326531, 0.18367347,\n",
              "       0.20408163, 0.2244898 , 0.24489796, 0.26530612, 0.28571429,\n",
              "       0.30612245, 0.32653061, 0.34693878, 0.36734694, 0.3877551 ,\n",
              "       0.40816327, 0.42857143, 0.44897959, 0.46938776, 0.48979592,\n",
              "       0.51020408, 0.53061224, 0.55102041, 0.57142857, 0.59183673,\n",
              "       0.6122449 , 0.63265306, 0.65306122, 0.67346939, 0.69387755,\n",
              "       0.71428571, 0.73469388, 0.75510204, 0.7755102 , 0.79591837,\n",
              "       0.81632653, 0.83673469, 0.85714286, 0.87755102, 0.89795918,\n",
              "       0.91836735, 0.93877551, 0.95918367, 0.97959184, 1.        ])"
            ]
          },
          "metadata": {
            "tags": []
          },
          "execution_count": 44
        }
      ]
    },
    {
      "cell_type": "markdown",
      "metadata": {
        "id": "Mu33orqDK_vi"
      },
      "source": [
        "Suppose you want to create an array x where each value is center of a grid block."
      ]
    },
    {
      "cell_type": "code",
      "metadata": {
        "colab": {
          "base_uri": "https://localhost:8080/"
        },
        "id": "MjvN5wUHK8Ds",
        "outputId": "fca40176-dfe8-4177-c1f3-d25889f7787c"
      },
      "source": [
        "dx = 10 #ft\n",
        "\n",
        "np.arange(0,110,dx)"
      ],
      "execution_count": 45,
      "outputs": [
        {
          "output_type": "execute_result",
          "data": {
            "text/plain": [
              "array([  0,  10,  20,  30,  40,  50,  60,  70,  80,  90, 100])"
            ]
          },
          "metadata": {
            "tags": []
          },
          "execution_count": 45
        }
      ]
    },
    {
      "cell_type": "code",
      "metadata": {
        "colab": {
          "base_uri": "https://localhost:8080/"
        },
        "id": "Mcc-W1K8LMpa",
        "outputId": "ac72e8e8-b2d5-4e26-d688-456c507e861d"
      },
      "source": [
        "\n",
        "#Will be useful for Reservoir simulation. Space-Time Arrays.\n",
        "\n",
        "#Suppose you want to build an array for days. from t = 0th day to t= 500th day. \n",
        "#Time step = 20 days. \n",
        "\n",
        "t = np.arange(0,520,20)\n",
        "\n",
        "t"
      ],
      "execution_count": 48,
      "outputs": [
        {
          "output_type": "execute_result",
          "data": {
            "text/plain": [
              "array([  0,  20,  40,  60,  80, 100, 120, 140, 160, 180, 200, 220, 240,\n",
              "       260, 280, 300, 320, 340, 360, 380, 400, 420, 440, 460, 480, 500])"
            ]
          },
          "metadata": {
            "tags": []
          },
          "execution_count": 48
        }
      ]
    },
    {
      "cell_type": "markdown",
      "metadata": {
        "id": "tW0IpkaSLn4N"
      },
      "source": [
        "Universal Functions Make Scientific computations easy using NumPy : https://www.w3schools.com/python/numpy_ufunc.asp"
      ]
    },
    {
      "cell_type": "code",
      "metadata": {
        "colab": {
          "base_uri": "https://localhost:8080/"
        },
        "id": "ww616-nrLixm",
        "outputId": "d0780ae9-50f5-41d0-86d4-ba6740faf058"
      },
      "source": [
        "np.log2(t)"
      ],
      "execution_count": 49,
      "outputs": [
        {
          "output_type": "stream",
          "text": [
            "/usr/local/lib/python3.7/dist-packages/ipykernel_launcher.py:1: RuntimeWarning: divide by zero encountered in log2\n",
            "  \"\"\"Entry point for launching an IPython kernel.\n"
          ],
          "name": "stderr"
        },
        {
          "output_type": "execute_result",
          "data": {
            "text/plain": [
              "array([      -inf, 4.32192809, 5.32192809, 5.9068906 , 6.32192809,\n",
              "       6.64385619, 6.9068906 , 7.12928302, 7.32192809, 7.4918531 ,\n",
              "       7.64385619, 7.78135971, 7.9068906 , 8.02236781, 8.12928302,\n",
              "       8.22881869, 8.32192809, 8.40939094, 8.4918531 , 8.56985561,\n",
              "       8.64385619, 8.71424552, 8.78135971, 8.84549005, 8.9068906 ,\n",
              "       8.96578428])"
            ]
          },
          "metadata": {
            "tags": []
          },
          "execution_count": 49
        }
      ]
    },
    {
      "cell_type": "code",
      "metadata": {
        "colab": {
          "base_uri": "https://localhost:8080/"
        },
        "id": "ieqTwTSaLz0S",
        "outputId": "82768405-7cc3-4c0a-e0be-fc09ae872f77"
      },
      "source": [
        "np.sin(t)"
      ],
      "execution_count": 50,
      "outputs": [
        {
          "output_type": "execute_result",
          "data": {
            "text/plain": [
              "array([ 0.        ,  0.91294525,  0.74511316, -0.30481062, -0.99388865,\n",
              "       -0.50636564,  0.58061118,  0.98023966,  0.21942526, -0.80115264,\n",
              "       -0.8732973 ,  0.08839871,  0.94544515,  0.6832397 , -0.38780942,\n",
              "       -0.99975584, -0.42815543,  0.65031074,  0.95891572,  0.13232187,\n",
              "       -0.85091936, -0.82681172,  0.17610529,  0.97054255,  0.61601671,\n",
              "       -0.46777181])"
            ]
          },
          "metadata": {
            "tags": []
          },
          "execution_count": 50
        }
      ]
    },
    {
      "cell_type": "code",
      "metadata": {
        "colab": {
          "base_uri": "https://localhost:8080/",
          "height": 282
        },
        "id": "YbZCF2YhL4AU",
        "outputId": "faf36b5c-dc87-4f2d-cb25-8ff3d0c1007f"
      },
      "source": [
        "plt.plot(t,np.sin(t))"
      ],
      "execution_count": 51,
      "outputs": [
        {
          "output_type": "execute_result",
          "data": {
            "text/plain": [
              "[<matplotlib.lines.Line2D at 0x7f66ff5cdb90>]"
            ]
          },
          "metadata": {
            "tags": []
          },
          "execution_count": 51
        },
        {
          "output_type": "display_data",
          "data": {
            "image/png": "[encoded data removed]",
            "text/plain": [
              "<Figure size 432x288 with 1 Axes>"
            ]
          },
          "metadata": {
            "tags": [],
            "needs_background": "light"
          }
        }
      ]
    },
    {
      "cell_type": "code",
      "metadata": {
        "id": "5GIhDlyzL6ui"
      },
      "source": [
        ""
      ],
      "execution_count": null,
      "outputs": []
    },
    {
      "cell_type": "markdown",
      "metadata": {
        "id": "mS7_n852MEBq"
      },
      "source": [
        "## 2. Pandas "
      ]
    },
    {
      "cell_type": "code",
      "metadata": {
        "colab": {
          "base_uri": "https://localhost:8080/",
          "height": 195
        },
        "id": "2yrDhjQvMF7G",
        "outputId": "d6df706a-4828-4f31-9543-45b67358bf28"
      },
      "source": [
        "#Step 1: Import Pandas with an alias 'pd'\n",
        "import pandas as pd\n",
        "\n",
        "\n",
        "#Step 2: Create your dictionary\n",
        "cambay_rocks = {'phi': [0.2,0.40,0.30,0.25,0.270],\n",
        "                'perm': [100,20,150,130,145],\n",
        "                'lith': ['sst','shale','sst','sst','sst']}\n",
        "\n",
        "#Step 3: Create your Table.\n",
        "rock_table = pd.DataFrame(cambay_rocks)\n",
        "\n",
        "#Step 4: Print your table.\n",
        "rock_table"
      ],
      "execution_count": 52,
      "outputs": [
        {
          "output_type": "execute_result",
          "data": {
            "text/html": [
              "<div>\n",
              "<style scoped>\n",
              "    .dataframe tbody tr th:only-of-type {\n",
              "        vertical-align: middle;\n",
              "    }\n",
              "\n",
              "    .dataframe tbody tr th {\n",
              "        vertical-align: top;\n",
              "    }\n",
              "\n",
              "    .dataframe thead th {\n",
              "        text-align: right;\n",
              "    }\n",
              "</style>\n",
              "<table border=\"1\" class=\"dataframe\">\n",
              "  <thead>\n",
              "    <tr style=\"text-align: right;\">\n",
              "      <th></th>\n",
              "      <th>phi</th>\n",
              "      <th>perm</th>\n",
              "      <th>lith</th>\n",
              "    </tr>\n",
              "  </thead>\n",
              "  <tbody>\n",
              "    <tr>\n",
              "      <th>0</th>\n",
              "      <td>0.20</td>\n",
              "      <td>100</td>\n",
              "      <td>sst</td>\n",
              "    </tr>\n",
              "    <tr>\n",
              "      <th>1</th>\n",
              "      <td>0.40</td>\n",
              "      <td>20</td>\n",
              "      <td>shale</td>\n",
              "    </tr>\n",
              "    <tr>\n",
              "      <th>2</th>\n",
              "      <td>0.30</td>\n",
              "      <td>150</td>\n",
              "      <td>sst</td>\n",
              "    </tr>\n",
              "    <tr>\n",
              "      <th>3</th>\n",
              "      <td>0.25</td>\n",
              "      <td>130</td>\n",
              "      <td>sst</td>\n",
              "    </tr>\n",
              "    <tr>\n",
              "      <th>4</th>\n",
              "      <td>0.27</td>\n",
              "      <td>145</td>\n",
              "      <td>sst</td>\n",
              "    </tr>\n",
              "  </tbody>\n",
              "</table>\n",
              "</div>"
            ],
            "text/plain": [
              "    phi  perm   lith\n",
              "0  0.20   100    sst\n",
              "1  0.40    20  shale\n",
              "2  0.30   150    sst\n",
              "3  0.25   130    sst\n",
              "4  0.27   145    sst"
            ]
          },
          "metadata": {
            "tags": []
          },
          "execution_count": 52
        }
      ]
    },
    {
      "cell_type": "code",
      "metadata": {
        "colab": {
          "base_uri": "https://localhost:8080/",
          "height": 215
        },
        "id": "W8Gtm3IVMPBc",
        "outputId": "08a3b9c3-2a5d-4529-fefa-e6a59e667793"
      },
      "source": [
        "df = pd.read_csv('/content/sample_data/california_housing_train.csv')\n",
        "\n",
        "\n",
        "#Similarly excel file can be read by- \n",
        "#df = pd.read_excel('\\path\\filename.csv')\n",
        "\n",
        "df.head()"
      ],
      "execution_count": 56,
      "outputs": [
        {
          "output_type": "execute_result",
          "data": {
            "text/html": [
              "<div>\n",
              "<style scoped>\n",
              "    .dataframe tbody tr th:only-of-type {\n",
              "        vertical-align: middle;\n",
              "    }\n",
              "\n",
              "    .dataframe tbody tr th {\n",
              "        vertical-align: top;\n",
              "    }\n",
              "\n",
              "    .dataframe thead th {\n",
              "        text-align: right;\n",
              "    }\n",
              "</style>\n",
              "<table border=\"1\" class=\"dataframe\">\n",
              "  <thead>\n",
              "    <tr style=\"text-align: right;\">\n",
              "      <th></th>\n",
              "      <th>longitude</th>\n",
              "      <th>latitude</th>\n",
              "      <th>housing_median_age</th>\n",
              "      <th>total_rooms</th>\n",
              "      <th>total_bedrooms</th>\n",
              "      <th>population</th>\n",
              "      <th>households</th>\n",
              "      <th>median_income</th>\n",
              "      <th>median_house_value</th>\n",
              "    </tr>\n",
              "  </thead>\n",
              "  <tbody>\n",
              "    <tr>\n",
              "      <th>0</th>\n",
              "      <td>-114.31</td>\n",
              "      <td>34.19</td>\n",
              "      <td>15.0</td>\n",
              "      <td>5612.0</td>\n",
              "      <td>1283.0</td>\n",
              "      <td>1015.0</td>\n",
              "      <td>472.0</td>\n",
              "      <td>1.4936</td>\n",
              "      <td>66900.0</td>\n",
              "    </tr>\n",
              "    <tr>\n",
              "      <th>1</th>\n",
              "      <td>-114.47</td>\n",
              "      <td>34.40</td>\n",
              "      <td>19.0</td>\n",
              "      <td>7650.0</td>\n",
              "      <td>1901.0</td>\n",
              "      <td>1129.0</td>\n",
              "      <td>463.0</td>\n",
              "      <td>1.8200</td>\n",
              "      <td>80100.0</td>\n",
              "    </tr>\n",
              "    <tr>\n",
              "      <th>2</th>\n",
              "      <td>-114.56</td>\n",
              "      <td>33.69</td>\n",
              "      <td>17.0</td>\n",
              "      <td>720.0</td>\n",
              "      <td>174.0</td>\n",
              "      <td>333.0</td>\n",
              "      <td>117.0</td>\n",
              "      <td>1.6509</td>\n",
              "      <td>85700.0</td>\n",
              "    </tr>\n",
              "    <tr>\n",
              "      <th>3</th>\n",
              "      <td>-114.57</td>\n",
              "      <td>33.64</td>\n",
              "      <td>14.0</td>\n",
              "      <td>1501.0</td>\n",
              "      <td>337.0</td>\n",
              "      <td>515.0</td>\n",
              "      <td>226.0</td>\n",
              "      <td>3.1917</td>\n",
              "      <td>73400.0</td>\n",
              "    </tr>\n",
              "    <tr>\n",
              "      <th>4</th>\n",
              "      <td>-114.57</td>\n",
              "      <td>33.57</td>\n",
              "      <td>20.0</td>\n",
              "      <td>1454.0</td>\n",
              "      <td>326.0</td>\n",
              "      <td>624.0</td>\n",
              "      <td>262.0</td>\n",
              "      <td>1.9250</td>\n",
              "      <td>65500.0</td>\n",
              "    </tr>\n",
              "  </tbody>\n",
              "</table>\n",
              "</div>"
            ],
            "text/plain": [
              "   longitude  latitude  ...  median_income  median_house_value\n",
              "0    -114.31     34.19  ...         1.4936             66900.0\n",
              "1    -114.47     34.40  ...         1.8200             80100.0\n",
              "2    -114.56     33.69  ...         1.6509             85700.0\n",
              "3    -114.57     33.64  ...         3.1917             73400.0\n",
              "4    -114.57     33.57  ...         1.9250             65500.0\n",
              "\n",
              "[5 rows x 9 columns]"
            ]
          },
          "metadata": {
            "tags": []
          },
          "execution_count": 56
        }
      ]
    },
    {
      "cell_type": "markdown",
      "metadata": {
        "id": "zomysjr2MZkF"
      },
      "source": [
        "Description-\n",
        "\n",
        "Note that the Pandas DF has two parts-\n",
        "\n",
        "The vertical Columns.\n",
        "The Horizontal Rows."
      ]
    },
    {
      "cell_type": "code",
      "metadata": {
        "colab": {
          "base_uri": "https://localhost:8080/"
        },
        "id": "m2cUDHRzMXLs",
        "outputId": "22b6cbb9-5bda-4ecf-bd69-b72a664595d3"
      },
      "source": [
        "df.shape"
      ],
      "execution_count": 58,
      "outputs": [
        {
          "output_type": "execute_result",
          "data": {
            "text/plain": [
              "(17000, 9)"
            ]
          },
          "metadata": {
            "tags": []
          },
          "execution_count": 58
        }
      ]
    },
    {
      "cell_type": "markdown",
      "metadata": {
        "id": "_egNS_rmM1re"
      },
      "source": [
        "Descriptive Statistics of each feature."
      ]
    },
    {
      "cell_type": "code",
      "metadata": {
        "colab": {
          "base_uri": "https://localhost:8080/",
          "height": 304
        },
        "id": "x8QfHr0dMtxA",
        "outputId": "20509765-4711-4057-cdc7-3a296ba4a5be"
      },
      "source": [
        "df.describe()"
      ],
      "execution_count": 59,
      "outputs": [
        {
          "output_type": "execute_result",
          "data": {
            "text/html": [
              "<div>\n",
              "<style scoped>\n",
              "    .dataframe tbody tr th:only-of-type {\n",
              "        vertical-align: middle;\n",
              "    }\n",
              "\n",
              "    .dataframe tbody tr th {\n",
              "        vertical-align: top;\n",
              "    }\n",
              "\n",
              "    .dataframe thead th {\n",
              "        text-align: right;\n",
              "    }\n",
              "</style>\n",
              "<table border=\"1\" class=\"dataframe\">\n",
              "  <thead>\n",
              "    <tr style=\"text-align: right;\">\n",
              "      <th></th>\n",
              "      <th>longitude</th>\n",
              "      <th>latitude</th>\n",
              "      <th>housing_median_age</th>\n",
              "      <th>total_rooms</th>\n",
              "      <th>total_bedrooms</th>\n",
              "      <th>population</th>\n",
              "      <th>households</th>\n",
              "      <th>median_income</th>\n",
              "      <th>median_house_value</th>\n",
              "    </tr>\n",
              "  </thead>\n",
              "  <tbody>\n",
              "    <tr>\n",
              "      <th>count</th>\n",
              "      <td>17000.000000</td>\n",
              "      <td>17000.000000</td>\n",
              "      <td>17000.000000</td>\n",
              "      <td>17000.000000</td>\n",
              "      <td>17000.000000</td>\n",
              "      <td>17000.000000</td>\n",
              "      <td>17000.000000</td>\n",
              "      <td>17000.000000</td>\n",
              "      <td>17000.000000</td>\n",
              "    </tr>\n",
              "    <tr>\n",
              "      <th>mean</th>\n",
              "      <td>-119.562108</td>\n",
              "      <td>35.625225</td>\n",
              "      <td>28.589353</td>\n",
              "      <td>2643.664412</td>\n",
              "      <td>539.410824</td>\n",
              "      <td>1429.573941</td>\n",
              "      <td>501.221941</td>\n",
              "      <td>3.883578</td>\n",
              "      <td>207300.912353</td>\n",
              "    </tr>\n",
              "    <tr>\n",
              "      <th>std</th>\n",
              "      <td>2.005166</td>\n",
              "      <td>2.137340</td>\n",
              "      <td>12.586937</td>\n",
              "      <td>2179.947071</td>\n",
              "      <td>421.499452</td>\n",
              "      <td>1147.852959</td>\n",
              "      <td>384.520841</td>\n",
              "      <td>1.908157</td>\n",
              "      <td>115983.764387</td>\n",
              "    </tr>\n",
              "    <tr>\n",
              "      <th>min</th>\n",
              "      <td>-124.350000</td>\n",
              "      <td>32.540000</td>\n",
              "      <td>1.000000</td>\n",
              "      <td>2.000000</td>\n",
              "      <td>1.000000</td>\n",
              "      <td>3.000000</td>\n",
              "      <td>1.000000</td>\n",
              "      <td>0.499900</td>\n",
              "      <td>14999.000000</td>\n",
              "    </tr>\n",
              "    <tr>\n",
              "      <th>25%</th>\n",
              "      <td>-121.790000</td>\n",
              "      <td>33.930000</td>\n",
              "      <td>18.000000</td>\n",
              "      <td>1462.000000</td>\n",
              "      <td>297.000000</td>\n",
              "      <td>790.000000</td>\n",
              "      <td>282.000000</td>\n",
              "      <td>2.566375</td>\n",
              "      <td>119400.000000</td>\n",
              "    </tr>\n",
              "    <tr>\n",
              "      <th>50%</th>\n",
              "      <td>-118.490000</td>\n",
              "      <td>34.250000</td>\n",
              "      <td>29.000000</td>\n",
              "      <td>2127.000000</td>\n",
              "      <td>434.000000</td>\n",
              "      <td>1167.000000</td>\n",
              "      <td>409.000000</td>\n",
              "      <td>3.544600</td>\n",
              "      <td>180400.000000</td>\n",
              "    </tr>\n",
              "    <tr>\n",
              "      <th>75%</th>\n",
              "      <td>-118.000000</td>\n",
              "      <td>37.720000</td>\n",
              "      <td>37.000000</td>\n",
              "      <td>3151.250000</td>\n",
              "      <td>648.250000</td>\n",
              "      <td>1721.000000</td>\n",
              "      <td>605.250000</td>\n",
              "      <td>4.767000</td>\n",
              "      <td>265000.000000</td>\n",
              "    </tr>\n",
              "    <tr>\n",
              "      <th>max</th>\n",
              "      <td>-114.310000</td>\n",
              "      <td>41.950000</td>\n",
              "      <td>52.000000</td>\n",
              "      <td>37937.000000</td>\n",
              "      <td>6445.000000</td>\n",
              "      <td>35682.000000</td>\n",
              "      <td>6082.000000</td>\n",
              "      <td>15.000100</td>\n",
              "      <td>500001.000000</td>\n",
              "    </tr>\n",
              "  </tbody>\n",
              "</table>\n",
              "</div>"
            ],
            "text/plain": [
              "          longitude      latitude  ...  median_income  median_house_value\n",
              "count  17000.000000  17000.000000  ...   17000.000000        17000.000000\n",
              "mean    -119.562108     35.625225  ...       3.883578       207300.912353\n",
              "std        2.005166      2.137340  ...       1.908157       115983.764387\n",
              "min     -124.350000     32.540000  ...       0.499900        14999.000000\n",
              "25%     -121.790000     33.930000  ...       2.566375       119400.000000\n",
              "50%     -118.490000     34.250000  ...       3.544600       180400.000000\n",
              "75%     -118.000000     37.720000  ...       4.767000       265000.000000\n",
              "max     -114.310000     41.950000  ...      15.000100       500001.000000\n",
              "\n",
              "[8 rows x 9 columns]"
            ]
          },
          "metadata": {
            "tags": []
          },
          "execution_count": 59
        }
      ]
    },
    {
      "cell_type": "markdown",
      "metadata": {
        "id": "KIoZRkBgNASp"
      },
      "source": [
        "### Accessing Columns"
      ]
    },
    {
      "cell_type": "code",
      "metadata": {
        "colab": {
          "base_uri": "https://localhost:8080/"
        },
        "id": "-Y6D0E25M5vq",
        "outputId": "1b67b9a1-26b7-4b61-e57d-1105208f6a40"
      },
      "source": [
        "df.columns"
      ],
      "execution_count": 60,
      "outputs": [
        {
          "output_type": "execute_result",
          "data": {
            "text/plain": [
              "Index(['longitude', 'latitude', 'housing_median_age', 'total_rooms',\n",
              "       'total_bedrooms', 'population', 'households', 'median_income',\n",
              "       'median_house_value'],\n",
              "      dtype='object')"
            ]
          },
          "metadata": {
            "tags": []
          },
          "execution_count": 60
        }
      ]
    },
    {
      "cell_type": "code",
      "metadata": {
        "colab": {
          "base_uri": "https://localhost:8080/"
        },
        "id": "3EPOoL7RNQHK",
        "outputId": "af606baa-e1d3-49ec-ddba-06e682f453e6"
      },
      "source": [
        "rock_table.columns"
      ],
      "execution_count": 62,
      "outputs": [
        {
          "output_type": "execute_result",
          "data": {
            "text/plain": [
              "Index(['phi', 'perm', 'lith'], dtype='object')"
            ]
          },
          "metadata": {
            "tags": []
          },
          "execution_count": 62
        }
      ]
    },
    {
      "cell_type": "code",
      "metadata": {
        "colab": {
          "base_uri": "https://localhost:8080/",
          "height": 195
        },
        "id": "LLOW0O_oM9En",
        "outputId": "9ff29573-c6d0-466c-e34b-b0e4e97e42cf"
      },
      "source": [
        "rock_table[['phi','perm']]"
      ],
      "execution_count": 61,
      "outputs": [
        {
          "output_type": "execute_result",
          "data": {
            "text/html": [
              "<div>\n",
              "<style scoped>\n",
              "    .dataframe tbody tr th:only-of-type {\n",
              "        vertical-align: middle;\n",
              "    }\n",
              "\n",
              "    .dataframe tbody tr th {\n",
              "        vertical-align: top;\n",
              "    }\n",
              "\n",
              "    .dataframe thead th {\n",
              "        text-align: right;\n",
              "    }\n",
              "</style>\n",
              "<table border=\"1\" class=\"dataframe\">\n",
              "  <thead>\n",
              "    <tr style=\"text-align: right;\">\n",
              "      <th></th>\n",
              "      <th>phi</th>\n",
              "      <th>perm</th>\n",
              "    </tr>\n",
              "  </thead>\n",
              "  <tbody>\n",
              "    <tr>\n",
              "      <th>0</th>\n",
              "      <td>0.20</td>\n",
              "      <td>100</td>\n",
              "    </tr>\n",
              "    <tr>\n",
              "      <th>1</th>\n",
              "      <td>0.40</td>\n",
              "      <td>20</td>\n",
              "    </tr>\n",
              "    <tr>\n",
              "      <th>2</th>\n",
              "      <td>0.30</td>\n",
              "      <td>150</td>\n",
              "    </tr>\n",
              "    <tr>\n",
              "      <th>3</th>\n",
              "      <td>0.25</td>\n",
              "      <td>130</td>\n",
              "    </tr>\n",
              "    <tr>\n",
              "      <th>4</th>\n",
              "      <td>0.27</td>\n",
              "      <td>145</td>\n",
              "    </tr>\n",
              "  </tbody>\n",
              "</table>\n",
              "</div>"
            ],
            "text/plain": [
              "    phi  perm\n",
              "0  0.20   100\n",
              "1  0.40    20\n",
              "2  0.30   150\n",
              "3  0.25   130\n",
              "4  0.27   145"
            ]
          },
          "metadata": {
            "tags": []
          },
          "execution_count": 61
        }
      ]
    },
    {
      "cell_type": "markdown",
      "metadata": {
        "id": "gt978toaNgWe"
      },
      "source": [
        "### Accessing Rows."
      ]
    },
    {
      "cell_type": "code",
      "metadata": {
        "colab": {
          "base_uri": "https://localhost:8080/",
          "height": 215
        },
        "id": "bWoU0aPDNQsl",
        "outputId": "ea55a86a-bdd0-4c76-b786-94479c358db5"
      },
      "source": [
        "#Accessing 5th to 9th index rows, and all columns.\n",
        "df.iloc[5:10, :]"
      ],
      "execution_count": 65,
      "outputs": [
        {
          "output_type": "execute_result",
          "data": {
            "text/html": [
              "<div>\n",
              "<style scoped>\n",
              "    .dataframe tbody tr th:only-of-type {\n",
              "        vertical-align: middle;\n",
              "    }\n",
              "\n",
              "    .dataframe tbody tr th {\n",
              "        vertical-align: top;\n",
              "    }\n",
              "\n",
              "    .dataframe thead th {\n",
              "        text-align: right;\n",
              "    }\n",
              "</style>\n",
              "<table border=\"1\" class=\"dataframe\">\n",
              "  <thead>\n",
              "    <tr style=\"text-align: right;\">\n",
              "      <th></th>\n",
              "      <th>longitude</th>\n",
              "      <th>latitude</th>\n",
              "      <th>housing_median_age</th>\n",
              "      <th>total_rooms</th>\n",
              "      <th>total_bedrooms</th>\n",
              "      <th>population</th>\n",
              "      <th>households</th>\n",
              "      <th>median_income</th>\n",
              "      <th>median_house_value</th>\n",
              "    </tr>\n",
              "  </thead>\n",
              "  <tbody>\n",
              "    <tr>\n",
              "      <th>5</th>\n",
              "      <td>-114.58</td>\n",
              "      <td>33.63</td>\n",
              "      <td>29.0</td>\n",
              "      <td>1387.0</td>\n",
              "      <td>236.0</td>\n",
              "      <td>671.0</td>\n",
              "      <td>239.0</td>\n",
              "      <td>3.3438</td>\n",
              "      <td>74000.0</td>\n",
              "    </tr>\n",
              "    <tr>\n",
              "      <th>6</th>\n",
              "      <td>-114.58</td>\n",
              "      <td>33.61</td>\n",
              "      <td>25.0</td>\n",
              "      <td>2907.0</td>\n",
              "      <td>680.0</td>\n",
              "      <td>1841.0</td>\n",
              "      <td>633.0</td>\n",
              "      <td>2.6768</td>\n",
              "      <td>82400.0</td>\n",
              "    </tr>\n",
              "    <tr>\n",
              "      <th>7</th>\n",
              "      <td>-114.59</td>\n",
              "      <td>34.83</td>\n",
              "      <td>41.0</td>\n",
              "      <td>812.0</td>\n",
              "      <td>168.0</td>\n",
              "      <td>375.0</td>\n",
              "      <td>158.0</td>\n",
              "      <td>1.7083</td>\n",
              "      <td>48500.0</td>\n",
              "    </tr>\n",
              "    <tr>\n",
              "      <th>8</th>\n",
              "      <td>-114.59</td>\n",
              "      <td>33.61</td>\n",
              "      <td>34.0</td>\n",
              "      <td>4789.0</td>\n",
              "      <td>1175.0</td>\n",
              "      <td>3134.0</td>\n",
              "      <td>1056.0</td>\n",
              "      <td>2.1782</td>\n",
              "      <td>58400.0</td>\n",
              "    </tr>\n",
              "    <tr>\n",
              "      <th>9</th>\n",
              "      <td>-114.60</td>\n",
              "      <td>34.83</td>\n",
              "      <td>46.0</td>\n",
              "      <td>1497.0</td>\n",
              "      <td>309.0</td>\n",
              "      <td>787.0</td>\n",
              "      <td>271.0</td>\n",
              "      <td>2.1908</td>\n",
              "      <td>48100.0</td>\n",
              "    </tr>\n",
              "  </tbody>\n",
              "</table>\n",
              "</div>"
            ],
            "text/plain": [
              "   longitude  latitude  ...  median_income  median_house_value\n",
              "5    -114.58     33.63  ...         3.3438             74000.0\n",
              "6    -114.58     33.61  ...         2.6768             82400.0\n",
              "7    -114.59     34.83  ...         1.7083             48500.0\n",
              "8    -114.59     33.61  ...         2.1782             58400.0\n",
              "9    -114.60     34.83  ...         2.1908             48100.0\n",
              "\n",
              "[5 rows x 9 columns]"
            ]
          },
          "metadata": {
            "tags": []
          },
          "execution_count": 65
        }
      ]
    },
    {
      "cell_type": "markdown",
      "metadata": {
        "id": "IUejM0N5OYTy"
      },
      "source": [
        "### loc and iloc\n",
        "\n",
        "\" l for label , i for index\""
      ]
    },
    {
      "cell_type": "code",
      "metadata": {
        "colab": {
          "base_uri": "https://localhost:8080/",
          "height": 195
        },
        "id": "8RHLlx9kNjTx",
        "outputId": "c92218d7-3b52-40ba-9428-b410f8beabbd"
      },
      "source": [
        "df.iloc[0:5 , 0:3]"
      ],
      "execution_count": 66,
      "outputs": [
        {
          "output_type": "execute_result",
          "data": {
            "text/html": [
              "<div>\n",
              "<style scoped>\n",
              "    .dataframe tbody tr th:only-of-type {\n",
              "        vertical-align: middle;\n",
              "    }\n",
              "\n",
              "    .dataframe tbody tr th {\n",
              "        vertical-align: top;\n",
              "    }\n",
              "\n",
              "    .dataframe thead th {\n",
              "        text-align: right;\n",
              "    }\n",
              "</style>\n",
              "<table border=\"1\" class=\"dataframe\">\n",
              "  <thead>\n",
              "    <tr style=\"text-align: right;\">\n",
              "      <th></th>\n",
              "      <th>longitude</th>\n",
              "      <th>latitude</th>\n",
              "      <th>housing_median_age</th>\n",
              "    </tr>\n",
              "  </thead>\n",
              "  <tbody>\n",
              "    <tr>\n",
              "      <th>0</th>\n",
              "      <td>-114.31</td>\n",
              "      <td>34.19</td>\n",
              "      <td>15.0</td>\n",
              "    </tr>\n",
              "    <tr>\n",
              "      <th>1</th>\n",
              "      <td>-114.47</td>\n",
              "      <td>34.40</td>\n",
              "      <td>19.0</td>\n",
              "    </tr>\n",
              "    <tr>\n",
              "      <th>2</th>\n",
              "      <td>-114.56</td>\n",
              "      <td>33.69</td>\n",
              "      <td>17.0</td>\n",
              "    </tr>\n",
              "    <tr>\n",
              "      <th>3</th>\n",
              "      <td>-114.57</td>\n",
              "      <td>33.64</td>\n",
              "      <td>14.0</td>\n",
              "    </tr>\n",
              "    <tr>\n",
              "      <th>4</th>\n",
              "      <td>-114.57</td>\n",
              "      <td>33.57</td>\n",
              "      <td>20.0</td>\n",
              "    </tr>\n",
              "  </tbody>\n",
              "</table>\n",
              "</div>"
            ],
            "text/plain": [
              "   longitude  latitude  housing_median_age\n",
              "0    -114.31     34.19                15.0\n",
              "1    -114.47     34.40                19.0\n",
              "2    -114.56     33.69                17.0\n",
              "3    -114.57     33.64                14.0\n",
              "4    -114.57     33.57                20.0"
            ]
          },
          "metadata": {
            "tags": []
          },
          "execution_count": 66
        }
      ]
    },
    {
      "cell_type": "code",
      "metadata": {
        "colab": {
          "base_uri": "https://localhost:8080/",
          "height": 195
        },
        "id": "oqOOBDrdOcbO",
        "outputId": "be7da7a3-bf92-4104-c2ef-9ef954fdddcf"
      },
      "source": [
        "df.loc[0:4, 'longitude':'housing_median_age']"
      ],
      "execution_count": 67,
      "outputs": [
        {
          "output_type": "execute_result",
          "data": {
            "text/html": [
              "<div>\n",
              "<style scoped>\n",
              "    .dataframe tbody tr th:only-of-type {\n",
              "        vertical-align: middle;\n",
              "    }\n",
              "\n",
              "    .dataframe tbody tr th {\n",
              "        vertical-align: top;\n",
              "    }\n",
              "\n",
              "    .dataframe thead th {\n",
              "        text-align: right;\n",
              "    }\n",
              "</style>\n",
              "<table border=\"1\" class=\"dataframe\">\n",
              "  <thead>\n",
              "    <tr style=\"text-align: right;\">\n",
              "      <th></th>\n",
              "      <th>longitude</th>\n",
              "      <th>latitude</th>\n",
              "      <th>housing_median_age</th>\n",
              "    </tr>\n",
              "  </thead>\n",
              "  <tbody>\n",
              "    <tr>\n",
              "      <th>0</th>\n",
              "      <td>-114.31</td>\n",
              "      <td>34.19</td>\n",
              "      <td>15.0</td>\n",
              "    </tr>\n",
              "    <tr>\n",
              "      <th>1</th>\n",
              "      <td>-114.47</td>\n",
              "      <td>34.40</td>\n",
              "      <td>19.0</td>\n",
              "    </tr>\n",
              "    <tr>\n",
              "      <th>2</th>\n",
              "      <td>-114.56</td>\n",
              "      <td>33.69</td>\n",
              "      <td>17.0</td>\n",
              "    </tr>\n",
              "    <tr>\n",
              "      <th>3</th>\n",
              "      <td>-114.57</td>\n",
              "      <td>33.64</td>\n",
              "      <td>14.0</td>\n",
              "    </tr>\n",
              "    <tr>\n",
              "      <th>4</th>\n",
              "      <td>-114.57</td>\n",
              "      <td>33.57</td>\n",
              "      <td>20.0</td>\n",
              "    </tr>\n",
              "  </tbody>\n",
              "</table>\n",
              "</div>"
            ],
            "text/plain": [
              "   longitude  latitude  housing_median_age\n",
              "0    -114.31     34.19                15.0\n",
              "1    -114.47     34.40                19.0\n",
              "2    -114.56     33.69                17.0\n",
              "3    -114.57     33.64                14.0\n",
              "4    -114.57     33.57                20.0"
            ]
          },
          "metadata": {
            "tags": []
          },
          "execution_count": 67
        }
      ]
    },
    {
      "cell_type": "code",
      "metadata": {
        "id": "lY8JFnJ-OjZU"
      },
      "source": [
        ""
      ],
      "execution_count": null,
      "outputs": []
    },
    {
      "cell_type": "markdown",
      "metadata": {
        "id": "NGrVRFVbPh5p"
      },
      "source": [
        "## 3. Plotting : F S P L L G\n",
        "\n",
        "1. F- Figure (figsize=(h,v))\n",
        "2. S- Style (default)\n",
        "3. P - Plot(plt.plot(x,y,label='')\n",
        "4. L- Labels for axes (plt.xlabel)\n",
        "5. L - Legend (plt.legend)\n",
        "6. G - Grid (plt.grid())"
      ]
    },
    {
      "cell_type": "code",
      "metadata": {
        "colab": {
          "base_uri": "https://localhost:8080/",
          "height": 462
        },
        "id": "hJy3c1KaP_ln",
        "outputId": "ee8ba136-b327-4b84-c534-18bd048f2fb9"
      },
      "source": [
        "#1. F : figsize\n",
        "plt.figure(figsize=(8,5))\n",
        "\n",
        "#2. S : Style\n",
        "plt.style.use('default')\n",
        "\n",
        "#3. P : Plot\n",
        "plt.plot(Sw,krw,label='Krw')\n",
        "plt.plot(Sw,kro,label='Kro')\n",
        "\n",
        "#4. L : Labels\n",
        "plt.xlabel('Sw') ; plt.ylabel('Krel')\n",
        "\n",
        "#5. Legend\n",
        "plt.legend()\n",
        "\n",
        "#6. Grid\n",
        "plt.grid()\n",
        "\n",
        "#7. title\n",
        "plt.title('Rel Perm')"
      ],
      "execution_count": 70,
      "outputs": [
        {
          "output_type": "execute_result",
          "data": {
            "text/plain": [
              "Text(0.5, 1.0, 'Rel Perm')"
            ]
          },
          "metadata": {
            "tags": []
          },
          "execution_count": 70
        },
        {
          "output_type": "display_data",
          "data": {
            "image/png": "[encoded data removed]",
            "text/plain": [
              "<Figure size 800x500 with 1 Axes>"
            ]
          },
          "metadata": {
            "tags": []
          }
        }
      ]
    },
    {
      "cell_type": "markdown",
      "metadata": {
        "id": "gmEsP77HQ1Xj"
      },
      "source": [
        "## Data Analysis Excercise : Fractional Flow\n",
        "\n",
        ">fw = 1/(1 + 1/M) M = (krw/mu_w)/(kro/mu_o)\n",
        "\n",
        "Assume mu_o = 1000 cp (heavy oil) mu_w = 1 cp"
      ]
    },
    {
      "cell_type": "code",
      "metadata": {
        "id": "H9xPx9OQRN3E"
      },
      "source": [
        "import warnings\n",
        "warnings.filterwarnings('ignore')"
      ],
      "execution_count": 76,
      "outputs": []
    },
    {
      "cell_type": "code",
      "metadata": {
        "colab": {
          "base_uri": "https://localhost:8080/",
          "height": 466
        },
        "id": "tira1YRkQdnc",
        "outputId": "300b724f-59e7-4e10-adc6-fc577d6b218c"
      },
      "source": [
        "sw = np.linspace(0.01,1,50)\n",
        "\n",
        "mu_o = 1000\n",
        "\n",
        "mu_w = 1\n",
        "\n",
        "M1 = (krw/mu_w)/(kro/mu_o)\n",
        "\n",
        "fw = 1/(1 + (1/M1))\n",
        "\n",
        "plt.plot(sw,fw,label = 'Thin water-Thick oil')\n",
        "\n",
        "M2 = (krw/100)/(kro/mu_o)\n",
        "\n",
        "fw2 = 1/(1+(1/M2))\n",
        "\n",
        "plt.plot(sw,fw2,label='Thick water-Thick oil')\n",
        "\n",
        "\n",
        "plt.xlabel('Sw or Recovery Factor') ; plt.ylabel('fw')\n",
        "plt.legend(loc='best')"
      ],
      "execution_count": 79,
      "outputs": [
        {
          "output_type": "execute_result",
          "data": {
            "text/plain": [
              "<matplotlib.legend.Legend at 0x7f66fef142d0>"
            ]
          },
          "metadata": {
            "tags": []
          },
          "execution_count": 79
        },
        {
          "output_type": "display_data",
          "data": {
            "image/png": "[encoded data removed]",
            "text/plain": [
              "<Figure size 640x480 with 1 Axes>"
            ]
          },
          "metadata": {
            "tags": []
          }
        }
      ]
    },
    {
      "cell_type": "code",
      "metadata": {
        "id": "3lCXs89SQ9w2"
      },
      "source": [
        ""
      ],
      "execution_count": null,
      "outputs": []
    },
    {
      "cell_type": "markdown",
      "metadata": {
        "id": "SGUNlokPSZBX"
      },
      "source": [
        "# 6. Machine Learning : Layman Introduction."
      ]
    },
    {
      "cell_type": "markdown",
      "metadata": {
        "id": "9ErjkOyvSecK"
      },
      "source": [
        "1. Supervised - Regression"
      ]
    },
    {
      "cell_type": "code",
      "metadata": {
        "colab": {
          "base_uri": "https://localhost:8080/",
          "height": 225
        },
        "id": "KuwCf3FzSUHG",
        "outputId": "4c1e9e11-9b1a-4cbe-ed98-bd6a89a8f123"
      },
      "source": [
        "df_example = pd.DataFrame({'phi':[0.1,0.15,0.2,0.25,0.3,0.35],\n",
        " 'pore radius': [5,10,15,20,25,30],\n",
        " 'k': [80,100,120,150,180,'?']})\n",
        "\n",
        "\n",
        "df_example\n",
        "\n",
        "#this becomes a regression problem"
      ],
      "execution_count": 82,
      "outputs": [
        {
          "output_type": "execute_result",
          "data": {
            "text/html": [
              "<div>\n",
              "<style scoped>\n",
              "    .dataframe tbody tr th:only-of-type {\n",
              "        vertical-align: middle;\n",
              "    }\n",
              "\n",
              "    .dataframe tbody tr th {\n",
              "        vertical-align: top;\n",
              "    }\n",
              "\n",
              "    .dataframe thead th {\n",
              "        text-align: right;\n",
              "    }\n",
              "</style>\n",
              "<table border=\"1\" class=\"dataframe\">\n",
              "  <thead>\n",
              "    <tr style=\"text-align: right;\">\n",
              "      <th></th>\n",
              "      <th>phi</th>\n",
              "      <th>pore radius</th>\n",
              "      <th>k</th>\n",
              "    </tr>\n",
              "  </thead>\n",
              "  <tbody>\n",
              "    <tr>\n",
              "      <th>0</th>\n",
              "      <td>0.10</td>\n",
              "      <td>5</td>\n",
              "      <td>80</td>\n",
              "    </tr>\n",
              "    <tr>\n",
              "      <th>1</th>\n",
              "      <td>0.15</td>\n",
              "      <td>10</td>\n",
              "      <td>100</td>\n",
              "    </tr>\n",
              "    <tr>\n",
              "      <th>2</th>\n",
              "      <td>0.20</td>\n",
              "      <td>15</td>\n",
              "      <td>120</td>\n",
              "    </tr>\n",
              "    <tr>\n",
              "      <th>3</th>\n",
              "      <td>0.25</td>\n",
              "      <td>20</td>\n",
              "      <td>150</td>\n",
              "    </tr>\n",
              "    <tr>\n",
              "      <th>4</th>\n",
              "      <td>0.30</td>\n",
              "      <td>25</td>\n",
              "      <td>180</td>\n",
              "    </tr>\n",
              "    <tr>\n",
              "      <th>5</th>\n",
              "      <td>0.35</td>\n",
              "      <td>30</td>\n",
              "      <td>?</td>\n",
              "    </tr>\n",
              "  </tbody>\n",
              "</table>\n",
              "</div>"
            ],
            "text/plain": [
              "    phi  pore radius    k\n",
              "0  0.10            5   80\n",
              "1  0.15           10  100\n",
              "2  0.20           15  120\n",
              "3  0.25           20  150\n",
              "4  0.30           25  180\n",
              "5  0.35           30    ?"
            ]
          },
          "metadata": {
            "tags": []
          },
          "execution_count": 82
        }
      ]
    },
    {
      "cell_type": "markdown",
      "metadata": {
        "id": "ZXvb2OleS4R9"
      },
      "source": [
        "#### Resulting model : $ K = m_1 \\phi + m_2 r + c $"
      ]
    },
    {
      "cell_type": "markdown",
      "metadata": {
        "id": "ofLvJMOpTSVa"
      },
      "source": [
        "> 2. Supervised - Classification"
      ]
    },
    {
      "cell_type": "code",
      "metadata": {
        "colab": {
          "base_uri": "https://localhost:8080/",
          "height": 284
        },
        "id": "_kpObkYdSXBY",
        "outputId": "a8ff69cb-ad32-407f-93c2-86a0fbba45bb"
      },
      "source": [
        "rock_labels = pd.DataFrame({'k_md':[100,150,200,5,90,6,80,4],\n",
        " 'phi': [0.25,0.27,0.22,0.44,0.26,0.38,0.21,0.34],\n",
        " 'RT(ohm-m)': [100,110,120,10,89,15,80,20],\n",
        " 'lith':['sst','sst','sst','shale','sst','shale','sst','???']})\n",
        "\n",
        "\n",
        "rock_labels\n",
        "#KNN | K-Means "
      ],
      "execution_count": 84,
      "outputs": [
        {
          "output_type": "execute_result",
          "data": {
            "text/html": [
              "<div>\n",
              "<style scoped>\n",
              "    .dataframe tbody tr th:only-of-type {\n",
              "        vertical-align: middle;\n",
              "    }\n",
              "\n",
              "    .dataframe tbody tr th {\n",
              "        vertical-align: top;\n",
              "    }\n",
              "\n",
              "    .dataframe thead th {\n",
              "        text-align: right;\n",
              "    }\n",
              "</style>\n",
              "<table border=\"1\" class=\"dataframe\">\n",
              "  <thead>\n",
              "    <tr style=\"text-align: right;\">\n",
              "      <th></th>\n",
              "      <th>k_md</th>\n",
              "      <th>phi</th>\n",
              "      <th>RT(ohm-m)</th>\n",
              "      <th>lith</th>\n",
              "    </tr>\n",
              "  </thead>\n",
              "  <tbody>\n",
              "    <tr>\n",
              "      <th>0</th>\n",
              "      <td>100</td>\n",
              "      <td>0.25</td>\n",
              "      <td>100</td>\n",
              "      <td>sst</td>\n",
              "    </tr>\n",
              "    <tr>\n",
              "      <th>1</th>\n",
              "      <td>150</td>\n",
              "      <td>0.27</td>\n",
              "      <td>110</td>\n",
              "      <td>sst</td>\n",
              "    </tr>\n",
              "    <tr>\n",
              "      <th>2</th>\n",
              "      <td>200</td>\n",
              "      <td>0.22</td>\n",
              "      <td>120</td>\n",
              "      <td>sst</td>\n",
              "    </tr>\n",
              "    <tr>\n",
              "      <th>3</th>\n",
              "      <td>5</td>\n",
              "      <td>0.44</td>\n",
              "      <td>10</td>\n",
              "      <td>shale</td>\n",
              "    </tr>\n",
              "    <tr>\n",
              "      <th>4</th>\n",
              "      <td>90</td>\n",
              "      <td>0.26</td>\n",
              "      <td>89</td>\n",
              "      <td>sst</td>\n",
              "    </tr>\n",
              "    <tr>\n",
              "      <th>5</th>\n",
              "      <td>6</td>\n",
              "      <td>0.38</td>\n",
              "      <td>15</td>\n",
              "      <td>shale</td>\n",
              "    </tr>\n",
              "    <tr>\n",
              "      <th>6</th>\n",
              "      <td>80</td>\n",
              "      <td>0.21</td>\n",
              "      <td>80</td>\n",
              "      <td>sst</td>\n",
              "    </tr>\n",
              "    <tr>\n",
              "      <th>7</th>\n",
              "      <td>4</td>\n",
              "      <td>0.34</td>\n",
              "      <td>20</td>\n",
              "      <td>???</td>\n",
              "    </tr>\n",
              "  </tbody>\n",
              "</table>\n",
              "</div>"
            ],
            "text/plain": [
              "   k_md   phi  RT(ohm-m)   lith\n",
              "0   100  0.25        100    sst\n",
              "1   150  0.27        110    sst\n",
              "2   200  0.22        120    sst\n",
              "3     5  0.44         10  shale\n",
              "4    90  0.26         89    sst\n",
              "5     6  0.38         15  shale\n",
              "6    80  0.21         80    sst\n",
              "7     4  0.34         20    ???"
            ]
          },
          "metadata": {
            "tags": []
          },
          "execution_count": 84
        }
      ]
    },
    {
      "cell_type": "markdown",
      "metadata": {
        "id": "WIj0wR4LTlNX"
      },
      "source": [
        "### Steps in ML :-\n",
        "\n",
        "1. Import Data.\n",
        "2. Check for missing values and abnormal values.\n",
        "3. Accordingly process the data and make it usable.\n",
        "STEPS in a Machine Learning Project-4. Perform EDA - Exploratory Data Analysis. Check for which features are not important\n",
        "and which can be excluded.\n",
        "5. Record Visual stories of your data, to be presented.\n",
        "6. now pick a ML algrithm suitable to your case.\n",
        "7. Split the Data into Training, Validation and Test Data.\n",
        "8. Fit the ML-model into the training data.\n",
        "9. Perform predictions and validate, and make modifications based on the validation performance.\n",
        "10. Finally Use real, unseen data and make predictions (Production)"
      ]
    },
    {
      "cell_type": "code",
      "metadata": {
        "id": "UXlGYVOaTI1D"
      },
      "source": [
        ""
      ],
      "execution_count": null,
      "outputs": []
    },
    {
      "cell_type": "markdown",
      "metadata": {
        "id": "MVc5PHCmVxH1"
      },
      "source": [
        "# Hands on Excercise 1 : DCA with Python"
      ]
    },
    {
      "cell_type": "code",
      "metadata": {
        "colab": {
          "base_uri": "https://localhost:8080/",
          "height": 225
        },
        "id": "pXaamQT4V1Xt",
        "outputId": "d219b1d5-6477-4d3b-8571-bf9ee6ce2975"
      },
      "source": [
        "dca_df = pd.read_csv('https://raw.githubusercontent.com/yohanesnuwara/pyreservoir/master/data/norne_production_rate_sample.csv',\n",
        "                     index_col = 0 , parse_dates = True)\n",
        "\n",
        "dca_df.head()"
      ],
      "execution_count": 87,
      "outputs": [
        {
          "output_type": "execute_result",
          "data": {
            "text/html": [
              "<div>\n",
              "<style scoped>\n",
              "    .dataframe tbody tr th:only-of-type {\n",
              "        vertical-align: middle;\n",
              "    }\n",
              "\n",
              "    .dataframe tbody tr th {\n",
              "        vertical-align: top;\n",
              "    }\n",
              "\n",
              "    .dataframe thead th {\n",
              "        text-align: right;\n",
              "    }\n",
              "</style>\n",
              "<table border=\"1\" class=\"dataframe\">\n",
              "  <thead>\n",
              "    <tr style=\"text-align: right;\">\n",
              "      <th></th>\n",
              "      <th>Rate (SCF/d)</th>\n",
              "    </tr>\n",
              "    <tr>\n",
              "      <th>Date</th>\n",
              "      <th></th>\n",
              "    </tr>\n",
              "  </thead>\n",
              "  <tbody>\n",
              "    <tr>\n",
              "      <th>2004-04-01</th>\n",
              "      <td>2706039.0</td>\n",
              "    </tr>\n",
              "    <tr>\n",
              "      <th>2004-05-01</th>\n",
              "      <td>2492086.2</td>\n",
              "    </tr>\n",
              "    <tr>\n",
              "      <th>2004-06-02</th>\n",
              "      <td>1816846.1</td>\n",
              "    </tr>\n",
              "    <tr>\n",
              "      <th>2004-07-02</th>\n",
              "      <td>1920207.4</td>\n",
              "    </tr>\n",
              "    <tr>\n",
              "      <th>2004-07-04</th>\n",
              "      <td>1683521.4</td>\n",
              "    </tr>\n",
              "  </tbody>\n",
              "</table>\n",
              "</div>"
            ],
            "text/plain": [
              "            Rate (SCF/d)\n",
              "Date                    \n",
              "2004-04-01     2706039.0\n",
              "2004-05-01     2492086.2\n",
              "2004-06-02     1816846.1\n",
              "2004-07-02     1920207.4\n",
              "2004-07-04     1683521.4"
            ]
          },
          "metadata": {
            "tags": []
          },
          "execution_count": 87
        }
      ]
    },
    {
      "cell_type": "code",
      "metadata": {
        "colab": {
          "base_uri": "https://localhost:8080/",
          "height": 394
        },
        "id": "lwgrbGSiV_63",
        "outputId": "da317b37-ac59-46aa-e91d-033493455106"
      },
      "source": [
        "dca_df.plot(figsize=(12,4))\n",
        "plt.grid()"
      ],
      "execution_count": 92,
      "outputs": [
        {
          "output_type": "display_data",
          "data": {
            "image/png": "[encoded data removed]",
            "text/plain": [
              "<Figure size 1200x400 with 1 Axes>"
            ]
          },
          "metadata": {
            "tags": []
          }
        }
      ]
    },
    {
      "cell_type": "code",
      "metadata": {
        "colab": {
          "base_uri": "https://localhost:8080/",
          "height": 383
        },
        "id": "-zPwhW9DWDju",
        "outputId": "e19e557d-160f-4546-b46a-ce124d09cf14"
      },
      "source": [
        "plt.figure(figsize=(12,4))\n",
        "plt.scatter(y=dca_df['Rate (SCF/d)'],x=dca_df.index,marker='*')\n",
        "\n",
        "# plt.ylabel('Rate (SCF/d)')\n",
        "plt.grid()"
      ],
      "execution_count": 94,
      "outputs": [
        {
          "output_type": "display_data",
          "data": {
            "image/png": "[encoded data removed]",
            "text/plain": [
              "<Figure size 1200x400 with 1 Axes>"
            ]
          },
          "metadata": {
            "tags": []
          }
        }
      ]
    },
    {
      "cell_type": "markdown",
      "metadata": {
        "id": "4WvosL5OXAzu"
      },
      "source": [
        "### Step 1 : Convert Dates into Days (t)"
      ]
    },
    {
      "cell_type": "code",
      "metadata": {
        "id": "pY9C0vfUW5zg"
      },
      "source": [
        "def day_maker(df):\n",
        "    \n",
        "    '''\n",
        "    Pass a Time-Series DataFrame to it and it will\n",
        "    return a days column. Subtracts dates and makes days. \n",
        "    \n",
        "    Returned is a days (np array).\n",
        "    '''\n",
        "    \n",
        "    days = []\n",
        "\n",
        "    for d in range(len(df)):\n",
        "    \n",
        "        delta = df.index[d] - df.index[0]\n",
        "    \n",
        "        days.append(delta.days)\n",
        "    \n",
        "    days = np.array(days)\n",
        "    \n",
        "    return days"
      ],
      "execution_count": 95,
      "outputs": []
    },
    {
      "cell_type": "code",
      "metadata": {
        "id": "PASJJquqXOgQ"
      },
      "source": [
        "dca_df['days'] = day_maker(dca_df)"
      ],
      "execution_count": 96,
      "outputs": []
    },
    {
      "cell_type": "code",
      "metadata": {
        "colab": {
          "base_uri": "https://localhost:8080/",
          "height": 225
        },
        "id": "u-o8wGFsXTGl",
        "outputId": "4f077ace-3e51-49e6-b29c-a3ef0ba65785"
      },
      "source": [
        "dca_df.head()"
      ],
      "execution_count": 97,
      "outputs": [
        {
          "output_type": "execute_result",
          "data": {
            "text/html": [
              "<div>\n",
              "<style scoped>\n",
              "    .dataframe tbody tr th:only-of-type {\n",
              "        vertical-align: middle;\n",
              "    }\n",
              "\n",
              "    .dataframe tbody tr th {\n",
              "        vertical-align: top;\n",
              "    }\n",
              "\n",
              "    .dataframe thead th {\n",
              "        text-align: right;\n",
              "    }\n",
              "</style>\n",
              "<table border=\"1\" class=\"dataframe\">\n",
              "  <thead>\n",
              "    <tr style=\"text-align: right;\">\n",
              "      <th></th>\n",
              "      <th>Rate (SCF/d)</th>\n",
              "      <th>days</th>\n",
              "    </tr>\n",
              "    <tr>\n",
              "      <th>Date</th>\n",
              "      <th></th>\n",
              "      <th></th>\n",
              "    </tr>\n",
              "  </thead>\n",
              "  <tbody>\n",
              "    <tr>\n",
              "      <th>2004-04-01</th>\n",
              "      <td>2706039.0</td>\n",
              "      <td>0</td>\n",
              "    </tr>\n",
              "    <tr>\n",
              "      <th>2004-05-01</th>\n",
              "      <td>2492086.2</td>\n",
              "      <td>30</td>\n",
              "    </tr>\n",
              "    <tr>\n",
              "      <th>2004-06-02</th>\n",
              "      <td>1816846.1</td>\n",
              "      <td>62</td>\n",
              "    </tr>\n",
              "    <tr>\n",
              "      <th>2004-07-02</th>\n",
              "      <td>1920207.4</td>\n",
              "      <td>92</td>\n",
              "    </tr>\n",
              "    <tr>\n",
              "      <th>2004-07-04</th>\n",
              "      <td>1683521.4</td>\n",
              "      <td>94</td>\n",
              "    </tr>\n",
              "  </tbody>\n",
              "</table>\n",
              "</div>"
            ],
            "text/plain": [
              "            Rate (SCF/d)  days\n",
              "Date                          \n",
              "2004-04-01     2706039.0     0\n",
              "2004-05-01     2492086.2    30\n",
              "2004-06-02     1816846.1    62\n",
              "2004-07-02     1920207.4    92\n",
              "2004-07-04     1683521.4    94"
            ]
          },
          "metadata": {
            "tags": []
          },
          "execution_count": 97
        }
      ]
    },
    {
      "cell_type": "code",
      "metadata": {
        "colab": {
          "base_uri": "https://localhost:8080/",
          "height": 383
        },
        "id": "uzLbo6MQXVwS",
        "outputId": "b7516178-5a1a-4ab0-e8ef-76c6be88e2ce"
      },
      "source": [
        "\n",
        "\n",
        "plt.figure(figsize=(12,4))\n",
        "plt.scatter(y=dca_df['Rate (SCF/d)'],x=dca_df['days'],marker='v',color='green')\n",
        "\n",
        "# plt.ylabel('Rate (SCF/d)')\n",
        "plt.grid()"
      ],
      "execution_count": 104,
      "outputs": [
        {
          "output_type": "display_data",
          "data": {
            "image/png": "[encoded data removed]",
            "text/plain": [
              "<Figure size 1200x400 with 1 Axes>"
            ]
          },
          "metadata": {
            "tags": []
          }
        }
      ]
    },
    {
      "cell_type": "markdown",
      "metadata": {
        "id": "H0gp4qnbXgT4"
      },
      "source": [
        "### Step 2 : Hyperbolic Model Function & Curve Fitting methodology."
      ]
    },
    {
      "cell_type": "code",
      "metadata": {
        "id": "MZd1hUKeYhpx"
      },
      "source": [
        "from scipy.optimize import curve_fit"
      ],
      "execution_count": 105,
      "outputs": []
    },
    {
      "cell_type": "code",
      "metadata": {
        "id": "WrksBeHVXbGL"
      },
      "source": [
        "def q_hyp(t,qi,b,d):\n",
        "    \n",
        "    qfit = qi/(np.abs((1 + b * d* t))**(1/b))\n",
        "    \n",
        "    return qfit\n",
        "\n",
        "\n",
        "def hyp_fitter(q,t):\n",
        "        \n",
        "    #First we have to Normalize so that it converges well and quick.\n",
        "    q_n = q/max(q)\n",
        "    t_n = t/max(t)\n",
        "    \n",
        "    #curve-fit (optimization of parameters)\n",
        "    params = curve_fit(q_hyp,t_n,q_n)\n",
        "    [qi,b,d] = params[0]\n",
        "    \n",
        "    #These are for normalized t and q. \n",
        "    #We must re-adjust for q and t (non-normalized)\n",
        "    d_f = d/max(t)\n",
        "    qi_f = qi*max(q)\n",
        "    \n",
        "    #Now we can use these parameters. \n",
        "    q_hyp_fit = q_hyp(t,qi_f,b,d_f)\n",
        "    \n",
        "    return q_hyp_fit,params"
      ],
      "execution_count": 99,
      "outputs": []
    },
    {
      "cell_type": "code",
      "metadata": {
        "id": "gR7YSOyRXyrf"
      },
      "source": [
        "#This stepwise approach gives you a very nice picture about how linear regression is implemented. "
      ],
      "execution_count": 107,
      "outputs": []
    },
    {
      "cell_type": "code",
      "metadata": {
        "id": "ESUbyMt_XsOO"
      },
      "source": [
        "q = dca_df['Rate (SCF/d)'] ; t = dca_df['days']\n",
        "q_fit ,params = hyp_fitter(q,t)"
      ],
      "execution_count": 102,
      "outputs": []
    },
    {
      "cell_type": "code",
      "metadata": {
        "colab": {
          "base_uri": "https://localhost:8080/",
          "height": 400
        },
        "id": "QJQ7QpJbXvWe",
        "outputId": "33fe99f3-3f0b-4068-cd61-5aeee2ecb9c1"
      },
      "source": [
        "plt.figure(figsize=(12,4))\n",
        "plt.scatter(t,q,marker='v',color='green',label='Actual Production Data')\n",
        "plt.plot(t,q_fit,color='brown',lw=4,label='DCA Model Fit')\n",
        "\n",
        "plt.ylabel(df.columns[0])\n",
        "\n",
        "plt.grid()\n",
        "plt.legend()"
      ],
      "execution_count": 103,
      "outputs": [
        {
          "output_type": "execute_result",
          "data": {
            "text/plain": [
              "<matplotlib.legend.Legend at 0x7f66efc9d6d0>"
            ]
          },
          "metadata": {
            "tags": []
          },
          "execution_count": 103
        },
        {
          "output_type": "display_data",
          "data": {
            "image/png": "[encoded data removed]",
            "text/plain": [
              "<Figure size 1200x400 with 1 Axes>"
            ]
          },
          "metadata": {
            "tags": []
          }
        }
      ]
    },
    {
      "cell_type": "markdown",
      "metadata": {
        "id": "Y1NEQlROY__U"
      },
      "source": [
        "### Notice that in this DCA technique (Physics base, Arps) we MUST know the equation prior to the project. We need that info otherwise we cannot do anything. \n",
        "\n",
        "### Whereas in Data Driven approaches, we normally start with ONLY DATA and fit the model that suits the best, use this model for Production Forecasting. \n",
        "\n",
        "### Best Suited Model for this : Time Series Forecasting (ARIMA/Prophet etc.)"
      ]
    },
    {
      "cell_type": "code",
      "metadata": {
        "id": "bLtKFouzX4tb"
      },
      "source": [
        ""
      ],
      "execution_count": null,
      "outputs": []
    },
    {
      "cell_type": "markdown",
      "metadata": {
        "id": "0puVtuE6cRJ_"
      },
      "source": [
        "# Hands on Excercise 2 : Machine Learning for Phi-K relationship modelling.\n",
        "\n",
        "> A Supervised Regression Problem"
      ]
    },
    {
      "cell_type": "markdown",
      "metadata": {
        "id": "rUKtHcK5e7eY"
      },
      "source": [
        "#### Step 1 : Import the Dataset"
      ]
    },
    {
      "cell_type": "code",
      "metadata": {
        "id": "ZCm7ub1scX8Y"
      },
      "source": [
        "df = pd.read_csv('https://raw.githubusercontent.com/Divyanshu-ISM/Machine-Learning-Deep-Learning/main/PhiK.csv',\n",
        "                 index_col=0)"
      ],
      "execution_count": 110,
      "outputs": []
    },
    {
      "cell_type": "code",
      "metadata": {
        "colab": {
          "base_uri": "https://localhost:8080/",
          "height": 195
        },
        "id": "6px6CL6rc2W8",
        "outputId": "21506449-7d56-4491-b153-35676bca7b4e"
      },
      "source": [
        "df.head()"
      ],
      "execution_count": 111,
      "outputs": [
        {
          "output_type": "execute_result",
          "data": {
            "text/html": [
              "<div>\n",
              "<style scoped>\n",
              "    .dataframe tbody tr th:only-of-type {\n",
              "        vertical-align: middle;\n",
              "    }\n",
              "\n",
              "    .dataframe tbody tr th {\n",
              "        vertical-align: top;\n",
              "    }\n",
              "\n",
              "    .dataframe thead th {\n",
              "        text-align: right;\n",
              "    }\n",
              "</style>\n",
              "<table border=\"1\" class=\"dataframe\">\n",
              "  <thead>\n",
              "    <tr style=\"text-align: right;\">\n",
              "      <th></th>\n",
              "      <th>Porosity</th>\n",
              "      <th>Swc</th>\n",
              "      <th>Permeability(D)</th>\n",
              "    </tr>\n",
              "  </thead>\n",
              "  <tbody>\n",
              "    <tr>\n",
              "      <th>0</th>\n",
              "      <td>0.269158</td>\n",
              "      <td>0.114209</td>\n",
              "      <td>2.042529</td>\n",
              "    </tr>\n",
              "    <tr>\n",
              "      <th>1</th>\n",
              "      <td>0.324275</td>\n",
              "      <td>0.072078</td>\n",
              "      <td>11.639989</td>\n",
              "    </tr>\n",
              "    <tr>\n",
              "      <th>2</th>\n",
              "      <td>0.218003</td>\n",
              "      <td>0.101849</td>\n",
              "      <td>1.015917</td>\n",
              "    </tr>\n",
              "    <tr>\n",
              "      <th>3</th>\n",
              "      <td>0.211875</td>\n",
              "      <td>0.099354</td>\n",
              "      <td>0.941715</td>\n",
              "    </tr>\n",
              "    <tr>\n",
              "      <th>4</th>\n",
              "      <td>0.322281</td>\n",
              "      <td>0.083444</td>\n",
              "      <td>8.452433</td>\n",
              "    </tr>\n",
              "  </tbody>\n",
              "</table>\n",
              "</div>"
            ],
            "text/plain": [
              "   Porosity       Swc  Permeability(D)\n",
              "0  0.269158  0.114209         2.042529\n",
              "1  0.324275  0.072078        11.639989\n",
              "2  0.218003  0.101849         1.015917\n",
              "3  0.211875  0.099354         0.941715\n",
              "4  0.322281  0.083444         8.452433"
            ]
          },
          "metadata": {
            "tags": []
          },
          "execution_count": 111
        }
      ]
    },
    {
      "cell_type": "markdown",
      "metadata": {
        "id": "L2Spvts0e_Qp"
      },
      "source": [
        "#### Step 2 : Exploratory Data Analysis"
      ]
    },
    {
      "cell_type": "code",
      "metadata": {
        "colab": {
          "base_uri": "https://localhost:8080/",
          "height": 405
        },
        "id": "pCies52Kc4H4",
        "outputId": "9c4887a0-e9cb-4e7c-846c-21211760e8d9"
      },
      "source": [
        "import seaborn as sns\n",
        "plt.style.use('default')\n",
        "\n",
        "plt.figure(figsize=(6,4))\n",
        "\n",
        "sns.kdeplot(df['Porosity'],label='Porosity',marker='*')\n",
        "sns.kdeplot(df['Swc'],label='Swc',marker='v')\n",
        "\n",
        "plt.xlim(min(df['Swc']), 0.6)\n",
        "\n",
        "plt.grid()\n",
        "\n",
        "plt.legend(loc='best')"
      ],
      "execution_count": 114,
      "outputs": [
        {
          "output_type": "execute_result",
          "data": {
            "text/plain": [
              "<matplotlib.legend.Legend at 0x7f66e44f3550>"
            ]
          },
          "metadata": {
            "tags": []
          },
          "execution_count": 114
        },
        {
          "output_type": "display_data",
          "data": {
            "image/png": "[encoded data removed]",
            "text/plain": [
              "<Figure size 600x400 with 1 Axes>"
            ]
          },
          "metadata": {
            "tags": []
          }
        }
      ]
    },
    {
      "cell_type": "markdown",
      "metadata": {
        "id": "wgn97ulTfEFu"
      },
      "source": [
        "#### Step 3 : Train-Test split"
      ]
    },
    {
      "cell_type": "code",
      "metadata": {
        "id": "4sfF2K1FdGzB"
      },
      "source": [
        "from sklearn.model_selection import train_test_split\n",
        "\n",
        "X = df[['Porosity', 'Swc']]\n",
        "\n",
        "y = df['Permeability(D)']"
      ],
      "execution_count": 116,
      "outputs": []
    },
    {
      "cell_type": "code",
      "metadata": {
        "id": "7lDjaOV_dhz9"
      },
      "source": [
        "X_train, X_test, y_train, y_test = train_test_split(X,y,test_size=0.2,random_state=101)"
      ],
      "execution_count": 120,
      "outputs": []
    },
    {
      "cell_type": "markdown",
      "metadata": {
        "id": "XsI__XZUfJAP"
      },
      "source": [
        "#### Step 4 : Machine Learning Implementation : sklearn"
      ]
    },
    {
      "cell_type": "code",
      "metadata": {
        "id": "Zrb1RBySdSyv"
      },
      "source": [
        "from sklearn.tree import DecisionTreeRegressor"
      ],
      "execution_count": 117,
      "outputs": []
    },
    {
      "cell_type": "code",
      "metadata": {
        "id": "8b40iJyUdZpL"
      },
      "source": [
        "model = DecisionTreeRegressor(random_state=1)"
      ],
      "execution_count": 118,
      "outputs": []
    },
    {
      "cell_type": "code",
      "metadata": {
        "colab": {
          "base_uri": "https://localhost:8080/"
        },
        "id": "mwgICRIBdbe4",
        "outputId": "7592b841-3c10-42bf-8184-1302f655c2b6"
      },
      "source": [
        "model.fit(X_train,y_train)"
      ],
      "execution_count": 121,
      "outputs": [
        {
          "output_type": "execute_result",
          "data": {
            "text/plain": [
              "DecisionTreeRegressor(ccp_alpha=0.0, criterion='mse', max_depth=None,\n",
              "                      max_features=None, max_leaf_nodes=None,\n",
              "                      min_impurity_decrease=0.0, min_impurity_split=None,\n",
              "                      min_samples_leaf=1, min_samples_split=2,\n",
              "                      min_weight_fraction_leaf=0.0, presort='deprecated',\n",
              "                      random_state=1, splitter='best')"
            ]
          },
          "metadata": {
            "tags": []
          },
          "execution_count": 121
        }
      ]
    },
    {
      "cell_type": "markdown",
      "metadata": {
        "id": "sKj9-UMDfP6w"
      },
      "source": [
        "#### 5. Step 5 : Model Predictions "
      ]
    },
    {
      "cell_type": "code",
      "metadata": {
        "colab": {
          "base_uri": "https://localhost:8080/"
        },
        "id": "gyK3fN1MddDM",
        "outputId": "052e0f39-5e70-4c04-fd65-aafe5b757787"
      },
      "source": [
        "y.head()"
      ],
      "execution_count": 124,
      "outputs": [
        {
          "output_type": "execute_result",
          "data": {
            "text/plain": [
              "0     2.042529\n",
              "1    11.639989\n",
              "2     1.015917\n",
              "3     0.941715\n",
              "4     8.452433\n",
              "Name: Permeability(D), dtype: float64"
            ]
          },
          "metadata": {
            "tags": []
          },
          "execution_count": 124
        }
      ]
    },
    {
      "cell_type": "code",
      "metadata": {
        "colab": {
          "base_uri": "https://localhost:8080/"
        },
        "id": "bIl5593wdnfi",
        "outputId": "0f363221-0846-433d-e0df-f1b62e3b8d16"
      },
      "source": [
        "print(model.predict(X.head()))"
      ],
      "execution_count": 123,
      "outputs": [
        {
          "output_type": "stream",
          "text": [
            "[ 2.04252923 11.69904489  1.02501243  0.94171488  8.45243294]\n"
          ],
          "name": "stdout"
        }
      ]
    },
    {
      "cell_type": "markdown",
      "metadata": {
        "id": "oATbp2mhfWsC"
      },
      "source": [
        "#### Performance evalauation : Visual and Quantitative."
      ]
    },
    {
      "cell_type": "code",
      "metadata": {
        "id": "5XcjkYOJdpYS"
      },
      "source": [
        "from sklearn.metrics import mean_squared_error as mse"
      ],
      "execution_count": 127,
      "outputs": []
    },
    {
      "cell_type": "code",
      "metadata": {
        "id": "Wqtc7YUHdyzS"
      },
      "source": [
        "y_p = model.predict(X_test)"
      ],
      "execution_count": 132,
      "outputs": []
    },
    {
      "cell_type": "code",
      "metadata": {
        "colab": {
          "base_uri": "https://localhost:8080/",
          "height": 467
        },
        "id": "7MnKgGKMd4xZ",
        "outputId": "736878b9-96c0-4eed-f9c1-c414df5259d3"
      },
      "source": [
        "plt.grid()\n",
        "plt.scatter(y_p,y_test,marker='X',label='Model Performance')\n",
        "\n",
        "plt.plot(y_test,y_test, color='red',label='Idel Performance')\n",
        "\n",
        "plt.xlabel('Predicted K values')\n",
        "plt.ylabel('Actual K values')\n",
        "\n",
        "plt.legend()"
      ],
      "execution_count": 136,
      "outputs": [
        {
          "output_type": "execute_result",
          "data": {
            "text/plain": [
              "<matplotlib.legend.Legend at 0x7f66df90fa10>"
            ]
          },
          "metadata": {
            "tags": []
          },
          "execution_count": 136
        },
        {
          "output_type": "display_data",
          "data": {
            "image/png": "[encoded data removed]",
            "text/plain": [
              "<Figure size 640x480 with 1 Axes>"
            ]
          },
          "metadata": {
            "tags": []
          }
        }
      ]
    },
    {
      "cell_type": "code",
      "metadata": {
        "colab": {
          "base_uri": "https://localhost:8080/",
          "height": 136
        },
        "id": "bclS0f5pd_JZ",
        "outputId": "10b732a4-5263-49c2-e744-60ee08af94a4"
      },
      "source": [
        "\n",
        "from sklearn import metrics\n",
        "MAE =metrics.mean_absolute_error(y_test,y_p)\n",
        "MSE = metrics.mean_squared_error(y_test,y_p)\n",
        "RMSE = np.sqrt(MSE)\n",
        "\n",
        "evaluation = pd.DataFrame(data =[MAE*100,MSE*100,RMSE*100], index='MAE(%) MSE(%) RMSE(%)'.split(), columns = ['Evaluation Values'])\n",
        "evaluation"
      ],
      "execution_count": 137,
      "outputs": [
        {
          "output_type": "execute_result",
          "data": {
            "text/html": [
              "<div>\n",
              "<style scoped>\n",
              "    .dataframe tbody tr th:only-of-type {\n",
              "        vertical-align: middle;\n",
              "    }\n",
              "\n",
              "    .dataframe tbody tr th {\n",
              "        vertical-align: top;\n",
              "    }\n",
              "\n",
              "    .dataframe thead th {\n",
              "        text-align: right;\n",
              "    }\n",
              "</style>\n",
              "<table border=\"1\" class=\"dataframe\">\n",
              "  <thead>\n",
              "    <tr style=\"text-align: right;\">\n",
              "      <th></th>\n",
              "      <th>Evaluation Values</th>\n",
              "    </tr>\n",
              "  </thead>\n",
              "  <tbody>\n",
              "    <tr>\n",
              "      <th>MAE(%)</th>\n",
              "      <td>2.155681</td>\n",
              "    </tr>\n",
              "    <tr>\n",
              "      <th>MSE(%)</th>\n",
              "      <td>1.322553</td>\n",
              "    </tr>\n",
              "    <tr>\n",
              "      <th>RMSE(%)</th>\n",
              "      <td>11.500231</td>\n",
              "    </tr>\n",
              "  </tbody>\n",
              "</table>\n",
              "</div>"
            ],
            "text/plain": [
              "         Evaluation Values\n",
              "MAE(%)            2.155681\n",
              "MSE(%)            1.322553\n",
              "RMSE(%)          11.500231"
            ]
          },
          "metadata": {
            "tags": []
          },
          "execution_count": 137
        }
      ]
    },
    {
      "cell_type": "markdown",
      "metadata": {
        "id": "PW328LSier91"
      },
      "source": [
        "# Hands on Excercise 3 : ALS Selection with ML\n",
        "\n",
        "> A Supervised Classification Problem."
      ]
    },
    {
      "cell_type": "markdown",
      "metadata": {
        "id": "NS1M3KfXfuHq"
      },
      "source": [
        "Source Code : https://github.com/Divyanshu-ISM/Machine-Learning-Deep-Learning/blob/main/Machine%20Learning%20for%20ALS.ipynb"
      ]
    },
    {
      "cell_type": "code",
      "metadata": {
        "id": "pvXc9BZFeDXr"
      },
      "source": [
        ""
      ],
      "execution_count": 131,
      "outputs": []
    },
    {
      "cell_type": "code",
      "metadata": {
        "id": "bKTVN65QeGE3"
      },
      "source": [
        ""
      ],
      "execution_count": null,
      "outputs": []
    }
  ]
}