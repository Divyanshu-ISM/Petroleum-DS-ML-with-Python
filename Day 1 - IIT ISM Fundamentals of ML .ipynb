{
 "cells": [
  {
   "cell_type": "markdown",
   "id": "166264cb",
   "metadata": {},
   "source": [
    "### Workflow:\n",
    "\n",
    "1. Python : Basics and Syntax\n",
    "2. NumPy and Pandas - For Dealing with Data\n",
    "3. Visualizations\n",
    "4. Examples"
   ]
  },
  {
   "cell_type": "markdown",
   "id": "e07557cb",
   "metadata": {},
   "source": [
    "# Python Crash course"
   ]
  },
  {
   "cell_type": "markdown",
   "id": "533b3f0a",
   "metadata": {},
   "source": [
    "### 1. Data Types and Simple computations"
   ]
  },
  {
   "cell_type": "code",
   "execution_count": 2,
   "id": "119f8a10",
   "metadata": {},
   "outputs": [
    {
     "name": "stdout",
     "output_type": "stream",
     "text": [
      "Hey Im in IIT ISM \n"
     ]
    }
   ],
   "source": [
    "#printing something \n",
    "\n",
    "print('Hey Im in IIT ISM ')"
   ]
  },
  {
   "cell_type": "code",
   "execution_count": 3,
   "id": "e1229090",
   "metadata": {},
   "outputs": [
    {
     "data": {
      "text/plain": [
       "5"
      ]
     },
     "execution_count": 3,
     "metadata": {},
     "output_type": "execute_result"
    }
   ],
   "source": [
    "# add 2 numbers\n",
    "\n",
    "2 + 3"
   ]
  },
  {
   "cell_type": "code",
   "execution_count": 5,
   "id": "a79c2fb7",
   "metadata": {},
   "outputs": [
    {
     "data": {
      "text/plain": [
       "(6, 2.0)"
      ]
     },
     "execution_count": 5,
     "metadata": {},
     "output_type": "execute_result"
    }
   ],
   "source": [
    "2*3  , 4/2"
   ]
  },
  {
   "cell_type": "code",
   "execution_count": 16,
   "id": "10d7a78d",
   "metadata": {},
   "outputs": [
    {
     "data": {
      "text/plain": [
       "(float, int, str, list, set, dict)"
      ]
     },
     "execution_count": 16,
     "metadata": {},
     "output_type": "execute_result"
    }
   ],
   "source": [
    "type(2*3.0) , type(3) , type('Divyanshu') , type([1,2,3]) , type({1,2,3}) , type({'word':'meaning'})"
   ]
  },
  {
   "cell_type": "code",
   "execution_count": 9,
   "id": "9f9a350e",
   "metadata": {},
   "outputs": [
    {
     "data": {
      "text/plain": [
       "(16, 16.0)"
      ]
     },
     "execution_count": 9,
     "metadata": {},
     "output_type": "execute_result"
    }
   ],
   "source": [
    "## Powers & exponents\n",
    "\n",
    "4**2 , 4.0**2"
   ]
  },
  {
   "cell_type": "code",
   "execution_count": 18,
   "id": "7f72ab60",
   "metadata": {},
   "outputs": [
    {
     "data": {
      "text/plain": [
       "(2.5, 2, 1, 0)"
      ]
     },
     "execution_count": 18,
     "metadata": {},
     "output_type": "execute_result"
    }
   ],
   "source": [
    "5/2 , 5//2 , 5%2 , 9%3"
   ]
  },
  {
   "cell_type": "markdown",
   "id": "23ff8051",
   "metadata": {},
   "source": [
    "### 2. Variable Assignment\n",
    "\n",
    "x_123 : allowed\n",
    "\n",
    "123_x is not allowed\n",
    "\n",
    "x$123 not allowed"
   ]
  },
  {
   "cell_type": "code",
   "execution_count": 20,
   "id": "27773c1d",
   "metadata": {},
   "outputs": [
    {
     "ename": "SyntaxError",
     "evalue": "invalid decimal literal (Temp/ipykernel_16008/3130866270.py, line 3)",
     "output_type": "error",
     "traceback": [
      "\u001b[1;36m  File \u001b[1;32m\"C:\\Users\\dvyas\\AppData\\Local\\Temp/ipykernel_16008/3130866270.py\"\u001b[1;36m, line \u001b[1;32m3\u001b[0m\n\u001b[1;33m    1_x = 200\u001b[0m\n\u001b[1;37m     ^\u001b[0m\n\u001b[1;31mSyntaxError\u001b[0m\u001b[1;31m:\u001b[0m invalid decimal literal\n"
     ]
    }
   ],
   "source": [
    "x_1 = 300\n",
    "\n",
    "1_x = 200"
   ]
  },
  {
   "cell_type": "code",
   "execution_count": 22,
   "id": "52ff0c7a",
   "metadata": {},
   "outputs": [
    {
     "ename": "SyntaxError",
     "evalue": "invalid syntax (Temp/ipykernel_16008/641828433.py, line 3)",
     "output_type": "error",
     "traceback": [
      "\u001b[1;36m  File \u001b[1;32m\"C:\\Users\\dvyas\\AppData\\Local\\Temp/ipykernel_16008/641828433.py\"\u001b[1;36m, line \u001b[1;32m3\u001b[0m\n\u001b[1;33m    x$12\u001b[0m\n\u001b[1;37m     ^\u001b[0m\n\u001b[1;31mSyntaxError\u001b[0m\u001b[1;31m:\u001b[0m invalid syntax\n"
     ]
    }
   ],
   "source": [
    "x_12 = 300 \n",
    "\n",
    "x$12"
   ]
  },
  {
   "cell_type": "code",
   "execution_count": 29,
   "id": "bf148c72",
   "metadata": {},
   "outputs": [
    {
     "data": {
      "text/plain": [
       "1000.0"
      ]
     },
     "execution_count": 29,
     "metadata": {},
     "output_type": "execute_result"
    }
   ],
   "source": [
    "k = 10 #md\n",
    "\n",
    "A = 100\n",
    "\n",
    "delP = 1000\n",
    "\n",
    "mu = 0.1\n",
    "\n",
    "L = 10000\n",
    "\n",
    "\n",
    "Q = k*A*delP/(mu*L)\n",
    "\n",
    "Q"
   ]
  },
  {
   "cell_type": "markdown",
   "id": "63b5049e",
   "metadata": {},
   "source": [
    "Asking for User Input\n",
    "\n",
    "= : Assignment \n",
    "== : comparison"
   ]
  },
  {
   "cell_type": "code",
   "execution_count": 30,
   "id": "39acb6f4",
   "metadata": {},
   "outputs": [
    {
     "name": "stdout",
     "output_type": "stream",
     "text": [
      "Enter your name : Divyanshu\n"
     ]
    }
   ],
   "source": [
    "name = input('Enter your name : ')"
   ]
  },
  {
   "cell_type": "code",
   "execution_count": 32,
   "id": "a91fd730",
   "metadata": {},
   "outputs": [
    {
     "name": "stdout",
     "output_type": "stream",
     "text": [
      "Enter a Number :500\n"
     ]
    }
   ],
   "source": [
    "x = input('Enter a Number :')"
   ]
  },
  {
   "cell_type": "code",
   "execution_count": 37,
   "id": "2231cf47",
   "metadata": {},
   "outputs": [
    {
     "name": "stdout",
     "output_type": "stream",
     "text": [
      "Enter a Number :500\n"
     ]
    }
   ],
   "source": [
    "x = int(input('Enter a Number :'))"
   ]
  },
  {
   "cell_type": "code",
   "execution_count": 38,
   "id": "7b07ec6c",
   "metadata": {},
   "outputs": [
    {
     "data": {
      "text/plain": [
       "500"
      ]
     },
     "execution_count": 38,
     "metadata": {},
     "output_type": "execute_result"
    }
   ],
   "source": [
    "x"
   ]
  },
  {
   "cell_type": "code",
   "execution_count": 39,
   "id": "83f6c9ab",
   "metadata": {},
   "outputs": [
    {
     "name": "stdout",
     "output_type": "stream",
     "text": [
      "Enter Permeability (mD) :500\n",
      "50000.0\n"
     ]
    }
   ],
   "source": [
    "k = float(input('Enter Permeability (mD) :'))\n",
    "\n",
    "A = 100\n",
    "\n",
    "delP = 1000\n",
    "\n",
    "mu = 0.1\n",
    "\n",
    "L = 10000\n",
    "\n",
    "\n",
    "Q = k*A*delP/(mu*L)\n",
    "\n",
    "print(Q)"
   ]
  },
  {
   "cell_type": "markdown",
   "id": "d8821a48",
   "metadata": {},
   "source": [
    "### How to print variables in the print statement? - f-Strings"
   ]
  },
  {
   "cell_type": "code",
   "execution_count": 40,
   "id": "311c868d",
   "metadata": {},
   "outputs": [
    {
     "name": "stdout",
     "output_type": "stream",
     "text": [
      "Hey for Perm = k , the Flow rate is Q\n"
     ]
    }
   ],
   "source": [
    "print('Hey for Perm = k , the Flow rate is Q')"
   ]
  },
  {
   "cell_type": "code",
   "execution_count": 41,
   "id": "7d875b4e",
   "metadata": {},
   "outputs": [
    {
     "name": "stdout",
     "output_type": "stream",
     "text": [
      "Hey for Perm = 500.0 , the Flow rate is 50000.0\n"
     ]
    }
   ],
   "source": [
    "print(f'Hey for Perm = {k} , the Flow rate is {Q}')"
   ]
  },
  {
   "cell_type": "code",
   "execution_count": 42,
   "id": "8a3b1278",
   "metadata": {},
   "outputs": [
    {
     "name": "stdout",
     "output_type": "stream",
     "text": [
      "Hey for Perm =  500.0 the Flow rate is =  50000.0\n"
     ]
    }
   ],
   "source": [
    "print('Hey for Perm = ',k, 'the Flow rate is = ', Q)"
   ]
  },
  {
   "cell_type": "markdown",
   "id": "a07280f6",
   "metadata": {},
   "source": [
    "### Dealing with Strings"
   ]
  },
  {
   "cell_type": "code",
   "execution_count": 51,
   "id": "3e641696",
   "metadata": {},
   "outputs": [
    {
     "name": "stdout",
     "output_type": "stream",
     "text": [
      "Enter your full name :Nikita Sharma\n"
     ]
    }
   ],
   "source": [
    "full_name = input('Enter your full name :')"
   ]
  },
  {
   "cell_type": "code",
   "execution_count": 52,
   "id": "86d8dca5",
   "metadata": {},
   "outputs": [
    {
     "data": {
      "text/plain": [
       "'Nikita Sharma'"
      ]
     },
     "execution_count": 52,
     "metadata": {},
     "output_type": "execute_result"
    }
   ],
   "source": [
    "full_name"
   ]
  },
  {
   "cell_type": "code",
   "execution_count": 53,
   "id": "1eb059aa",
   "metadata": {},
   "outputs": [],
   "source": [
    "#split for strings\n",
    "first_name = full_name.split(' ')[0]\n",
    "last_name = full_name.split(' ')[1]"
   ]
  },
  {
   "cell_type": "code",
   "execution_count": 54,
   "id": "ea03215c",
   "metadata": {},
   "outputs": [
    {
     "name": "stdout",
     "output_type": "stream",
     "text": [
      "Nikita\n",
      "Sharma\n"
     ]
    }
   ],
   "source": [
    "print(first_name)\n",
    "print(last_name)"
   ]
  },
  {
   "cell_type": "markdown",
   "id": "46f26af9",
   "metadata": {},
   "source": [
    "> ##  Indexing and Slicing of Strings : Indexing in Python Starts at 0\n",
    "\n",
    "> First element is at Zeroth index"
   ]
  },
  {
   "cell_type": "code",
   "execution_count": 61,
   "id": "0199e39c",
   "metadata": {},
   "outputs": [
    {
     "data": {
      "text/plain": [
       "'Nikita Sharma'"
      ]
     },
     "execution_count": 61,
     "metadata": {},
     "output_type": "execute_result"
    }
   ],
   "source": [
    "full_name"
   ]
  },
  {
   "cell_type": "code",
   "execution_count": 62,
   "id": "484c9ca0",
   "metadata": {},
   "outputs": [
    {
     "data": {
      "text/plain": [
       "'N'"
      ]
     },
     "execution_count": 62,
     "metadata": {},
     "output_type": "execute_result"
    }
   ],
   "source": [
    "full_name[0]"
   ]
  },
  {
   "cell_type": "code",
   "execution_count": 63,
   "id": "33934088",
   "metadata": {},
   "outputs": [],
   "source": [
    "#slicing"
   ]
  },
  {
   "cell_type": "markdown",
   "id": "f698e1ef",
   "metadata": {},
   "source": [
    "How to slice the string so that we can print the first 5 letters : \n",
    "\n",
    "```full_name[start : stop :step]```"
   ]
  },
  {
   "cell_type": "code",
   "execution_count": 65,
   "id": "1e4ad8e5",
   "metadata": {},
   "outputs": [
    {
     "data": {
      "text/plain": [
       "'Nikit'"
      ]
     },
     "execution_count": 65,
     "metadata": {},
     "output_type": "execute_result"
    }
   ],
   "source": [
    "full_name[0 : 5]"
   ]
  },
  {
   "cell_type": "code",
   "execution_count": 67,
   "id": "0e16d008",
   "metadata": {},
   "outputs": [
    {
     "data": {
      "text/plain": [
       "('Nikit', 'Nkt')"
      ]
     },
     "execution_count": 67,
     "metadata": {},
     "output_type": "execute_result"
    }
   ],
   "source": [
    "full_name[0 : 5 : 1] , full_name[0 : 5 : 2]"
   ]
  },
  {
   "cell_type": "markdown",
   "id": "4e92b9a6",
   "metadata": {},
   "source": [
    "**Checking for a Pallindrome**\n",
    "\n",
    "NAMAN \n",
    "\n",
    "12321"
   ]
  },
  {
   "cell_type": "code",
   "execution_count": 77,
   "id": "ddad6d1f",
   "metadata": {},
   "outputs": [],
   "source": [
    "text = 'NAMan'\n",
    "\n",
    "text = text.lower()\n",
    "\n",
    "reverse_text = text[-1 : : -1]"
   ]
  },
  {
   "cell_type": "code",
   "execution_count": 78,
   "id": "7866635f",
   "metadata": {},
   "outputs": [
    {
     "data": {
      "text/plain": [
       "False"
      ]
     },
     "execution_count": 78,
     "metadata": {},
     "output_type": "execute_result"
    }
   ],
   "source": [
    "reverse_text == text"
   ]
  },
  {
   "cell_type": "code",
   "execution_count": 74,
   "id": "465bbcbc",
   "metadata": {},
   "outputs": [
    {
     "data": {
      "text/plain": [
       "'nikita sharma'"
      ]
     },
     "execution_count": 74,
     "metadata": {},
     "output_type": "execute_result"
    }
   ],
   "source": [
    "full_name.lower()"
   ]
  },
  {
   "cell_type": "code",
   "execution_count": 79,
   "id": "fef6540c",
   "metadata": {},
   "outputs": [
    {
     "data": {
      "text/plain": [
       "'amrahS atikiN'"
      ]
     },
     "execution_count": 79,
     "metadata": {},
     "output_type": "execute_result"
    }
   ],
   "source": [
    "full_name[::-1]"
   ]
  },
  {
   "cell_type": "markdown",
   "id": "ca0a30ab",
   "metadata": {},
   "source": [
    "### Lists"
   ]
  },
  {
   "cell_type": "code",
   "execution_count": 80,
   "id": "9a65d66a",
   "metadata": {},
   "outputs": [
    {
     "data": {
      "text/plain": [
       "[0.23, 0.24, 0.1, 0.43, 0.26]"
      ]
     },
     "execution_count": 80,
     "metadata": {},
     "output_type": "execute_result"
    }
   ],
   "source": [
    "my_porosities = [0.23, 0.24, 0.10, 0.43, 0.26]\n",
    "\n",
    "my_porosities"
   ]
  },
  {
   "cell_type": "code",
   "execution_count": 81,
   "id": "bee23fe9",
   "metadata": {},
   "outputs": [
    {
     "data": {
      "text/plain": [
       "['Poro', 0.23, 'Perm', 200]"
      ]
     },
     "execution_count": 81,
     "metadata": {},
     "output_type": "execute_result"
    }
   ],
   "source": [
    "bag_of_res_values = ['Poro', 0.23, 'Perm', 200]\n",
    "\n",
    "bag_of_res_values"
   ]
  },
  {
   "cell_type": "code",
   "execution_count": 82,
   "id": "84b24f98",
   "metadata": {},
   "outputs": [
    {
     "data": {
      "text/plain": [
       "list"
      ]
     },
     "execution_count": 82,
     "metadata": {},
     "output_type": "execute_result"
    }
   ],
   "source": [
    "type(my_porosities)"
   ]
  },
  {
   "cell_type": "code",
   "execution_count": 83,
   "id": "c20234f8",
   "metadata": {},
   "outputs": [
    {
     "ename": "TypeError",
     "evalue": "unsupported operand type(s) for ** or pow(): 'list' and 'int'",
     "output_type": "error",
     "traceback": [
      "\u001b[1;31m---------------------------------------------------------------------------\u001b[0m",
      "\u001b[1;31mTypeError\u001b[0m                                 Traceback (most recent call last)",
      "\u001b[1;32m~\\AppData\\Local\\Temp/ipykernel_16008/730111896.py\u001b[0m in \u001b[0;36m<module>\u001b[1;34m\u001b[0m\n\u001b[1;32m----> 1\u001b[1;33m \u001b[0mmy_porosities\u001b[0m\u001b[1;33m**\u001b[0m\u001b[1;36m2\u001b[0m\u001b[1;33m\u001b[0m\u001b[1;33m\u001b[0m\u001b[0m\n\u001b[0m",
      "\u001b[1;31mTypeError\u001b[0m: unsupported operand type(s) for ** or pow(): 'list' and 'int'"
     ]
    }
   ],
   "source": [
    "my_porosities**2"
   ]
  },
  {
   "cell_type": "code",
   "execution_count": 84,
   "id": "270c4928",
   "metadata": {},
   "outputs": [
    {
     "data": {
      "text/plain": [
       "[0.23, 0.24, 0.1, 0.43, 0.26]"
      ]
     },
     "execution_count": 84,
     "metadata": {},
     "output_type": "execute_result"
    }
   ],
   "source": [
    "my_porosities"
   ]
  },
  {
   "cell_type": "code",
   "execution_count": 85,
   "id": "b5825c56",
   "metadata": {},
   "outputs": [
    {
     "data": {
      "text/plain": [
       "[0.23, 0.24, 0.1, 0.43, 0.26]"
      ]
     },
     "execution_count": 85,
     "metadata": {},
     "output_type": "execute_result"
    }
   ],
   "source": [
    "my_porosities[0::1]"
   ]
  },
  {
   "cell_type": "code",
   "execution_count": 86,
   "id": "d893e21a",
   "metadata": {},
   "outputs": [
    {
     "data": {
      "text/plain": [
       "[0.23, 0.24, 0.1]"
      ]
     },
     "execution_count": 86,
     "metadata": {},
     "output_type": "execute_result"
    }
   ],
   "source": [
    "my_porosities[0:3:1]"
   ]
  },
  {
   "cell_type": "code",
   "execution_count": 87,
   "id": "65f07b35",
   "metadata": {},
   "outputs": [
    {
     "data": {
      "text/plain": [
       "[0.23, 0.1]"
      ]
     },
     "execution_count": 87,
     "metadata": {},
     "output_type": "execute_result"
    }
   ],
   "source": [
    "my_porosities[0:3:2]"
   ]
  },
  {
   "cell_type": "code",
   "execution_count": 88,
   "id": "0bd90bef",
   "metadata": {},
   "outputs": [
    {
     "data": {
      "text/plain": [
       "[0.26, 0.43, 0.1, 0.24, 0.23]"
      ]
     },
     "execution_count": 88,
     "metadata": {},
     "output_type": "execute_result"
    }
   ],
   "source": [
    "my_porosities[: : -1]"
   ]
  },
  {
   "cell_type": "code",
   "execution_count": 89,
   "id": "d9ed01bf",
   "metadata": {},
   "outputs": [],
   "source": [
    "my_porosities.append(10000)"
   ]
  },
  {
   "cell_type": "code",
   "execution_count": 90,
   "id": "12873c6e",
   "metadata": {},
   "outputs": [
    {
     "data": {
      "text/plain": [
       "[0.23, 0.24, 0.1, 0.43, 0.26, 10000]"
      ]
     },
     "execution_count": 90,
     "metadata": {},
     "output_type": "execute_result"
    }
   ],
   "source": [
    "my_porosities"
   ]
  },
  {
   "cell_type": "code",
   "execution_count": 91,
   "id": "6a413596",
   "metadata": {},
   "outputs": [
    {
     "data": {
      "text/plain": [
       "10000"
      ]
     },
     "execution_count": 91,
     "metadata": {},
     "output_type": "execute_result"
    }
   ],
   "source": [
    "my_porosities.pop()"
   ]
  },
  {
   "cell_type": "code",
   "execution_count": 92,
   "id": "a3220c9b",
   "metadata": {},
   "outputs": [
    {
     "data": {
      "text/plain": [
       "[0.23, 0.24, 0.1, 0.43, 0.26]"
      ]
     },
     "execution_count": 92,
     "metadata": {},
     "output_type": "execute_result"
    }
   ],
   "source": [
    "my_porosities"
   ]
  },
  {
   "cell_type": "code",
   "execution_count": 93,
   "id": "85a2c90f",
   "metadata": {},
   "outputs": [
    {
     "data": {
      "text/plain": [
       "0.26"
      ]
     },
     "execution_count": 93,
     "metadata": {},
     "output_type": "execute_result"
    }
   ],
   "source": [
    "my_porosities[-1]"
   ]
  },
  {
   "cell_type": "markdown",
   "id": "d7201f13",
   "metadata": {},
   "source": [
    "## Mutability (Modify-ability) vs Immutability\n",
    "\n",
    "> List is mutable but Tuple is immutable. String is immutable"
   ]
  },
  {
   "cell_type": "code",
   "execution_count": 96,
   "id": "63af5780",
   "metadata": {},
   "outputs": [],
   "source": [
    "my_porosities.append(10)"
   ]
  },
  {
   "cell_type": "code",
   "execution_count": 99,
   "id": "6ec51138",
   "metadata": {},
   "outputs": [],
   "source": [
    "my_porosities[-1] = 0.10 "
   ]
  },
  {
   "cell_type": "code",
   "execution_count": 100,
   "id": "761a5eae",
   "metadata": {},
   "outputs": [
    {
     "data": {
      "text/plain": [
       "[0.23, 0.24, 0.1, 0.43, 0.26, 0.1]"
      ]
     },
     "execution_count": 100,
     "metadata": {},
     "output_type": "execute_result"
    }
   ],
   "source": [
    "my_porosities"
   ]
  },
  {
   "cell_type": "code",
   "execution_count": 103,
   "id": "8a0414e5",
   "metadata": {},
   "outputs": [
    {
     "ename": "TypeError",
     "evalue": "'str' object does not support item assignment",
     "output_type": "error",
     "traceback": [
      "\u001b[1;31m---------------------------------------------------------------------------\u001b[0m",
      "\u001b[1;31mTypeError\u001b[0m                                 Traceback (most recent call last)",
      "\u001b[1;32m~\\AppData\\Local\\Temp/ipykernel_16008/658554178.py\u001b[0m in \u001b[0;36m<module>\u001b[1;34m\u001b[0m\n\u001b[1;32m----> 1\u001b[1;33m \u001b[0mfull_name\u001b[0m\u001b[1;33m[\u001b[0m\u001b[1;33m-\u001b[0m\u001b[1;36m1\u001b[0m\u001b[1;33m]\u001b[0m \u001b[1;33m=\u001b[0m \u001b[1;34m'A'\u001b[0m\u001b[1;33m\u001b[0m\u001b[1;33m\u001b[0m\u001b[0m\n\u001b[0m",
      "\u001b[1;31mTypeError\u001b[0m: 'str' object does not support item assignment"
     ]
    }
   ],
   "source": [
    "full_name[-1] = 'A'"
   ]
  },
  {
   "cell_type": "markdown",
   "id": "3bfd5255",
   "metadata": {},
   "source": [
    "## Tuples"
   ]
  },
  {
   "cell_type": "code",
   "execution_count": 104,
   "id": "e0eb0780",
   "metadata": {},
   "outputs": [
    {
     "data": {
      "text/plain": [
       "(100, 200, 150, 120, 50)"
      ]
     },
     "execution_count": 104,
     "metadata": {},
     "output_type": "execute_result"
    }
   ],
   "source": [
    "my_perms = (100 , 200, 150, 120, 50)\n",
    "\n",
    "my_perms"
   ]
  },
  {
   "cell_type": "code",
   "execution_count": 105,
   "id": "dd477a77",
   "metadata": {},
   "outputs": [
    {
     "data": {
      "text/plain": [
       "type"
      ]
     },
     "execution_count": 105,
     "metadata": {},
     "output_type": "execute_result"
    }
   ],
   "source": [
    "type(tuple)"
   ]
  },
  {
   "cell_type": "code",
   "execution_count": 106,
   "id": "9795a6a2",
   "metadata": {},
   "outputs": [
    {
     "data": {
      "text/plain": [
       "50"
      ]
     },
     "execution_count": 106,
     "metadata": {},
     "output_type": "execute_result"
    }
   ],
   "source": [
    "my_perms[-1]"
   ]
  },
  {
   "cell_type": "code",
   "execution_count": 107,
   "id": "aff35dae",
   "metadata": {},
   "outputs": [
    {
     "ename": "TypeError",
     "evalue": "'tuple' object does not support item assignment",
     "output_type": "error",
     "traceback": [
      "\u001b[1;31m---------------------------------------------------------------------------\u001b[0m",
      "\u001b[1;31mTypeError\u001b[0m                                 Traceback (most recent call last)",
      "\u001b[1;32m~\\AppData\\Local\\Temp/ipykernel_16008/1392941761.py\u001b[0m in \u001b[0;36m<module>\u001b[1;34m\u001b[0m\n\u001b[1;32m----> 1\u001b[1;33m \u001b[0mmy_perms\u001b[0m\u001b[1;33m[\u001b[0m\u001b[1;33m-\u001b[0m\u001b[1;36m1\u001b[0m\u001b[1;33m]\u001b[0m \u001b[1;33m=\u001b[0m \u001b[1;36m150\u001b[0m\u001b[1;33m\u001b[0m\u001b[1;33m\u001b[0m\u001b[0m\n\u001b[0m",
      "\u001b[1;31mTypeError\u001b[0m: 'tuple' object does not support item assignment"
     ]
    }
   ],
   "source": [
    "my_perms[-1] = 150"
   ]
  },
  {
   "cell_type": "markdown",
   "id": "b4829303",
   "metadata": {},
   "source": [
    "### Set : Unique-fy"
   ]
  },
  {
   "cell_type": "code",
   "execution_count": 108,
   "id": "9d76b01c",
   "metadata": {},
   "outputs": [
    {
     "data": {
      "text/plain": [
       "{0.2, 0.3}"
      ]
     },
     "execution_count": 108,
     "metadata": {},
     "output_type": "execute_result"
    }
   ],
   "source": [
    "my_dup_porosities = [0.20, 0.20, 0.30 , 0.30]\n",
    "\n",
    "set(my_dup_porosities)"
   ]
  },
  {
   "cell_type": "markdown",
   "id": "4e703ffe",
   "metadata": {},
   "source": [
    "## DICTIONARY******"
   ]
  },
  {
   "cell_type": "code",
   "execution_count": 109,
   "id": "2aeacd32",
   "metadata": {},
   "outputs": [],
   "source": [
    "bag_of_res_values = ['Poro', 0.23, 'Perm', 200]"
   ]
  },
  {
   "cell_type": "code",
   "execution_count": 114,
   "id": "9edbab05",
   "metadata": {},
   "outputs": [
    {
     "data": {
      "text/plain": [
       "{'Poro': [0.23, 24, 0.25], 'Perm': [200, 300, 400]}"
      ]
     },
     "execution_count": 114,
     "metadata": {},
     "output_type": "execute_result"
    }
   ],
   "source": [
    "res_data = {'Poro': [0.23 , 24, 0.25] , 'Perm': [200 , 300, 400]}\n",
    "\n",
    "res_data"
   ]
  },
  {
   "cell_type": "code",
   "execution_count": 115,
   "id": "a66a2a5f",
   "metadata": {},
   "outputs": [
    {
     "data": {
      "text/plain": [
       "[200, 300, 400]"
      ]
     },
     "execution_count": 115,
     "metadata": {},
     "output_type": "execute_result"
    }
   ],
   "source": [
    "res_data['Perm']"
   ]
  },
  {
   "cell_type": "code",
   "execution_count": 116,
   "id": "3493a6c4",
   "metadata": {},
   "outputs": [],
   "source": [
    "import pandas as pd"
   ]
  },
  {
   "cell_type": "code",
   "execution_count": 117,
   "id": "532aee99",
   "metadata": {},
   "outputs": [
    {
     "data": {
      "text/html": [
       "<div>\n",
       "<style scoped>\n",
       "    .dataframe tbody tr th:only-of-type {\n",
       "        vertical-align: middle;\n",
       "    }\n",
       "\n",
       "    .dataframe tbody tr th {\n",
       "        vertical-align: top;\n",
       "    }\n",
       "\n",
       "    .dataframe thead th {\n",
       "        text-align: right;\n",
       "    }\n",
       "</style>\n",
       "<table border=\"1\" class=\"dataframe\">\n",
       "  <thead>\n",
       "    <tr style=\"text-align: right;\">\n",
       "      <th></th>\n",
       "      <th>Poro</th>\n",
       "      <th>Perm</th>\n",
       "    </tr>\n",
       "  </thead>\n",
       "  <tbody>\n",
       "    <tr>\n",
       "      <th>0</th>\n",
       "      <td>0.23</td>\n",
       "      <td>200</td>\n",
       "    </tr>\n",
       "    <tr>\n",
       "      <th>1</th>\n",
       "      <td>24.00</td>\n",
       "      <td>300</td>\n",
       "    </tr>\n",
       "    <tr>\n",
       "      <th>2</th>\n",
       "      <td>0.25</td>\n",
       "      <td>400</td>\n",
       "    </tr>\n",
       "  </tbody>\n",
       "</table>\n",
       "</div>"
      ],
      "text/plain": [
       "    Poro  Perm\n",
       "0   0.23   200\n",
       "1  24.00   300\n",
       "2   0.25   400"
      ]
     },
     "execution_count": 117,
     "metadata": {},
     "output_type": "execute_result"
    }
   ],
   "source": [
    "pd.DataFrame(res_data)"
   ]
  },
  {
   "cell_type": "code",
   "execution_count": 121,
   "id": "be7954fe",
   "metadata": {},
   "outputs": [
    {
     "data": {
      "text/plain": [
       "{'Poro': [0.23, 0.24, 0.25], 'Perm': [200, 300, 400]}"
      ]
     },
     "execution_count": 121,
     "metadata": {},
     "output_type": "execute_result"
    }
   ],
   "source": [
    "res_data['Poro'][1] = 0.24\n",
    "res_data"
   ]
  },
  {
   "cell_type": "markdown",
   "id": "7c03ed96",
   "metadata": {},
   "source": [
    "## For loops : Computer's Iterating power"
   ]
  },
  {
   "cell_type": "code",
   "execution_count": 122,
   "id": "ccb6cb92",
   "metadata": {},
   "outputs": [
    {
     "ename": "TypeError",
     "evalue": "unsupported operand type(s) for ** or pow(): 'list' and 'int'",
     "output_type": "error",
     "traceback": [
      "\u001b[1;31m---------------------------------------------------------------------------\u001b[0m",
      "\u001b[1;31mTypeError\u001b[0m                                 Traceback (most recent call last)",
      "\u001b[1;32m~\\AppData\\Local\\Temp/ipykernel_16008/730111896.py\u001b[0m in \u001b[0;36m<module>\u001b[1;34m\u001b[0m\n\u001b[1;32m----> 1\u001b[1;33m \u001b[0mmy_porosities\u001b[0m\u001b[1;33m**\u001b[0m\u001b[1;36m2\u001b[0m\u001b[1;33m\u001b[0m\u001b[1;33m\u001b[0m\u001b[0m\n\u001b[0m",
      "\u001b[1;31mTypeError\u001b[0m: unsupported operand type(s) for ** or pow(): 'list' and 'int'"
     ]
    }
   ],
   "source": [
    "my_porosities**2"
   ]
  },
  {
   "cell_type": "code",
   "execution_count": 123,
   "id": "bc90bf65",
   "metadata": {},
   "outputs": [],
   "source": [
    "my_porosities_new = []\n",
    "\n",
    "\n",
    "for poro in my_porosities:\n",
    "    \n",
    "    poro_square = poro**2\n",
    "    \n",
    "    my_porosities_new.append(poro_square)"
   ]
  },
  {
   "cell_type": "code",
   "execution_count": 124,
   "id": "439bb9cf",
   "metadata": {},
   "outputs": [
    {
     "data": {
      "text/plain": [
       "[0.23, 0.24, 0.1, 0.43, 0.26, 0.1]"
      ]
     },
     "execution_count": 124,
     "metadata": {},
     "output_type": "execute_result"
    }
   ],
   "source": [
    "my_porosities"
   ]
  },
  {
   "cell_type": "code",
   "execution_count": 125,
   "id": "af66dcf5",
   "metadata": {},
   "outputs": [
    {
     "data": {
      "text/plain": [
       "[0.0529,\n",
       " 0.0576,\n",
       " 0.010000000000000002,\n",
       " 0.18489999999999998,\n",
       " 0.06760000000000001,\n",
       " 0.010000000000000002]"
      ]
     },
     "execution_count": 125,
     "metadata": {},
     "output_type": "execute_result"
    }
   ],
   "source": [
    "my_porosities_new"
   ]
  },
  {
   "cell_type": "markdown",
   "id": "8b85af7e",
   "metadata": {},
   "source": [
    "#### List + For loop : Slowest Combo ever = Turtle + Tortoise"
   ]
  },
  {
   "cell_type": "markdown",
   "id": "f3bec54d",
   "metadata": {},
   "source": [
    "----"
   ]
  },
  {
   "cell_type": "markdown",
   "id": "9348f343",
   "metadata": {},
   "source": [
    "# NumPy"
   ]
  },
  {
   "cell_type": "markdown",
   "id": "4d1507cd",
   "metadata": {},
   "source": [
    "import MarshalMathers as slimshady"
   ]
  },
  {
   "cell_type": "code",
   "execution_count": 129,
   "id": "3ecb0c85",
   "metadata": {},
   "outputs": [],
   "source": [
    "import numpy as np"
   ]
  },
  {
   "cell_type": "code",
   "execution_count": 131,
   "id": "9ac062ce",
   "metadata": {},
   "outputs": [
    {
     "data": {
      "text/plain": [
       "(6,)"
      ]
     },
     "execution_count": 131,
     "metadata": {},
     "output_type": "execute_result"
    }
   ],
   "source": [
    "poro_arr = np.array(my_porosities)\n",
    "\n",
    "poro_arr.shape"
   ]
  },
  {
   "cell_type": "code",
   "execution_count": 132,
   "id": "5cf98542",
   "metadata": {},
   "outputs": [
    {
     "data": {
      "text/plain": [
       "array([0.0529, 0.0576, 0.01  , 0.1849, 0.0676, 0.01  ])"
      ]
     },
     "execution_count": 132,
     "metadata": {},
     "output_type": "execute_result"
    }
   ],
   "source": [
    "poro_arr**2"
   ]
  },
  {
   "cell_type": "markdown",
   "id": "822721cd",
   "metadata": {},
   "source": [
    "#### NUMPY is FLASSSHHHHH!"
   ]
  },
  {
   "cell_type": "code",
   "execution_count": 134,
   "id": "6902ea59",
   "metadata": {},
   "outputs": [
    {
     "data": {
      "text/plain": [
       "(2, 3)"
      ]
     },
     "execution_count": 134,
     "metadata": {},
     "output_type": "execute_result"
    }
   ],
   "source": [
    "poro_2d = np.array([[0.2, 0.3, 0.25] , [0.21, 0.22, 0.13]])\n",
    "\n",
    "poro_2d.shape"
   ]
  },
  {
   "cell_type": "code",
   "execution_count": 135,
   "id": "4615288a",
   "metadata": {},
   "outputs": [
    {
     "data": {
      "text/plain": [
       "array([[0.04  , 0.09  , 0.0625],\n",
       "       [0.0441, 0.0484, 0.0169]])"
      ]
     },
     "execution_count": 135,
     "metadata": {},
     "output_type": "execute_result"
    }
   ],
   "source": [
    "poro_2d**2"
   ]
  },
  {
   "cell_type": "code",
   "execution_count": 136,
   "id": "9b205aab",
   "metadata": {},
   "outputs": [
    {
     "data": {
      "text/plain": [
       "array([[0.4 , 0.6 , 0.5 ],\n",
       "       [0.42, 0.44, 0.26]])"
      ]
     },
     "execution_count": 136,
     "metadata": {},
     "output_type": "execute_result"
    }
   ],
   "source": [
    "poro_2d*2"
   ]
  },
  {
   "cell_type": "code",
   "execution_count": 137,
   "id": "df073aad",
   "metadata": {},
   "outputs": [
    {
     "data": {
      "text/plain": [
       "array([[1.22140276, 1.34985881, 1.28402542],\n",
       "       [1.23367806, 1.24607673, 1.13882838]])"
      ]
     },
     "execution_count": 137,
     "metadata": {},
     "output_type": "execute_result"
    }
   ],
   "source": [
    "np.exp(poro_2d)"
   ]
  },
  {
   "cell_type": "code",
   "execution_count": 138,
   "id": "cf635051",
   "metadata": {},
   "outputs": [
    {
     "data": {
      "text/plain": [
       "array([[-0.69897   , -0.52287875, -0.60205999],\n",
       "       [-0.67778071, -0.65757732, -0.88605665]])"
      ]
     },
     "execution_count": 138,
     "metadata": {},
     "output_type": "execute_result"
    }
   ],
   "source": [
    "np.log10(poro_2d)"
   ]
  },
  {
   "cell_type": "code",
   "execution_count": 140,
   "id": "69da2b74",
   "metadata": {},
   "outputs": [
    {
     "data": {
      "text/plain": [
       "32"
      ]
     },
     "execution_count": 140,
     "metadata": {},
     "output_type": "execute_result"
    }
   ],
   "source": [
    "np.dot([1,2,3] , [4,5,6])"
   ]
  },
  {
   "cell_type": "markdown",
   "id": "4b29766a",
   "metadata": {},
   "source": [
    "# Introducing Visualizations : matplotlib\n",
    "\n",
    "#### np.linspace and np.arange"
   ]
  },
  {
   "cell_type": "code",
   "execution_count": 176,
   "id": "6da784fe",
   "metadata": {},
   "outputs": [],
   "source": [
    "# sw = np.arange(0 , 1+0.01 , 0.01)\n",
    "\n",
    "sw = np.linspace(0, 1.01, 500)\n",
    "\n",
    "krw = sw**3\n",
    "\n",
    "kro = (1-sw)**2"
   ]
  },
  {
   "cell_type": "code",
   "execution_count": 177,
   "id": "4c0e5522",
   "metadata": {},
   "outputs": [],
   "source": [
    "import matplotlib.pyplot as plt"
   ]
  },
  {
   "cell_type": "code",
   "execution_count": 178,
   "id": "9c33ef31",
   "metadata": {},
   "outputs": [
    {
     "data": {
      "image/png": "[encoded data removed]",
      "text/plain": [
       "<Figure size 432x288 with 1 Axes>"
      ]
     },
     "metadata": {
      "needs_background": "light"
     },
     "output_type": "display_data"
    }
   ],
   "source": [
    "#plt.plot(x,y)\n",
    "\n",
    "plt.plot(sw,krw , lw=3,label='Water Rel Perm');\n",
    "plt.plot(sw, kro , lw=3, label='Oil Rel Perm');\n",
    "plt.xlabel('Sw, Fraction')\n",
    "plt.ylabel('K_rel, Fraction (Krw, Kro)')\n",
    "plt.legend()\n",
    "\n",
    "plt.title('My First 2Phase Rel Perm Plot')\n",
    "plt.grid()"
   ]
  },
  {
   "cell_type": "markdown",
   "id": "a4a47446",
   "metadata": {},
   "source": [
    "### Random Number Generation in NumPy"
   ]
  },
  {
   "cell_type": "code",
   "execution_count": 179,
   "id": "153f220f",
   "metadata": {},
   "outputs": [
    {
     "data": {
      "text/plain": [
       "array([ 1.78933401,  0.84263821,  1.04365499, -0.46261587, -0.06523507,\n",
       "        0.29591932, -0.8943794 ,  2.28058743,  1.33732629,  0.93598435,\n",
       "        0.03215197, -0.48836334, -0.67041153,  0.40307397, -2.02637815,\n",
       "        0.75940794, -1.41758412, -0.05722065,  1.64305216,  0.94982791,\n",
       "        0.16549132,  0.13532742,  0.6801789 ,  1.14547661, -1.52585343,\n",
       "        0.41073405, -1.007366  , -0.00608645, -0.13184227,  0.496415  ,\n",
       "        1.09866023,  0.61949109, -0.48767309, -0.29280801,  1.41364309,\n",
       "        0.59013629, -0.64237725,  0.0707745 ,  0.18435512, -0.75955392,\n",
       "        0.19859285, -0.35299556, -0.22856826, -2.55484393, -0.31323091,\n",
       "       -1.27041956,  0.2113949 , -1.04459937, -0.08018484, -1.83487315,\n",
       "        0.85263938, -1.41754763, -0.70093782, -1.41677862, -0.60311119,\n",
       "        0.24698315, -1.47840054,  0.73523672,  1.04736397,  0.59694575,\n",
       "       -0.48746887,  0.29673111, -0.56129881, -0.39956019,  0.18372333,\n",
       "        1.79465795,  0.35883454,  1.60733461, -0.20280735,  0.46845824,\n",
       "       -0.59710007,  0.42123038,  0.70857922,  0.1910265 , -2.41088134,\n",
       "       -0.89962897,  0.12106462, -0.2474239 , -0.32196851, -0.30028614,\n",
       "       -0.58817928, -1.29984881, -0.74780928,  0.06645361, -0.39890015,\n",
       "       -0.99531501,  1.78301994,  1.02182013,  0.29983542,  1.00102874,\n",
       "       -0.14604971, -0.87688101, -0.47804317, -0.4817057 ,  0.35871109,\n",
       "        0.69546669,  0.31767626,  0.53399135,  0.70596675, -0.32863188])"
      ]
     },
     "execution_count": 179,
     "metadata": {},
     "output_type": "execute_result"
    }
   ],
   "source": [
    "np.random.normal(size=100)"
   ]
  },
  {
   "cell_type": "code",
   "execution_count": 180,
   "id": "5d0afbc8",
   "metadata": {},
   "outputs": [],
   "source": [
    "import seaborn as sns"
   ]
  },
  {
   "cell_type": "code",
   "execution_count": 184,
   "id": "f1dc56c8",
   "metadata": {},
   "outputs": [
    {
     "data": {
      "text/plain": [
       "<seaborn.axisgrid.FacetGrid at 0x26b9a781af0>"
      ]
     },
     "execution_count": 184,
     "metadata": {},
     "output_type": "execute_result"
    },
    {
     "data": {
      "image/png": "[encoded data removed]",
      "text/plain": [
       "<Figure size 360x360 with 1 Axes>"
      ]
     },
     "metadata": {
      "needs_background": "light"
     },
     "output_type": "display_data"
    }
   ],
   "source": [
    "sns.displot(np.random.normal(size=100000))"
   ]
  },
  {
   "cell_type": "markdown",
   "id": "fdd3cf72",
   "metadata": {},
   "source": [
    "---"
   ]
  },
  {
   "cell_type": "markdown",
   "id": "e08fcc59",
   "metadata": {},
   "source": [
    "### PANDAS - Excel of Python : Tabular Data"
   ]
  },
  {
   "cell_type": "code",
   "execution_count": 186,
   "id": "6ad86164",
   "metadata": {},
   "outputs": [],
   "source": [
    "import pandas as pd\n",
    "\n",
    "\n",
    "dataset_path = 'https://raw.githubusercontent.com/Divyanshu-ISM/Petroleum-DS-ML-with-Python/main/Pt.csv'"
   ]
  },
  {
   "cell_type": "code",
   "execution_count": 188,
   "id": "07ced9c5",
   "metadata": {},
   "outputs": [],
   "source": [
    "df = pd.read_csv(dataset_path)"
   ]
  },
  {
   "cell_type": "code",
   "execution_count": 209,
   "id": "d06d3daa",
   "metadata": {},
   "outputs": [],
   "source": [
    "# import os\n",
    "\n",
    "# os.listdir()"
   ]
  },
  {
   "cell_type": "code",
   "execution_count": 208,
   "id": "34334a70",
   "metadata": {},
   "outputs": [
    {
     "data": {
      "text/html": [
       "<div>\n",
       "<style scoped>\n",
       "    .dataframe tbody tr th:only-of-type {\n",
       "        vertical-align: middle;\n",
       "    }\n",
       "\n",
       "    .dataframe tbody tr th {\n",
       "        vertical-align: top;\n",
       "    }\n",
       "\n",
       "    .dataframe thead th {\n",
       "        text-align: right;\n",
       "    }\n",
       "</style>\n",
       "<table border=\"1\" class=\"dataframe\">\n",
       "  <thead>\n",
       "    <tr style=\"text-align: right;\">\n",
       "      <th></th>\n",
       "      <th>time</th>\n",
       "      <th>pressure</th>\n",
       "    </tr>\n",
       "  </thead>\n",
       "  <tbody>\n",
       "    <tr>\n",
       "      <th>0</th>\n",
       "      <td>0.0010</td>\n",
       "      <td>2743.96</td>\n",
       "    </tr>\n",
       "    <tr>\n",
       "      <th>1</th>\n",
       "      <td>0.0021</td>\n",
       "      <td>2737.52</td>\n",
       "    </tr>\n",
       "    <tr>\n",
       "      <th>2</th>\n",
       "      <td>0.0034</td>\n",
       "      <td>2730.16</td>\n",
       "    </tr>\n",
       "    <tr>\n",
       "      <th>3</th>\n",
       "      <td>0.0048</td>\n",
       "      <td>2722.32</td>\n",
       "    </tr>\n",
       "    <tr>\n",
       "      <th>4</th>\n",
       "      <td>0.0064</td>\n",
       "      <td>2713.83</td>\n",
       "    </tr>\n",
       "    <tr>\n",
       "      <th>...</th>\n",
       "      <td>...</td>\n",
       "      <td>...</td>\n",
       "    </tr>\n",
       "    <tr>\n",
       "      <th>73</th>\n",
       "      <td>48.7900</td>\n",
       "      <td>2269.77</td>\n",
       "    </tr>\n",
       "    <tr>\n",
       "      <th>74</th>\n",
       "      <td>54.7900</td>\n",
       "      <td>2267.69</td>\n",
       "    </tr>\n",
       "    <tr>\n",
       "      <th>75</th>\n",
       "      <td>60.7900</td>\n",
       "      <td>2265.73</td>\n",
       "    </tr>\n",
       "    <tr>\n",
       "      <th>76</th>\n",
       "      <td>66.7900</td>\n",
       "      <td>2264.46</td>\n",
       "    </tr>\n",
       "    <tr>\n",
       "      <th>77</th>\n",
       "      <td>72.0000</td>\n",
       "      <td>2262.99</td>\n",
       "    </tr>\n",
       "  </tbody>\n",
       "</table>\n",
       "<p>78 rows × 2 columns</p>\n",
       "</div>"
      ],
      "text/plain": [
       "       time  pressure\n",
       "0    0.0010   2743.96\n",
       "1    0.0021   2737.52\n",
       "2    0.0034   2730.16\n",
       "3    0.0048   2722.32\n",
       "4    0.0064   2713.83\n",
       "..      ...       ...\n",
       "73  48.7900   2269.77\n",
       "74  54.7900   2267.69\n",
       "75  60.7900   2265.73\n",
       "76  66.7900   2264.46\n",
       "77  72.0000   2262.99\n",
       "\n",
       "[78 rows x 2 columns]"
      ]
     },
     "execution_count": 208,
     "metadata": {},
     "output_type": "execute_result"
    }
   ],
   "source": [
    "# df.to_csv('WellTestData.csv')\n",
    "\n",
    "pd.read_csv('WellTestData.csv', index_col=0)"
   ]
  },
  {
   "cell_type": "code",
   "execution_count": 189,
   "id": "87cd1cb9",
   "metadata": {},
   "outputs": [
    {
     "data": {
      "text/html": [
       "<div>\n",
       "<style scoped>\n",
       "    .dataframe tbody tr th:only-of-type {\n",
       "        vertical-align: middle;\n",
       "    }\n",
       "\n",
       "    .dataframe tbody tr th {\n",
       "        vertical-align: top;\n",
       "    }\n",
       "\n",
       "    .dataframe thead th {\n",
       "        text-align: right;\n",
       "    }\n",
       "</style>\n",
       "<table border=\"1\" class=\"dataframe\">\n",
       "  <thead>\n",
       "    <tr style=\"text-align: right;\">\n",
       "      <th></th>\n",
       "      <th>time</th>\n",
       "      <th>pressure</th>\n",
       "    </tr>\n",
       "  </thead>\n",
       "  <tbody>\n",
       "    <tr>\n",
       "      <th>count</th>\n",
       "      <td>78.000000</td>\n",
       "      <td>78.000000</td>\n",
       "    </tr>\n",
       "    <tr>\n",
       "      <th>mean</th>\n",
       "      <td>8.883060</td>\n",
       "      <td>2409.228462</td>\n",
       "    </tr>\n",
       "    <tr>\n",
       "      <th>std</th>\n",
       "      <td>16.719921</td>\n",
       "      <td>148.266199</td>\n",
       "    </tr>\n",
       "    <tr>\n",
       "      <th>min</th>\n",
       "      <td>0.001000</td>\n",
       "      <td>2262.990000</td>\n",
       "    </tr>\n",
       "    <tr>\n",
       "      <th>25%</th>\n",
       "      <td>0.079025</td>\n",
       "      <td>2301.022500</td>\n",
       "    </tr>\n",
       "    <tr>\n",
       "      <th>50%</th>\n",
       "      <td>0.832500</td>\n",
       "      <td>2343.140000</td>\n",
       "    </tr>\n",
       "    <tr>\n",
       "      <th>75%</th>\n",
       "      <td>8.099250</td>\n",
       "      <td>2490.707500</td>\n",
       "    </tr>\n",
       "    <tr>\n",
       "      <th>max</th>\n",
       "      <td>72.000000</td>\n",
       "      <td>2743.960000</td>\n",
       "    </tr>\n",
       "  </tbody>\n",
       "</table>\n",
       "</div>"
      ],
      "text/plain": [
       "            time     pressure\n",
       "count  78.000000    78.000000\n",
       "mean    8.883060  2409.228462\n",
       "std    16.719921   148.266199\n",
       "min     0.001000  2262.990000\n",
       "25%     0.079025  2301.022500\n",
       "50%     0.832500  2343.140000\n",
       "75%     8.099250  2490.707500\n",
       "max    72.000000  2743.960000"
      ]
     },
     "execution_count": 189,
     "metadata": {},
     "output_type": "execute_result"
    }
   ],
   "source": [
    "df.describe()"
   ]
  },
  {
   "cell_type": "code",
   "execution_count": 190,
   "id": "bdf3fc45",
   "metadata": {},
   "outputs": [
    {
     "data": {
      "text/html": [
       "<div>\n",
       "<style scoped>\n",
       "    .dataframe tbody tr th:only-of-type {\n",
       "        vertical-align: middle;\n",
       "    }\n",
       "\n",
       "    .dataframe tbody tr th {\n",
       "        vertical-align: top;\n",
       "    }\n",
       "\n",
       "    .dataframe thead th {\n",
       "        text-align: right;\n",
       "    }\n",
       "</style>\n",
       "<table border=\"1\" class=\"dataframe\">\n",
       "  <thead>\n",
       "    <tr style=\"text-align: right;\">\n",
       "      <th></th>\n",
       "      <th>Poro</th>\n",
       "      <th>Perm</th>\n",
       "    </tr>\n",
       "  </thead>\n",
       "  <tbody>\n",
       "    <tr>\n",
       "      <th>0</th>\n",
       "      <td>0.23</td>\n",
       "      <td>200</td>\n",
       "    </tr>\n",
       "    <tr>\n",
       "      <th>1</th>\n",
       "      <td>0.24</td>\n",
       "      <td>300</td>\n",
       "    </tr>\n",
       "    <tr>\n",
       "      <th>2</th>\n",
       "      <td>0.25</td>\n",
       "      <td>400</td>\n",
       "    </tr>\n",
       "  </tbody>\n",
       "</table>\n",
       "</div>"
      ],
      "text/plain": [
       "   Poro  Perm\n",
       "0  0.23   200\n",
       "1  0.24   300\n",
       "2  0.25   400"
      ]
     },
     "execution_count": 190,
     "metadata": {},
     "output_type": "execute_result"
    }
   ],
   "source": [
    "pd.DataFrame(res_data)"
   ]
  },
  {
   "cell_type": "code",
   "execution_count": 191,
   "id": "3148df61",
   "metadata": {},
   "outputs": [
    {
     "data": {
      "text/plain": [
       "<AxesSubplot:>"
      ]
     },
     "execution_count": 191,
     "metadata": {},
     "output_type": "execute_result"
    },
    {
     "data": {
      "image/png": "[encoded data removed]",
      "text/plain": [
       "<Figure size 864x288 with 1 Axes>"
      ]
     },
     "metadata": {
      "needs_background": "light"
     },
     "output_type": "display_data"
    }
   ],
   "source": [
    "df.plot(figsize=(12, 4))"
   ]
  },
  {
   "cell_type": "code",
   "execution_count": 192,
   "id": "6bab6354",
   "metadata": {},
   "outputs": [
    {
     "data": {
      "text/html": [
       "<div>\n",
       "<style scoped>\n",
       "    .dataframe tbody tr th:only-of-type {\n",
       "        vertical-align: middle;\n",
       "    }\n",
       "\n",
       "    .dataframe tbody tr th {\n",
       "        vertical-align: top;\n",
       "    }\n",
       "\n",
       "    .dataframe thead th {\n",
       "        text-align: right;\n",
       "    }\n",
       "</style>\n",
       "<table border=\"1\" class=\"dataframe\">\n",
       "  <thead>\n",
       "    <tr style=\"text-align: right;\">\n",
       "      <th></th>\n",
       "      <th>time</th>\n",
       "      <th>pressure</th>\n",
       "    </tr>\n",
       "  </thead>\n",
       "  <tbody>\n",
       "    <tr>\n",
       "      <th>0</th>\n",
       "      <td>0.0010</td>\n",
       "      <td>2743.96</td>\n",
       "    </tr>\n",
       "    <tr>\n",
       "      <th>1</th>\n",
       "      <td>0.0021</td>\n",
       "      <td>2737.52</td>\n",
       "    </tr>\n",
       "    <tr>\n",
       "      <th>2</th>\n",
       "      <td>0.0034</td>\n",
       "      <td>2730.16</td>\n",
       "    </tr>\n",
       "    <tr>\n",
       "      <th>3</th>\n",
       "      <td>0.0048</td>\n",
       "      <td>2722.32</td>\n",
       "    </tr>\n",
       "    <tr>\n",
       "      <th>4</th>\n",
       "      <td>0.0064</td>\n",
       "      <td>2713.83</td>\n",
       "    </tr>\n",
       "    <tr>\n",
       "      <th>...</th>\n",
       "      <td>...</td>\n",
       "      <td>...</td>\n",
       "    </tr>\n",
       "    <tr>\n",
       "      <th>73</th>\n",
       "      <td>48.7900</td>\n",
       "      <td>2269.77</td>\n",
       "    </tr>\n",
       "    <tr>\n",
       "      <th>74</th>\n",
       "      <td>54.7900</td>\n",
       "      <td>2267.69</td>\n",
       "    </tr>\n",
       "    <tr>\n",
       "      <th>75</th>\n",
       "      <td>60.7900</td>\n",
       "      <td>2265.73</td>\n",
       "    </tr>\n",
       "    <tr>\n",
       "      <th>76</th>\n",
       "      <td>66.7900</td>\n",
       "      <td>2264.46</td>\n",
       "    </tr>\n",
       "    <tr>\n",
       "      <th>77</th>\n",
       "      <td>72.0000</td>\n",
       "      <td>2262.99</td>\n",
       "    </tr>\n",
       "  </tbody>\n",
       "</table>\n",
       "<p>78 rows × 2 columns</p>\n",
       "</div>"
      ],
      "text/plain": [
       "       time  pressure\n",
       "0    0.0010   2743.96\n",
       "1    0.0021   2737.52\n",
       "2    0.0034   2730.16\n",
       "3    0.0048   2722.32\n",
       "4    0.0064   2713.83\n",
       "..      ...       ...\n",
       "73  48.7900   2269.77\n",
       "74  54.7900   2267.69\n",
       "75  60.7900   2265.73\n",
       "76  66.7900   2264.46\n",
       "77  72.0000   2262.99\n",
       "\n",
       "[78 rows x 2 columns]"
      ]
     },
     "execution_count": 192,
     "metadata": {},
     "output_type": "execute_result"
    }
   ],
   "source": [
    "df"
   ]
  },
  {
   "cell_type": "markdown",
   "id": "10575c5f",
   "metadata": {},
   "source": [
    "### Accessing data in DataFrame"
   ]
  },
  {
   "cell_type": "code",
   "execution_count": 195,
   "id": "996e9d17",
   "metadata": {},
   "outputs": [],
   "source": [
    "#Accessing Columns\n",
    "time_col = df['time']\n",
    "\n",
    "pressure_col = df['pressure']"
   ]
  },
  {
   "cell_type": "code",
   "execution_count": 202,
   "id": "b6f72725",
   "metadata": {},
   "outputs": [
    {
     "data": {
      "text/html": [
       "<div>\n",
       "<style scoped>\n",
       "    .dataframe tbody tr th:only-of-type {\n",
       "        vertical-align: middle;\n",
       "    }\n",
       "\n",
       "    .dataframe tbody tr th {\n",
       "        vertical-align: top;\n",
       "    }\n",
       "\n",
       "    .dataframe thead th {\n",
       "        text-align: right;\n",
       "    }\n",
       "</style>\n",
       "<table border=\"1\" class=\"dataframe\">\n",
       "  <thead>\n",
       "    <tr style=\"text-align: right;\">\n",
       "      <th></th>\n",
       "      <th>time</th>\n",
       "      <th>pressure</th>\n",
       "    </tr>\n",
       "  </thead>\n",
       "  <tbody>\n",
       "    <tr>\n",
       "      <th>0</th>\n",
       "      <td>0.0010</td>\n",
       "      <td>2743.96</td>\n",
       "    </tr>\n",
       "    <tr>\n",
       "      <th>1</th>\n",
       "      <td>0.0021</td>\n",
       "      <td>2737.52</td>\n",
       "    </tr>\n",
       "    <tr>\n",
       "      <th>2</th>\n",
       "      <td>0.0034</td>\n",
       "      <td>2730.16</td>\n",
       "    </tr>\n",
       "    <tr>\n",
       "      <th>3</th>\n",
       "      <td>0.0048</td>\n",
       "      <td>2722.32</td>\n",
       "    </tr>\n",
       "    <tr>\n",
       "      <th>4</th>\n",
       "      <td>0.0064</td>\n",
       "      <td>2713.83</td>\n",
       "    </tr>\n",
       "    <tr>\n",
       "      <th>...</th>\n",
       "      <td>...</td>\n",
       "      <td>...</td>\n",
       "    </tr>\n",
       "    <tr>\n",
       "      <th>73</th>\n",
       "      <td>48.7900</td>\n",
       "      <td>2269.77</td>\n",
       "    </tr>\n",
       "    <tr>\n",
       "      <th>74</th>\n",
       "      <td>54.7900</td>\n",
       "      <td>2267.69</td>\n",
       "    </tr>\n",
       "    <tr>\n",
       "      <th>75</th>\n",
       "      <td>60.7900</td>\n",
       "      <td>2265.73</td>\n",
       "    </tr>\n",
       "    <tr>\n",
       "      <th>76</th>\n",
       "      <td>66.7900</td>\n",
       "      <td>2264.46</td>\n",
       "    </tr>\n",
       "    <tr>\n",
       "      <th>77</th>\n",
       "      <td>72.0000</td>\n",
       "      <td>2262.99</td>\n",
       "    </tr>\n",
       "  </tbody>\n",
       "</table>\n",
       "<p>78 rows × 2 columns</p>\n",
       "</div>"
      ],
      "text/plain": [
       "       time  pressure\n",
       "0    0.0010   2743.96\n",
       "1    0.0021   2737.52\n",
       "2    0.0034   2730.16\n",
       "3    0.0048   2722.32\n",
       "4    0.0064   2713.83\n",
       "..      ...       ...\n",
       "73  48.7900   2269.77\n",
       "74  54.7900   2267.69\n",
       "75  60.7900   2265.73\n",
       "76  66.7900   2264.46\n",
       "77  72.0000   2262.99\n",
       "\n",
       "[78 rows x 2 columns]"
      ]
     },
     "execution_count": 202,
     "metadata": {},
     "output_type": "execute_result"
    }
   ],
   "source": [
    "#Accessing rows : iloc\n",
    "\n",
    "df.iloc[0: , 0:]"
   ]
  },
  {
   "cell_type": "code",
   "execution_count": 203,
   "id": "23bf2617",
   "metadata": {},
   "outputs": [
    {
     "data": {
      "text/plain": [
       "[<matplotlib.lines.Line2D at 0x26b8ff7b1c0>]"
      ]
     },
     "execution_count": 203,
     "metadata": {},
     "output_type": "execute_result"
    },
    {
     "data": {
      "image/png": "[encoded data removed]",
      "text/plain": [
       "<Figure size 432x288 with 1 Axes>"
      ]
     },
     "metadata": {
      "needs_background": "light"
     },
     "output_type": "display_data"
    }
   ],
   "source": [
    "plt.plot(df['time'] , df['pressure'])"
   ]
  },
  {
   "cell_type": "code",
   "execution_count": 204,
   "id": "daef5e7e",
   "metadata": {},
   "outputs": [
    {
     "data": {
      "text/plain": [
       "[<matplotlib.lines.Line2D at 0x26b917c4700>]"
      ]
     },
     "execution_count": 204,
     "metadata": {},
     "output_type": "execute_result"
    },
    {
     "data": {
      "image/png": "[encoded data removed]",
      "text/plain": [
       "<Figure size 432x288 with 1 Axes>"
      ]
     },
     "metadata": {
      "needs_background": "light"
     },
     "output_type": "display_data"
    }
   ],
   "source": [
    "plt.plot(np.log(df['time']) , df['pressure'])"
   ]
  },
  {
   "cell_type": "markdown",
   "id": "2f4c907a",
   "metadata": {},
   "source": [
    "### creating new columns"
   ]
  },
  {
   "cell_type": "code",
   "execution_count": 210,
   "id": "e8e62692",
   "metadata": {},
   "outputs": [],
   "source": [
    "df['Log_Time'] = np.log(df['time'])"
   ]
  },
  {
   "cell_type": "code",
   "execution_count": 211,
   "id": "1d707456",
   "metadata": {},
   "outputs": [
    {
     "data": {
      "text/html": [
       "<div>\n",
       "<style scoped>\n",
       "    .dataframe tbody tr th:only-of-type {\n",
       "        vertical-align: middle;\n",
       "    }\n",
       "\n",
       "    .dataframe tbody tr th {\n",
       "        vertical-align: top;\n",
       "    }\n",
       "\n",
       "    .dataframe thead th {\n",
       "        text-align: right;\n",
       "    }\n",
       "</style>\n",
       "<table border=\"1\" class=\"dataframe\">\n",
       "  <thead>\n",
       "    <tr style=\"text-align: right;\">\n",
       "      <th></th>\n",
       "      <th>time</th>\n",
       "      <th>pressure</th>\n",
       "      <th>Log_Time</th>\n",
       "    </tr>\n",
       "  </thead>\n",
       "  <tbody>\n",
       "    <tr>\n",
       "      <th>0</th>\n",
       "      <td>0.0010</td>\n",
       "      <td>2743.96</td>\n",
       "      <td>-6.907755</td>\n",
       "    </tr>\n",
       "    <tr>\n",
       "      <th>1</th>\n",
       "      <td>0.0021</td>\n",
       "      <td>2737.52</td>\n",
       "      <td>-6.165818</td>\n",
       "    </tr>\n",
       "    <tr>\n",
       "      <th>2</th>\n",
       "      <td>0.0034</td>\n",
       "      <td>2730.16</td>\n",
       "      <td>-5.683980</td>\n",
       "    </tr>\n",
       "    <tr>\n",
       "      <th>3</th>\n",
       "      <td>0.0048</td>\n",
       "      <td>2722.32</td>\n",
       "      <td>-5.339139</td>\n",
       "    </tr>\n",
       "    <tr>\n",
       "      <th>4</th>\n",
       "      <td>0.0064</td>\n",
       "      <td>2713.83</td>\n",
       "      <td>-5.051457</td>\n",
       "    </tr>\n",
       "  </tbody>\n",
       "</table>\n",
       "</div>"
      ],
      "text/plain": [
       "     time  pressure  Log_Time\n",
       "0  0.0010   2743.96 -6.907755\n",
       "1  0.0021   2737.52 -6.165818\n",
       "2  0.0034   2730.16 -5.683980\n",
       "3  0.0048   2722.32 -5.339139\n",
       "4  0.0064   2713.83 -5.051457"
      ]
     },
     "execution_count": 211,
     "metadata": {},
     "output_type": "execute_result"
    }
   ],
   "source": [
    "df.head()"
   ]
  },
  {
   "cell_type": "code",
   "execution_count": 213,
   "id": "e7cd075d",
   "metadata": {},
   "outputs": [],
   "source": [
    "# df.to_csv('WellTestLogTime.csv')"
   ]
  },
  {
   "cell_type": "code",
   "execution_count": 215,
   "id": "16070374",
   "metadata": {},
   "outputs": [],
   "source": [
    "df_new = pd.read_csv('WellTestLogTime.csv', index_col=0)"
   ]
  },
  {
   "cell_type": "code",
   "execution_count": 216,
   "id": "99181dad",
   "metadata": {},
   "outputs": [
    {
     "data": {
      "text/plain": [
       "[<matplotlib.lines.Line2D at 0x26b9240a4c0>]"
      ]
     },
     "execution_count": 216,
     "metadata": {},
     "output_type": "execute_result"
    },
    {
     "data": {
      "image/png": "[encoded data removed]",
      "text/plain": [
       "<Figure size 432x288 with 1 Axes>"
      ]
     },
     "metadata": {
      "needs_background": "light"
     },
     "output_type": "display_data"
    }
   ],
   "source": [
    "plt.plot(df_new['Log_Time'], df_new['pressure'])"
   ]
  },
  {
   "cell_type": "markdown",
   "id": "b4682f4c",
   "metadata": {},
   "source": [
    "#### HW : Carry on with it and do the Log-Log Analysis on this Well Test Data"
   ]
  },
  {
   "cell_type": "markdown",
   "id": "992ca7e0",
   "metadata": {},
   "source": [
    "----"
   ]
  },
  {
   "cell_type": "markdown",
   "id": "cbcfb002",
   "metadata": {},
   "source": [
    "## Functions in Python"
   ]
  },
  {
   "cell_type": "code",
   "execution_count": 217,
   "id": "daf66d54",
   "metadata": {},
   "outputs": [],
   "source": [
    "# Quadratic Eqn : 5x^2 + 4X + 3"
   ]
  },
  {
   "cell_type": "code",
   "execution_count": 219,
   "id": "1b2f97bc",
   "metadata": {},
   "outputs": [
    {
     "data": {
      "text/plain": [
       "4"
      ]
     },
     "execution_count": 219,
     "metadata": {},
     "output_type": "execute_result"
    }
   ],
   "source": [
    "def squarer(n):\n",
    "    return n**2\n",
    "\n",
    "squarer(2)"
   ]
  },
  {
   "cell_type": "code",
   "execution_count": 221,
   "id": "3a912f8a",
   "metadata": {},
   "outputs": [],
   "source": [
    "def rocket_science_expression(x):\n",
    "    \n",
    "    return 5*x**2 + 4*x + 3"
   ]
  },
  {
   "cell_type": "code",
   "execution_count": 222,
   "id": "a90c6b0a",
   "metadata": {},
   "outputs": [
    {
     "data": {
      "text/plain": [
       "50403"
      ]
     },
     "execution_count": 222,
     "metadata": {},
     "output_type": "execute_result"
    }
   ],
   "source": [
    "rocket_science_expression(100)"
   ]
  },
  {
   "cell_type": "markdown",
   "id": "2260734d",
   "metadata": {},
   "source": [
    "----"
   ]
  },
  {
   "cell_type": "code",
   "execution_count": null,
   "id": "5a7c7d27",
   "metadata": {},
   "outputs": [],
   "source": []
  },
  {
   "cell_type": "code",
   "execution_count": null,
   "id": "ff455192",
   "metadata": {},
   "outputs": [],
   "source": []
  },
  {
   "cell_type": "code",
   "execution_count": null,
   "id": "5af50506",
   "metadata": {},
   "outputs": [],
   "source": []
  },
  {
   "cell_type": "code",
   "execution_count": null,
   "id": "57b4b25f",
   "metadata": {},
   "outputs": [],
   "source": []
  },
  {
   "cell_type": "code",
   "execution_count": null,
   "id": "5ceb3f97",
   "metadata": {},
   "outputs": [],
   "source": []
  },
  {
   "cell_type": "code",
   "execution_count": null,
   "id": "b079a6f5",
   "metadata": {},
   "outputs": [],
   "source": []
  },
  {
   "cell_type": "code",
   "execution_count": null,
   "id": "ddcf81d9",
   "metadata": {},
   "outputs": [],
   "source": []
  },
  {
   "cell_type": "code",
   "execution_count": null,
   "id": "fd86a215",
   "metadata": {},
   "outputs": [],
   "source": []
  },
  {
   "cell_type": "code",
   "execution_count": null,
   "id": "1ea75284",
   "metadata": {},
   "outputs": [],
   "source": []
  }
 ],
 "metadata": {
  "kernelspec": {
   "display_name": "Python 3 (ipykernel)",
   "language": "python",
   "name": "python3"
  },
  "language_info": {
   "codemirror_mode": {
    "name": "ipython",
    "version": 3
   },
   "file_extension": ".py",
   "mimetype": "text/x-python",
   "name": "python",
   "nbconvert_exporter": "python",
   "pygments_lexer": "ipython3",
   "version": "3.9.7"
  }
 },
 "nbformat": 4,
 "nbformat_minor": 5
}
